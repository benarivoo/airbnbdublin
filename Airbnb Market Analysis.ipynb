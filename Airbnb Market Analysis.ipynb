{
 "cells": [
  {
   "cell_type": "markdown",
   "id": "b292549d",
   "metadata": {},
   "source": [
    "<h1> Airbnb Market Analysis Dublin"
   ]
  },
  {
   "cell_type": "markdown",
   "id": "d60f9596",
   "metadata": {},
   "source": [
    " By Ben Benarivo 02/28/2023"
   ]
  },
  {
   "cell_type": "markdown",
   "id": "ee2165e8",
   "metadata": {},
   "source": [
    "A new city manager for Airbnb has started in Dublin and wants to better understand:\n",
    "\n",
    "- what guests are searching for in Dublin,\n",
    "- which inquiries hosts tend to accept.\n",
    "\n",
    "Based on the findings the new city manager will try to boost the number and quality of hosts in Dublin to fit the demands from guests. The goal of this challenge is to analyze, understand, visualize, and communicate the demand / supply in the market. For example you may want to look at the breakdown of start date day of the week, or number of nights, or room type that is searched for, and how many hosts accepted the reservation. In particular, we are interested in:\n",
    "\n",
    "- what the gaps are between guest demand and host supply that the new city manager could plug to increase the number of bookings in Dublin,\n",
    "- what other data would be useful to have to deepen the analysis and understanding."
   ]
  },
  {
   "cell_type": "markdown",
   "id": "e2d0b097",
   "metadata": {},
   "source": [
    "<h2> 1. Import Data from BigQuery"
   ]
  },
  {
   "cell_type": "code",
   "execution_count": 1,
   "id": "c31daec3",
   "metadata": {},
   "outputs": [],
   "source": [
    "from google.cloud import bigquery\n",
    "import pandas as pd\n",
    "import math\n",
    "import seaborn as sns\n",
    "import matplotlib.pyplot as plt\n",
    "import numpy as np"
   ]
  },
  {
   "cell_type": "code",
   "execution_count": 2,
   "id": "56d5f728",
   "metadata": {},
   "outputs": [
    {
     "name": "stdout",
     "output_type": "stream",
     "text": [
      "Please visit this URL to authorize this application: https://accounts.google.com/o/oauth2/auth?response_type=code&client_id=1064719782872-h57jdvksrdd22am5891otdpdee2mfick.apps.googleusercontent.com&redirect_uri=http%3A%2F%2Flocalhost%3A8080%2F&scope=https%3A%2F%2Fwww.googleapis.com%2Fauth%2Fbigquery&state=l3XTP25y3Qyhnq9p4qjwNFr6XA8Sxn&access_type=offline\n"
     ]
    }
   ],
   "source": [
    "from google_auth_oauthlib import flow\n",
    "\n",
    "# TODO: Uncomment the line below to set the `launch_browser` variable.\n",
    "launch_browser = True\n",
    "#\n",
    "# The `launch_browser` boolean variable indicates if a local server is used\n",
    "# as the callback URL in the auth flow. A value of `True` is recommended,\n",
    "# but a local server does not work if accessing the application remotely,\n",
    "# such as over SSH or from a remote Jupyter notebook.\n",
    "\n",
    "appflow = flow.InstalledAppFlow.from_client_secrets_file(\n",
    "    \"client_secret.json\", scopes=[\"https://www.googleapis.com/auth/bigquery\"]\n",
    ")\n",
    "\n",
    "if launch_browser:\n",
    "    appflow.run_local_server()\n",
    "else:\n",
    "    appflow.run_console()\n",
    "\n",
    "credentials = appflow.credentials"
   ]
  },
  {
   "cell_type": "code",
   "execution_count": 3,
   "id": "0ba293a2",
   "metadata": {},
   "outputs": [],
   "source": [
    "from google.cloud import bigquery\n",
    "\n",
    "# TODO: Uncomment the line below to set the `project` variable.\n",
    "project = 'prime-dogfish-376602'\n",
    "#\n",
    "# The `project` variable defines the project to be billed for query\n",
    "# processing. The user must have the bigquery.jobs.create permission on\n",
    "# this project to run a query. See:\n",
    "# https://cloud.google.com/bigquery/docs/access-control#permissions\n",
    "\n",
    "client = bigquery.Client(project=project, credentials=credentials)\n",
    "\n",
    "query_string = \"\"\" SELECT *\n",
    "FROM `prime-dogfish-376602.airbnbdublinmarket.Contacts`;\n",
    "\"\"\"\n",
    "\n",
    "df_contacts = client.query(query_string).to_dataframe()"
   ]
  },
  {
   "cell_type": "code",
   "execution_count": 4,
   "id": "b18a14de",
   "metadata": {},
   "outputs": [
    {
     "data": {
      "text/html": [
       "<div>\n",
       "<style scoped>\n",
       "    .dataframe tbody tr th:only-of-type {\n",
       "        vertical-align: middle;\n",
       "    }\n",
       "\n",
       "    .dataframe tbody tr th {\n",
       "        vertical-align: top;\n",
       "    }\n",
       "\n",
       "    .dataframe thead th {\n",
       "        text-align: right;\n",
       "    }\n",
       "</style>\n",
       "<table border=\"1\" class=\"dataframe\">\n",
       "  <thead>\n",
       "    <tr style=\"text-align: right;\">\n",
       "      <th></th>\n",
       "      <th>id_guest</th>\n",
       "      <th>id_host</th>\n",
       "      <th>id_listing</th>\n",
       "      <th>ts_contact_at</th>\n",
       "      <th>ts_reply_at</th>\n",
       "      <th>ts_accepted_at</th>\n",
       "      <th>ts_booking_at</th>\n",
       "      <th>ds_checkin</th>\n",
       "      <th>ds_checkout</th>\n",
       "      <th>n_guests</th>\n",
       "      <th>n_messages</th>\n",
       "    </tr>\n",
       "  </thead>\n",
       "  <tbody>\n",
       "    <tr>\n",
       "      <th>0</th>\n",
       "      <td>23439f9d-1bc3-4189-8c0a-4b803da3740a</td>\n",
       "      <td>1076c74d-ca8f-4381-856e-0ef45b9e1692</td>\n",
       "      <td>125ff7c3-e002-4e14-86c3-ce27af0e70b5</td>\n",
       "      <td>2014-10-07 21:17:39+00:00</td>\n",
       "      <td>2014-10-12 17:33:28.0</td>\n",
       "      <td>NULL</td>\n",
       "      <td>NULL</td>\n",
       "      <td>2014-11-10</td>\n",
       "      <td>2014-11-12</td>\n",
       "      <td>1</td>\n",
       "      <td>2</td>\n",
       "    </tr>\n",
       "    <tr>\n",
       "      <th>1</th>\n",
       "      <td>23439f9d-1bc3-4189-8c0a-4b803da3740a</td>\n",
       "      <td>4f351532-59dc-4706-898a-0c4d25f1b125</td>\n",
       "      <td>94c2dc52-f0f4-409c-9c3d-af36e152f9d9</td>\n",
       "      <td>2014-10-07 21:13:32+00:00</td>\n",
       "      <td>2014-10-07 21:23:58.0</td>\n",
       "      <td>NULL</td>\n",
       "      <td>NULL</td>\n",
       "      <td>2014-11-10</td>\n",
       "      <td>2014-11-12</td>\n",
       "      <td>1</td>\n",
       "      <td>2</td>\n",
       "    </tr>\n",
       "    <tr>\n",
       "      <th>2</th>\n",
       "      <td>23439f9d-1bc3-4189-8c0a-4b803da3740a</td>\n",
       "      <td>becd48ad-623e-4821-9538-e9d8f84f1cac</td>\n",
       "      <td>d6763e59-b5ea-406f-8fbb-4cf4d597f332</td>\n",
       "      <td>2014-10-07 21:02:46+00:00</td>\n",
       "      <td>2014-10-07 21:17:57.0</td>\n",
       "      <td>2014-10-13 21:06:33.0</td>\n",
       "      <td>2014-10-13 21:06:33.0</td>\n",
       "      <td>2014-11-10</td>\n",
       "      <td>2014-11-12</td>\n",
       "      <td>1</td>\n",
       "      <td>6</td>\n",
       "    </tr>\n",
       "    <tr>\n",
       "      <th>3</th>\n",
       "      <td>7629ea29-ff0a-429b-982f-39f4a0da6eb5</td>\n",
       "      <td>28980988-2a4e-4516-bf62-5c47b3ba62b2</td>\n",
       "      <td>2a6efb76-ce28-4811-8f01-b9cdc0be5f2a</td>\n",
       "      <td>2014-09-29 16:29:22+00:00</td>\n",
       "      <td>2014-09-29 18:25:11.0</td>\n",
       "      <td>2014-09-29 18:25:17.0</td>\n",
       "      <td>NULL</td>\n",
       "      <td>2014-11-10</td>\n",
       "      <td>2014-11-30</td>\n",
       "      <td>1</td>\n",
       "      <td>5</td>\n",
       "    </tr>\n",
       "    <tr>\n",
       "      <th>4</th>\n",
       "      <td>8eed188c-02d7-455d-9c90-aba0f391d8d2</td>\n",
       "      <td>8ccb3e6b-7b90-4de7-ac10-1e8f35824d23</td>\n",
       "      <td>09d5efd5-381b-460c-8df2-47e9a4d9c5dd</td>\n",
       "      <td>2014-10-04 15:46:14+00:00</td>\n",
       "      <td>2014-10-04 15:52:49.0</td>\n",
       "      <td>2014-10-04 15:52:49.0</td>\n",
       "      <td>2014-10-05 05:01:41.0</td>\n",
       "      <td>2014-11-10</td>\n",
       "      <td>2014-11-13</td>\n",
       "      <td>1</td>\n",
       "      <td>19</td>\n",
       "    </tr>\n",
       "    <tr>\n",
       "      <th>5</th>\n",
       "      <td>97276eb6-a988-46c9-9c62-2cd2be97fad4</td>\n",
       "      <td>882d1e82-a229-470b-ac01-2e417e7f2daa</td>\n",
       "      <td>8f1c98b8-0f35-4258-8dc7-3743106a4455</td>\n",
       "      <td>2014-10-16 21:46:38+00:00</td>\n",
       "      <td>2014-10-17 01:04:31.0</td>\n",
       "      <td>NULL</td>\n",
       "      <td>NULL</td>\n",
       "      <td>2014-11-10</td>\n",
       "      <td>2014-11-12</td>\n",
       "      <td>1</td>\n",
       "      <td>4</td>\n",
       "    </tr>\n",
       "    <tr>\n",
       "      <th>6</th>\n",
       "      <td>9f8eebb9-95e9-493b-b6df-b75e531b7876</td>\n",
       "      <td>cb6e8d00-6a32-4ade-bd12-3e6dce9784f3</td>\n",
       "      <td>487a7671-c5d4-467d-bdb4-797f31980a2b</td>\n",
       "      <td>2014-10-12 12:29:09+00:00</td>\n",
       "      <td>2014-10-12 17:24:17.0</td>\n",
       "      <td>2014-10-12 17:24:17.0</td>\n",
       "      <td>2014-10-14 11:27:16.0</td>\n",
       "      <td>2014-11-10</td>\n",
       "      <td>2014-12-19</td>\n",
       "      <td>1</td>\n",
       "      <td>8</td>\n",
       "    </tr>\n",
       "    <tr>\n",
       "      <th>7</th>\n",
       "      <td>b5674966-7390-460f-8dde-c615b8783062</td>\n",
       "      <td>a83f92fb-fcbf-445b-8cb5-516560f50601</td>\n",
       "      <td>746c951e-6861-4b8b-9ee5-1c4fdabec2f8</td>\n",
       "      <td>2014-10-13 03:18:26+00:00</td>\n",
       "      <td>2014-10-13 04:12:59.0</td>\n",
       "      <td>2014-10-13 04:12:59.0</td>\n",
       "      <td>2014-10-13 04:12:59.0</td>\n",
       "      <td>2014-11-10</td>\n",
       "      <td>2014-11-12</td>\n",
       "      <td>1</td>\n",
       "      <td>26</td>\n",
       "    </tr>\n",
       "    <tr>\n",
       "      <th>8</th>\n",
       "      <td>02f0a750-34da-4268-94e8-f1a371f0460e</td>\n",
       "      <td>86b39b70-965b-479d-a0b0-719b195acea2</td>\n",
       "      <td>e5dd99cd-ad45-409b-ac13-ab9a576a41a3</td>\n",
       "      <td>2014-10-09 10:10:42+00:00</td>\n",
       "      <td>2014-10-11 10:07:50.0</td>\n",
       "      <td>2014-10-11 20:51:12.0</td>\n",
       "      <td>NULL</td>\n",
       "      <td>2014-11-11</td>\n",
       "      <td>2014-11-19</td>\n",
       "      <td>1</td>\n",
       "      <td>9</td>\n",
       "    </tr>\n",
       "    <tr>\n",
       "      <th>9</th>\n",
       "      <td>289f6109-a24b-4880-a6bf-1f3f5e9d551a</td>\n",
       "      <td>6535d260-8062-4089-bc27-8fdf2bcbfb63</td>\n",
       "      <td>98edd793-0138-4853-989e-7d8497cefc60</td>\n",
       "      <td>2014-10-10 17:26:34+00:00</td>\n",
       "      <td>2014-10-10 23:12:34.0</td>\n",
       "      <td>2014-10-10 23:12:40.0</td>\n",
       "      <td>2014-10-10 23:12:40.0</td>\n",
       "      <td>2014-11-11</td>\n",
       "      <td>2014-11-16</td>\n",
       "      <td>1</td>\n",
       "      <td>12</td>\n",
       "    </tr>\n",
       "  </tbody>\n",
       "</table>\n",
       "</div>"
      ],
      "text/plain": [
       "                               id_guest                               id_host  \\\n",
       "0  23439f9d-1bc3-4189-8c0a-4b803da3740a  1076c74d-ca8f-4381-856e-0ef45b9e1692   \n",
       "1  23439f9d-1bc3-4189-8c0a-4b803da3740a  4f351532-59dc-4706-898a-0c4d25f1b125   \n",
       "2  23439f9d-1bc3-4189-8c0a-4b803da3740a  becd48ad-623e-4821-9538-e9d8f84f1cac   \n",
       "3  7629ea29-ff0a-429b-982f-39f4a0da6eb5  28980988-2a4e-4516-bf62-5c47b3ba62b2   \n",
       "4  8eed188c-02d7-455d-9c90-aba0f391d8d2  8ccb3e6b-7b90-4de7-ac10-1e8f35824d23   \n",
       "5  97276eb6-a988-46c9-9c62-2cd2be97fad4  882d1e82-a229-470b-ac01-2e417e7f2daa   \n",
       "6  9f8eebb9-95e9-493b-b6df-b75e531b7876  cb6e8d00-6a32-4ade-bd12-3e6dce9784f3   \n",
       "7  b5674966-7390-460f-8dde-c615b8783062  a83f92fb-fcbf-445b-8cb5-516560f50601   \n",
       "8  02f0a750-34da-4268-94e8-f1a371f0460e  86b39b70-965b-479d-a0b0-719b195acea2   \n",
       "9  289f6109-a24b-4880-a6bf-1f3f5e9d551a  6535d260-8062-4089-bc27-8fdf2bcbfb63   \n",
       "\n",
       "                             id_listing             ts_contact_at  \\\n",
       "0  125ff7c3-e002-4e14-86c3-ce27af0e70b5 2014-10-07 21:17:39+00:00   \n",
       "1  94c2dc52-f0f4-409c-9c3d-af36e152f9d9 2014-10-07 21:13:32+00:00   \n",
       "2  d6763e59-b5ea-406f-8fbb-4cf4d597f332 2014-10-07 21:02:46+00:00   \n",
       "3  2a6efb76-ce28-4811-8f01-b9cdc0be5f2a 2014-09-29 16:29:22+00:00   \n",
       "4  09d5efd5-381b-460c-8df2-47e9a4d9c5dd 2014-10-04 15:46:14+00:00   \n",
       "5  8f1c98b8-0f35-4258-8dc7-3743106a4455 2014-10-16 21:46:38+00:00   \n",
       "6  487a7671-c5d4-467d-bdb4-797f31980a2b 2014-10-12 12:29:09+00:00   \n",
       "7  746c951e-6861-4b8b-9ee5-1c4fdabec2f8 2014-10-13 03:18:26+00:00   \n",
       "8  e5dd99cd-ad45-409b-ac13-ab9a576a41a3 2014-10-09 10:10:42+00:00   \n",
       "9  98edd793-0138-4853-989e-7d8497cefc60 2014-10-10 17:26:34+00:00   \n",
       "\n",
       "             ts_reply_at         ts_accepted_at          ts_booking_at  \\\n",
       "0  2014-10-12 17:33:28.0                   NULL                   NULL   \n",
       "1  2014-10-07 21:23:58.0                   NULL                   NULL   \n",
       "2  2014-10-07 21:17:57.0  2014-10-13 21:06:33.0  2014-10-13 21:06:33.0   \n",
       "3  2014-09-29 18:25:11.0  2014-09-29 18:25:17.0                   NULL   \n",
       "4  2014-10-04 15:52:49.0  2014-10-04 15:52:49.0  2014-10-05 05:01:41.0   \n",
       "5  2014-10-17 01:04:31.0                   NULL                   NULL   \n",
       "6  2014-10-12 17:24:17.0  2014-10-12 17:24:17.0  2014-10-14 11:27:16.0   \n",
       "7  2014-10-13 04:12:59.0  2014-10-13 04:12:59.0  2014-10-13 04:12:59.0   \n",
       "8  2014-10-11 10:07:50.0  2014-10-11 20:51:12.0                   NULL   \n",
       "9  2014-10-10 23:12:34.0  2014-10-10 23:12:40.0  2014-10-10 23:12:40.0   \n",
       "\n",
       "   ds_checkin ds_checkout  n_guests  n_messages  \n",
       "0  2014-11-10  2014-11-12         1           2  \n",
       "1  2014-11-10  2014-11-12         1           2  \n",
       "2  2014-11-10  2014-11-12         1           6  \n",
       "3  2014-11-10  2014-11-30         1           5  \n",
       "4  2014-11-10  2014-11-13         1          19  \n",
       "5  2014-11-10  2014-11-12         1           4  \n",
       "6  2014-11-10  2014-12-19         1           8  \n",
       "7  2014-11-10  2014-11-12         1          26  \n",
       "8  2014-11-11  2014-11-19         1           9  \n",
       "9  2014-11-11  2014-11-16         1          12  "
      ]
     },
     "execution_count": 4,
     "metadata": {},
     "output_type": "execute_result"
    }
   ],
   "source": [
    "df_contacts.head(10)"
   ]
  },
  {
   "cell_type": "code",
   "execution_count": 5,
   "id": "320d77d4",
   "metadata": {},
   "outputs": [],
   "source": [
    "query_string = \"\"\" SELECT *\n",
    "FROM `prime-dogfish-376602.airbnbdublinmarket.Searches`;\n",
    "\"\"\"\n",
    "\n",
    "df_searches = client.query(query_string).to_dataframe()"
   ]
  },
  {
   "cell_type": "markdown",
   "id": "f1d51638",
   "metadata": {},
   "source": [
    "<h2> 2. Initial Data Cleaning: Search Data"
   ]
  },
  {
   "cell_type": "markdown",
   "id": "d24b8df3",
   "metadata": {},
   "source": [
    "In this section, we want to:\n",
    "\n",
    "    1. the type of data in each dataset\n",
    "    2. correct the data format / type"
   ]
  },
  {
   "cell_type": "markdown",
   "id": "2cce3880",
   "metadata": {},
   "source": [
    "<h3> 2.a. Update the NULL values"
   ]
  },
  {
   "cell_type": "code",
   "execution_count": 6,
   "id": "3bca6c4b",
   "metadata": {},
   "outputs": [
    {
     "name": "stdout",
     "output_type": "stream",
     "text": [
      "<class 'pandas.core.frame.DataFrame'>\n",
      "RangeIndex: 35737 entries, 0 to 35736\n",
      "Data columns (total 13 columns):\n",
      " #   Column                Non-Null Count  Dtype \n",
      "---  ------                --------------  ----- \n",
      " 0   ds                    35737 non-null  dbdate\n",
      " 1   id_user               35737 non-null  object\n",
      " 2   ds_checkin            35737 non-null  object\n",
      " 3   ds_checkout           35737 non-null  object\n",
      " 4   n_searches            35737 non-null  Int64 \n",
      " 5   n_nights              35737 non-null  object\n",
      " 6   n_guests_min          35737 non-null  Int64 \n",
      " 7   n_guests_max          35737 non-null  Int64 \n",
      " 8   origin_country        35737 non-null  object\n",
      " 9   filter_price_min      35737 non-null  object\n",
      " 10  filter_price_max      35737 non-null  object\n",
      " 11  filter_room_types     16191 non-null  object\n",
      " 12  filter_neighborhoods  1346 non-null   object\n",
      "dtypes: Int64(3), dbdate(1), object(9)\n",
      "memory usage: 3.6+ MB\n"
     ]
    }
   ],
   "source": [
    "df_searches.info()"
   ]
  },
  {
   "cell_type": "code",
   "execution_count": 7,
   "id": "bb6f3e14",
   "metadata": {},
   "outputs": [
    {
     "data": {
      "text/html": [
       "<div>\n",
       "<style scoped>\n",
       "    .dataframe tbody tr th:only-of-type {\n",
       "        vertical-align: middle;\n",
       "    }\n",
       "\n",
       "    .dataframe tbody tr th {\n",
       "        vertical-align: top;\n",
       "    }\n",
       "\n",
       "    .dataframe thead th {\n",
       "        text-align: right;\n",
       "    }\n",
       "</style>\n",
       "<table border=\"1\" class=\"dataframe\">\n",
       "  <thead>\n",
       "    <tr style=\"text-align: right;\">\n",
       "      <th></th>\n",
       "      <th>ds</th>\n",
       "      <th>id_user</th>\n",
       "      <th>ds_checkin</th>\n",
       "      <th>ds_checkout</th>\n",
       "      <th>n_searches</th>\n",
       "      <th>n_nights</th>\n",
       "      <th>n_guests_min</th>\n",
       "      <th>n_guests_max</th>\n",
       "      <th>origin_country</th>\n",
       "      <th>filter_price_min</th>\n",
       "      <th>filter_price_max</th>\n",
       "      <th>filter_room_types</th>\n",
       "      <th>filter_neighborhoods</th>\n",
       "    </tr>\n",
       "  </thead>\n",
       "  <tbody>\n",
       "    <tr>\n",
       "      <th>35734</th>\n",
       "      <td>2014-10-04</td>\n",
       "      <td>a5c65d22-0ce8-45a9-a409-fec05ad0f364</td>\n",
       "      <td>2015-09-13</td>\n",
       "      <td>2015-09-18</td>\n",
       "      <td>3</td>\n",
       "      <td>5</td>\n",
       "      <td>16</td>\n",
       "      <td>16</td>\n",
       "      <td>US</td>\n",
       "      <td>NULL</td>\n",
       "      <td>NULL</td>\n",
       "      <td>None</td>\n",
       "      <td>None</td>\n",
       "    </tr>\n",
       "    <tr>\n",
       "      <th>35735</th>\n",
       "      <td>2014-10-05</td>\n",
       "      <td>a5c65d22-0ce8-45a9-a409-fec05ad0f364</td>\n",
       "      <td>2015-09-13</td>\n",
       "      <td>2015-09-18</td>\n",
       "      <td>2</td>\n",
       "      <td>5</td>\n",
       "      <td>16</td>\n",
       "      <td>16</td>\n",
       "      <td>US</td>\n",
       "      <td>NULL</td>\n",
       "      <td>NULL</td>\n",
       "      <td>None</td>\n",
       "      <td>None</td>\n",
       "    </tr>\n",
       "    <tr>\n",
       "      <th>35736</th>\n",
       "      <td>2014-10-03</td>\n",
       "      <td>a5c65d22-0ce8-45a9-a409-fec05ad0f364</td>\n",
       "      <td>2015-09-14</td>\n",
       "      <td>2015-09-18</td>\n",
       "      <td>1</td>\n",
       "      <td>4</td>\n",
       "      <td>16</td>\n",
       "      <td>16</td>\n",
       "      <td>US</td>\n",
       "      <td>NULL</td>\n",
       "      <td>NULL</td>\n",
       "      <td>None</td>\n",
       "      <td>None</td>\n",
       "    </tr>\n",
       "  </tbody>\n",
       "</table>\n",
       "</div>"
      ],
      "text/plain": [
       "               ds                               id_user  ds_checkin  \\\n",
       "35734  2014-10-04  a5c65d22-0ce8-45a9-a409-fec05ad0f364  2015-09-13   \n",
       "35735  2014-10-05  a5c65d22-0ce8-45a9-a409-fec05ad0f364  2015-09-13   \n",
       "35736  2014-10-03  a5c65d22-0ce8-45a9-a409-fec05ad0f364  2015-09-14   \n",
       "\n",
       "      ds_checkout  n_searches n_nights  n_guests_min  n_guests_max  \\\n",
       "35734  2015-09-18           3        5            16            16   \n",
       "35735  2015-09-18           2        5            16            16   \n",
       "35736  2015-09-18           1        4            16            16   \n",
       "\n",
       "      origin_country filter_price_min filter_price_max filter_room_types  \\\n",
       "35734             US             NULL             NULL              None   \n",
       "35735             US             NULL             NULL              None   \n",
       "35736             US             NULL             NULL              None   \n",
       "\n",
       "      filter_neighborhoods  \n",
       "35734                 None  \n",
       "35735                 None  \n",
       "35736                 None  "
      ]
     },
     "execution_count": 7,
     "metadata": {},
     "output_type": "execute_result"
    }
   ],
   "source": [
    "df_searches.tail(3)"
   ]
  },
  {
   "cell_type": "code",
   "execution_count": 8,
   "id": "c7f70cb5",
   "metadata": {},
   "outputs": [
    {
     "data": {
      "text/plain": [
       "ds                          0\n",
       "id_user                     0\n",
       "ds_checkin                  0\n",
       "ds_checkout                 0\n",
       "n_searches                  0\n",
       "n_nights                    0\n",
       "n_guests_min                0\n",
       "n_guests_max                0\n",
       "origin_country              0\n",
       "filter_price_min            0\n",
       "filter_price_max            0\n",
       "filter_room_types       19546\n",
       "filter_neighborhoods    34391\n",
       "dtype: int64"
      ]
     },
     "execution_count": 8,
     "metadata": {},
     "output_type": "execute_result"
    }
   ],
   "source": [
    "df_searches.isnull().sum()"
   ]
  },
  {
   "cell_type": "markdown",
   "id": "c4902079",
   "metadata": {},
   "source": [
    "There are 'NULL' data that we have to set to None. Because right now the NULL value is taken into account as a string value, as we see above that the number of NULL values are 0 in several columns that actually has 'NULL' data."
   ]
  },
  {
   "cell_type": "code",
   "execution_count": 9,
   "id": "4768169d",
   "metadata": {},
   "outputs": [
    {
     "data": {
      "text/plain": [
       "Series([], Name: ds, dtype: dbdate)"
      ]
     },
     "execution_count": 9,
     "metadata": {},
     "output_type": "execute_result"
    }
   ],
   "source": [
    "df_searches['ds'].loc[df_searches['ds'] == 'NULL']"
   ]
  },
  {
   "cell_type": "code",
   "execution_count": 10,
   "id": "6a12ed1f",
   "metadata": {},
   "outputs": [
    {
     "data": {
      "text/plain": [
       "Series([], Name: id_user, dtype: object)"
      ]
     },
     "execution_count": 10,
     "metadata": {},
     "output_type": "execute_result"
    }
   ],
   "source": [
    "df_searches['id_user'].loc[df_searches['id_user'] == 'NULL']"
   ]
  },
  {
   "cell_type": "code",
   "execution_count": 11,
   "id": "ea5c4ca8",
   "metadata": {},
   "outputs": [
    {
     "data": {
      "text/plain": [
       "0        NULL\n",
       "1        NULL\n",
       "2        NULL\n",
       "3        NULL\n",
       "4        NULL\n",
       "         ... \n",
       "35678    NULL\n",
       "35679    NULL\n",
       "35680    NULL\n",
       "35681    NULL\n",
       "35682    NULL\n",
       "Name: ds_checkin, Length: 11849, dtype: object"
      ]
     },
     "execution_count": 11,
     "metadata": {},
     "output_type": "execute_result"
    }
   ],
   "source": [
    "df_searches['ds_checkin'].loc[df_searches['ds_checkin'] == 'NULL']"
   ]
  },
  {
   "cell_type": "code",
   "execution_count": 12,
   "id": "0566e8cf",
   "metadata": {},
   "outputs": [
    {
     "name": "stderr",
     "output_type": "stream",
     "text": [
      "C:\\Users\\bnriv\\anaconda3\\lib\\site-packages\\pandas\\core\\indexing.py:1637: SettingWithCopyWarning: \n",
      "A value is trying to be set on a copy of a slice from a DataFrame\n",
      "\n",
      "See the caveats in the documentation: https://pandas.pydata.org/pandas-docs/stable/user_guide/indexing.html#returning-a-view-versus-a-copy\n",
      "  self._setitem_single_block(indexer, value, name)\n"
     ]
    }
   ],
   "source": [
    "df_searches['ds_checkin'].loc[df_searches['ds_checkin'] == 'NULL'] = None"
   ]
  },
  {
   "cell_type": "code",
   "execution_count": 13,
   "id": "4cca96ad",
   "metadata": {},
   "outputs": [
    {
     "data": {
      "text/plain": [
       "0              None\n",
       "1              None\n",
       "2              None\n",
       "3              None\n",
       "4              None\n",
       "            ...    \n",
       "35732    2015-07-17\n",
       "35733    2015-07-31\n",
       "35734    2015-09-13\n",
       "35735    2015-09-13\n",
       "35736    2015-09-14\n",
       "Name: ds_checkin, Length: 35737, dtype: object"
      ]
     },
     "execution_count": 13,
     "metadata": {},
     "output_type": "execute_result"
    }
   ],
   "source": [
    "df_searches['ds_checkin']"
   ]
  },
  {
   "cell_type": "code",
   "execution_count": 14,
   "id": "121d73c6",
   "metadata": {},
   "outputs": [],
   "source": [
    "df_searches['ds_checkout'].loc[df_searches['ds_checkout'] == 'NULL'] = None"
   ]
  },
  {
   "cell_type": "code",
   "execution_count": 15,
   "id": "015da0c1",
   "metadata": {},
   "outputs": [
    {
     "data": {
      "text/plain": [
       "0              None\n",
       "1              None\n",
       "2              None\n",
       "3              None\n",
       "4              None\n",
       "            ...    \n",
       "35732    2015-07-20\n",
       "35733    2015-08-02\n",
       "35734    2015-09-18\n",
       "35735    2015-09-18\n",
       "35736    2015-09-18\n",
       "Name: ds_checkout, Length: 35737, dtype: object"
      ]
     },
     "execution_count": 15,
     "metadata": {},
     "output_type": "execute_result"
    }
   ],
   "source": [
    "df_searches['ds_checkout']"
   ]
  },
  {
   "cell_type": "code",
   "execution_count": 16,
   "id": "695a3078",
   "metadata": {},
   "outputs": [],
   "source": [
    "df_searches['n_searches'].loc[df_searches['n_searches'] == 'NULL'] = None"
   ]
  },
  {
   "cell_type": "code",
   "execution_count": 17,
   "id": "d9d4fbcd",
   "metadata": {},
   "outputs": [
    {
     "name": "stderr",
     "output_type": "stream",
     "text": [
      "C:\\Users\\bnriv\\anaconda3\\lib\\site-packages\\pandas\\core\\indexing.py:1637: SettingWithCopyWarning: \n",
      "A value is trying to be set on a copy of a slice from a DataFrame\n",
      "\n",
      "See the caveats in the documentation: https://pandas.pydata.org/pandas-docs/stable/user_guide/indexing.html#returning-a-view-versus-a-copy\n",
      "  self._setitem_single_block(indexer, value, name)\n"
     ]
    }
   ],
   "source": [
    "df_searches['n_nights'].loc[df_searches['n_nights'] == 'NULL'] = None"
   ]
  },
  {
   "cell_type": "code",
   "execution_count": 18,
   "id": "0c4f6eb4",
   "metadata": {},
   "outputs": [],
   "source": [
    "df_searches['n_guests_min'].loc[df_searches['n_guests_min'] == 'NULL'] = None"
   ]
  },
  {
   "cell_type": "code",
   "execution_count": 19,
   "id": "b62ac19d",
   "metadata": {},
   "outputs": [],
   "source": [
    "df_searches['n_guests_max'].loc[df_searches['n_guests_max'] == 'NULL'] = None"
   ]
  },
  {
   "cell_type": "code",
   "execution_count": 20,
   "id": "2deb211b",
   "metadata": {},
   "outputs": [
    {
     "name": "stderr",
     "output_type": "stream",
     "text": [
      "C:\\Users\\bnriv\\anaconda3\\lib\\site-packages\\pandas\\core\\indexing.py:1637: SettingWithCopyWarning: \n",
      "A value is trying to be set on a copy of a slice from a DataFrame\n",
      "\n",
      "See the caveats in the documentation: https://pandas.pydata.org/pandas-docs/stable/user_guide/indexing.html#returning-a-view-versus-a-copy\n",
      "  self._setitem_single_block(indexer, value, name)\n"
     ]
    }
   ],
   "source": [
    "df_searches['origin_country'].loc[df_searches['origin_country'] == 'NULL'] = None"
   ]
  },
  {
   "cell_type": "code",
   "execution_count": 21,
   "id": "ad75f687",
   "metadata": {},
   "outputs": [],
   "source": [
    "df_searches['origin_country'].loc[df_searches['origin_country'] == 'NULL'] = None"
   ]
  },
  {
   "cell_type": "code",
   "execution_count": 22,
   "id": "597db13b",
   "metadata": {},
   "outputs": [],
   "source": [
    "df_searches['filter_price_min'].loc[df_searches['filter_price_min'] == 'NULL'] = None"
   ]
  },
  {
   "cell_type": "code",
   "execution_count": 23,
   "id": "c3005c5d",
   "metadata": {},
   "outputs": [],
   "source": [
    "df_searches['filter_price_max'].loc[df_searches['filter_price_max'] == 'NULL'] = None"
   ]
  },
  {
   "cell_type": "code",
   "execution_count": 24,
   "id": "fb32ccc4",
   "metadata": {},
   "outputs": [],
   "source": [
    "df_searches['filter_room_types'].loc[df_searches['filter_room_types'] == 'NULL'] = None"
   ]
  },
  {
   "cell_type": "code",
   "execution_count": 25,
   "id": "986766a0",
   "metadata": {},
   "outputs": [],
   "source": [
    "df_searches['filter_neighborhoods'].loc[df_searches['filter_neighborhoods'] == 'NULL'] = None"
   ]
  },
  {
   "cell_type": "code",
   "execution_count": 26,
   "id": "66a9327b",
   "metadata": {},
   "outputs": [
    {
     "data": {
      "text/html": [
       "<div>\n",
       "<style scoped>\n",
       "    .dataframe tbody tr th:only-of-type {\n",
       "        vertical-align: middle;\n",
       "    }\n",
       "\n",
       "    .dataframe tbody tr th {\n",
       "        vertical-align: top;\n",
       "    }\n",
       "\n",
       "    .dataframe thead th {\n",
       "        text-align: right;\n",
       "    }\n",
       "</style>\n",
       "<table border=\"1\" class=\"dataframe\">\n",
       "  <thead>\n",
       "    <tr style=\"text-align: right;\">\n",
       "      <th></th>\n",
       "      <th>ds</th>\n",
       "      <th>id_user</th>\n",
       "      <th>ds_checkin</th>\n",
       "      <th>ds_checkout</th>\n",
       "      <th>n_searches</th>\n",
       "      <th>n_nights</th>\n",
       "      <th>n_guests_min</th>\n",
       "      <th>n_guests_max</th>\n",
       "      <th>origin_country</th>\n",
       "      <th>filter_price_min</th>\n",
       "      <th>filter_price_max</th>\n",
       "      <th>filter_room_types</th>\n",
       "      <th>filter_neighborhoods</th>\n",
       "    </tr>\n",
       "  </thead>\n",
       "  <tbody>\n",
       "    <tr>\n",
       "      <th>0</th>\n",
       "      <td>2014-10-01</td>\n",
       "      <td>000cd9d3-e05b-4016-9e09-34a6f8ba2fc5</td>\n",
       "      <td>None</td>\n",
       "      <td>None</td>\n",
       "      <td>1</td>\n",
       "      <td>None</td>\n",
       "      <td>1</td>\n",
       "      <td>1</td>\n",
       "      <td>GB</td>\n",
       "      <td>None</td>\n",
       "      <td>None</td>\n",
       "      <td>None</td>\n",
       "      <td>None</td>\n",
       "    </tr>\n",
       "    <tr>\n",
       "      <th>1</th>\n",
       "      <td>2014-10-01</td>\n",
       "      <td>001c04f0-5a94-4ee0-bf5d-3591265256de</td>\n",
       "      <td>None</td>\n",
       "      <td>None</td>\n",
       "      <td>1</td>\n",
       "      <td>None</td>\n",
       "      <td>1</td>\n",
       "      <td>1</td>\n",
       "      <td>IE</td>\n",
       "      <td>None</td>\n",
       "      <td>None</td>\n",
       "      <td>None</td>\n",
       "      <td>None</td>\n",
       "    </tr>\n",
       "    <tr>\n",
       "      <th>2</th>\n",
       "      <td>2014-10-01</td>\n",
       "      <td>00dbfc14-e378-40c9-b841-28f60275109d</td>\n",
       "      <td>None</td>\n",
       "      <td>None</td>\n",
       "      <td>4</td>\n",
       "      <td>None</td>\n",
       "      <td>1</td>\n",
       "      <td>1</td>\n",
       "      <td>IT</td>\n",
       "      <td>None</td>\n",
       "      <td>None</td>\n",
       "      <td>None</td>\n",
       "      <td>None</td>\n",
       "    </tr>\n",
       "    <tr>\n",
       "      <th>3</th>\n",
       "      <td>2014-10-01</td>\n",
       "      <td>00fb5de4-9865-420f-bc85-22521121a1ca</td>\n",
       "      <td>None</td>\n",
       "      <td>None</td>\n",
       "      <td>4</td>\n",
       "      <td>None</td>\n",
       "      <td>1</td>\n",
       "      <td>1</td>\n",
       "      <td>DE</td>\n",
       "      <td>None</td>\n",
       "      <td>None</td>\n",
       "      <td>None</td>\n",
       "      <td>None</td>\n",
       "    </tr>\n",
       "    <tr>\n",
       "      <th>4</th>\n",
       "      <td>2014-10-01</td>\n",
       "      <td>01887780-4ede-4e25-9aa6-e0349cd7c0c9</td>\n",
       "      <td>None</td>\n",
       "      <td>None</td>\n",
       "      <td>6</td>\n",
       "      <td>None</td>\n",
       "      <td>1</td>\n",
       "      <td>1</td>\n",
       "      <td>US</td>\n",
       "      <td>None</td>\n",
       "      <td>None</td>\n",
       "      <td>None</td>\n",
       "      <td>None</td>\n",
       "    </tr>\n",
       "  </tbody>\n",
       "</table>\n",
       "</div>"
      ],
      "text/plain": [
       "           ds                               id_user ds_checkin ds_checkout  \\\n",
       "0  2014-10-01  000cd9d3-e05b-4016-9e09-34a6f8ba2fc5       None        None   \n",
       "1  2014-10-01  001c04f0-5a94-4ee0-bf5d-3591265256de       None        None   \n",
       "2  2014-10-01  00dbfc14-e378-40c9-b841-28f60275109d       None        None   \n",
       "3  2014-10-01  00fb5de4-9865-420f-bc85-22521121a1ca       None        None   \n",
       "4  2014-10-01  01887780-4ede-4e25-9aa6-e0349cd7c0c9       None        None   \n",
       "\n",
       "   n_searches n_nights  n_guests_min  n_guests_max origin_country  \\\n",
       "0           1     None             1             1             GB   \n",
       "1           1     None             1             1             IE   \n",
       "2           4     None             1             1             IT   \n",
       "3           4     None             1             1             DE   \n",
       "4           6     None             1             1             US   \n",
       "\n",
       "  filter_price_min filter_price_max filter_room_types filter_neighborhoods  \n",
       "0             None             None              None                 None  \n",
       "1             None             None              None                 None  \n",
       "2             None             None              None                 None  \n",
       "3             None             None              None                 None  \n",
       "4             None             None              None                 None  "
      ]
     },
     "execution_count": 26,
     "metadata": {},
     "output_type": "execute_result"
    }
   ],
   "source": [
    "df_searches.head(5)"
   ]
  },
  {
   "cell_type": "code",
   "execution_count": 27,
   "id": "6154cc91",
   "metadata": {},
   "outputs": [
    {
     "data": {
      "text/plain": [
       "ds                          0\n",
       "id_user                     0\n",
       "ds_checkin              11849\n",
       "ds_checkout             11849\n",
       "n_searches                  0\n",
       "n_nights                11849\n",
       "n_guests_min                0\n",
       "n_guests_max                0\n",
       "origin_country              0\n",
       "filter_price_min        22415\n",
       "filter_price_max        22415\n",
       "filter_room_types       19546\n",
       "filter_neighborhoods    34391\n",
       "dtype: int64"
      ]
     },
     "execution_count": 27,
     "metadata": {},
     "output_type": "execute_result"
    }
   ],
   "source": [
    "df_searches.isnull().sum()"
   ]
  },
  {
   "cell_type": "markdown",
   "id": "a197a605",
   "metadata": {},
   "source": [
    "Based on above, we have finished the update for the NULL values"
   ]
  },
  {
   "cell_type": "markdown",
   "id": "e2c87c87",
   "metadata": {},
   "source": [
    "<h3> 2.b. Update the data type"
   ]
  },
  {
   "cell_type": "code",
   "execution_count": 28,
   "id": "c688472f",
   "metadata": {},
   "outputs": [
    {
     "name": "stdout",
     "output_type": "stream",
     "text": [
      "<class 'pandas.core.frame.DataFrame'>\n",
      "RangeIndex: 35737 entries, 0 to 35736\n",
      "Data columns (total 13 columns):\n",
      " #   Column                Non-Null Count  Dtype \n",
      "---  ------                --------------  ----- \n",
      " 0   ds                    35737 non-null  dbdate\n",
      " 1   id_user               35737 non-null  object\n",
      " 2   ds_checkin            23888 non-null  object\n",
      " 3   ds_checkout           23888 non-null  object\n",
      " 4   n_searches            35737 non-null  Int64 \n",
      " 5   n_nights              23888 non-null  object\n",
      " 6   n_guests_min          35737 non-null  Int64 \n",
      " 7   n_guests_max          35737 non-null  Int64 \n",
      " 8   origin_country        35737 non-null  object\n",
      " 9   filter_price_min      13322 non-null  object\n",
      " 10  filter_price_max      13322 non-null  object\n",
      " 11  filter_room_types     16191 non-null  object\n",
      " 12  filter_neighborhoods  1346 non-null   object\n",
      "dtypes: Int64(3), dbdate(1), object(9)\n",
      "memory usage: 3.6+ MB\n"
     ]
    }
   ],
   "source": [
    "df_searches.info()"
   ]
  },
  {
   "cell_type": "markdown",
   "id": "12068f60",
   "metadata": {},
   "source": [
    "We need to set the data type of each column correctly"
   ]
  },
  {
   "cell_type": "code",
   "execution_count": 29,
   "id": "820759bf",
   "metadata": {},
   "outputs": [],
   "source": [
    "df_searches['ds']= pd.to_datetime(df_searches['ds'])"
   ]
  },
  {
   "cell_type": "code",
   "execution_count": 30,
   "id": "e7e76512",
   "metadata": {},
   "outputs": [
    {
     "data": {
      "text/html": [
       "<div>\n",
       "<style scoped>\n",
       "    .dataframe tbody tr th:only-of-type {\n",
       "        vertical-align: middle;\n",
       "    }\n",
       "\n",
       "    .dataframe tbody tr th {\n",
       "        vertical-align: top;\n",
       "    }\n",
       "\n",
       "    .dataframe thead th {\n",
       "        text-align: right;\n",
       "    }\n",
       "</style>\n",
       "<table border=\"1\" class=\"dataframe\">\n",
       "  <thead>\n",
       "    <tr style=\"text-align: right;\">\n",
       "      <th></th>\n",
       "      <th>ds</th>\n",
       "      <th>id_user</th>\n",
       "      <th>ds_checkin</th>\n",
       "      <th>ds_checkout</th>\n",
       "      <th>n_searches</th>\n",
       "      <th>n_nights</th>\n",
       "      <th>n_guests_min</th>\n",
       "      <th>n_guests_max</th>\n",
       "      <th>origin_country</th>\n",
       "      <th>filter_price_min</th>\n",
       "      <th>filter_price_max</th>\n",
       "      <th>filter_room_types</th>\n",
       "      <th>filter_neighborhoods</th>\n",
       "    </tr>\n",
       "  </thead>\n",
       "  <tbody>\n",
       "    <tr>\n",
       "      <th>35734</th>\n",
       "      <td>2014-10-04</td>\n",
       "      <td>a5c65d22-0ce8-45a9-a409-fec05ad0f364</td>\n",
       "      <td>2015-09-13</td>\n",
       "      <td>2015-09-18</td>\n",
       "      <td>3</td>\n",
       "      <td>5</td>\n",
       "      <td>16</td>\n",
       "      <td>16</td>\n",
       "      <td>US</td>\n",
       "      <td>None</td>\n",
       "      <td>None</td>\n",
       "      <td>None</td>\n",
       "      <td>None</td>\n",
       "    </tr>\n",
       "    <tr>\n",
       "      <th>35735</th>\n",
       "      <td>2014-10-05</td>\n",
       "      <td>a5c65d22-0ce8-45a9-a409-fec05ad0f364</td>\n",
       "      <td>2015-09-13</td>\n",
       "      <td>2015-09-18</td>\n",
       "      <td>2</td>\n",
       "      <td>5</td>\n",
       "      <td>16</td>\n",
       "      <td>16</td>\n",
       "      <td>US</td>\n",
       "      <td>None</td>\n",
       "      <td>None</td>\n",
       "      <td>None</td>\n",
       "      <td>None</td>\n",
       "    </tr>\n",
       "    <tr>\n",
       "      <th>35736</th>\n",
       "      <td>2014-10-03</td>\n",
       "      <td>a5c65d22-0ce8-45a9-a409-fec05ad0f364</td>\n",
       "      <td>2015-09-14</td>\n",
       "      <td>2015-09-18</td>\n",
       "      <td>1</td>\n",
       "      <td>4</td>\n",
       "      <td>16</td>\n",
       "      <td>16</td>\n",
       "      <td>US</td>\n",
       "      <td>None</td>\n",
       "      <td>None</td>\n",
       "      <td>None</td>\n",
       "      <td>None</td>\n",
       "    </tr>\n",
       "  </tbody>\n",
       "</table>\n",
       "</div>"
      ],
      "text/plain": [
       "              ds                               id_user  ds_checkin  \\\n",
       "35734 2014-10-04  a5c65d22-0ce8-45a9-a409-fec05ad0f364  2015-09-13   \n",
       "35735 2014-10-05  a5c65d22-0ce8-45a9-a409-fec05ad0f364  2015-09-13   \n",
       "35736 2014-10-03  a5c65d22-0ce8-45a9-a409-fec05ad0f364  2015-09-14   \n",
       "\n",
       "      ds_checkout  n_searches n_nights  n_guests_min  n_guests_max  \\\n",
       "35734  2015-09-18           3        5            16            16   \n",
       "35735  2015-09-18           2        5            16            16   \n",
       "35736  2015-09-18           1        4            16            16   \n",
       "\n",
       "      origin_country filter_price_min filter_price_max filter_room_types  \\\n",
       "35734             US             None             None              None   \n",
       "35735             US             None             None              None   \n",
       "35736             US             None             None              None   \n",
       "\n",
       "      filter_neighborhoods  \n",
       "35734                 None  \n",
       "35735                 None  \n",
       "35736                 None  "
      ]
     },
     "execution_count": 30,
     "metadata": {},
     "output_type": "execute_result"
    }
   ],
   "source": [
    "df_searches.tail(3)"
   ]
  },
  {
   "cell_type": "code",
   "execution_count": 31,
   "id": "e3076629",
   "metadata": {},
   "outputs": [],
   "source": [
    "df_searches['id_user']= df_searches['id_user'].astype('string')"
   ]
  },
  {
   "cell_type": "code",
   "execution_count": 32,
   "id": "98f49605",
   "metadata": {},
   "outputs": [
    {
     "data": {
      "text/html": [
       "<div>\n",
       "<style scoped>\n",
       "    .dataframe tbody tr th:only-of-type {\n",
       "        vertical-align: middle;\n",
       "    }\n",
       "\n",
       "    .dataframe tbody tr th {\n",
       "        vertical-align: top;\n",
       "    }\n",
       "\n",
       "    .dataframe thead th {\n",
       "        text-align: right;\n",
       "    }\n",
       "</style>\n",
       "<table border=\"1\" class=\"dataframe\">\n",
       "  <thead>\n",
       "    <tr style=\"text-align: right;\">\n",
       "      <th></th>\n",
       "      <th>ds</th>\n",
       "      <th>id_user</th>\n",
       "      <th>ds_checkin</th>\n",
       "      <th>ds_checkout</th>\n",
       "      <th>n_searches</th>\n",
       "      <th>n_nights</th>\n",
       "      <th>n_guests_min</th>\n",
       "      <th>n_guests_max</th>\n",
       "      <th>origin_country</th>\n",
       "      <th>filter_price_min</th>\n",
       "      <th>filter_price_max</th>\n",
       "      <th>filter_room_types</th>\n",
       "      <th>filter_neighborhoods</th>\n",
       "    </tr>\n",
       "  </thead>\n",
       "  <tbody>\n",
       "    <tr>\n",
       "      <th>35734</th>\n",
       "      <td>2014-10-04</td>\n",
       "      <td>a5c65d22-0ce8-45a9-a409-fec05ad0f364</td>\n",
       "      <td>2015-09-13</td>\n",
       "      <td>2015-09-18</td>\n",
       "      <td>3</td>\n",
       "      <td>5</td>\n",
       "      <td>16</td>\n",
       "      <td>16</td>\n",
       "      <td>US</td>\n",
       "      <td>None</td>\n",
       "      <td>None</td>\n",
       "      <td>None</td>\n",
       "      <td>None</td>\n",
       "    </tr>\n",
       "    <tr>\n",
       "      <th>35735</th>\n",
       "      <td>2014-10-05</td>\n",
       "      <td>a5c65d22-0ce8-45a9-a409-fec05ad0f364</td>\n",
       "      <td>2015-09-13</td>\n",
       "      <td>2015-09-18</td>\n",
       "      <td>2</td>\n",
       "      <td>5</td>\n",
       "      <td>16</td>\n",
       "      <td>16</td>\n",
       "      <td>US</td>\n",
       "      <td>None</td>\n",
       "      <td>None</td>\n",
       "      <td>None</td>\n",
       "      <td>None</td>\n",
       "    </tr>\n",
       "    <tr>\n",
       "      <th>35736</th>\n",
       "      <td>2014-10-03</td>\n",
       "      <td>a5c65d22-0ce8-45a9-a409-fec05ad0f364</td>\n",
       "      <td>2015-09-14</td>\n",
       "      <td>2015-09-18</td>\n",
       "      <td>1</td>\n",
       "      <td>4</td>\n",
       "      <td>16</td>\n",
       "      <td>16</td>\n",
       "      <td>US</td>\n",
       "      <td>None</td>\n",
       "      <td>None</td>\n",
       "      <td>None</td>\n",
       "      <td>None</td>\n",
       "    </tr>\n",
       "  </tbody>\n",
       "</table>\n",
       "</div>"
      ],
      "text/plain": [
       "              ds                               id_user  ds_checkin  \\\n",
       "35734 2014-10-04  a5c65d22-0ce8-45a9-a409-fec05ad0f364  2015-09-13   \n",
       "35735 2014-10-05  a5c65d22-0ce8-45a9-a409-fec05ad0f364  2015-09-13   \n",
       "35736 2014-10-03  a5c65d22-0ce8-45a9-a409-fec05ad0f364  2015-09-14   \n",
       "\n",
       "      ds_checkout  n_searches n_nights  n_guests_min  n_guests_max  \\\n",
       "35734  2015-09-18           3        5            16            16   \n",
       "35735  2015-09-18           2        5            16            16   \n",
       "35736  2015-09-18           1        4            16            16   \n",
       "\n",
       "      origin_country filter_price_min filter_price_max filter_room_types  \\\n",
       "35734             US             None             None              None   \n",
       "35735             US             None             None              None   \n",
       "35736             US             None             None              None   \n",
       "\n",
       "      filter_neighborhoods  \n",
       "35734                 None  \n",
       "35735                 None  \n",
       "35736                 None  "
      ]
     },
     "execution_count": 32,
     "metadata": {},
     "output_type": "execute_result"
    }
   ],
   "source": [
    "df_searches.tail(3)"
   ]
  },
  {
   "cell_type": "code",
   "execution_count": 33,
   "id": "843d7673",
   "metadata": {},
   "outputs": [],
   "source": [
    "df_searches['ds_checkin']= pd.to_datetime(df_searches['ds_checkin'])"
   ]
  },
  {
   "cell_type": "code",
   "execution_count": 34,
   "id": "1e46fea9",
   "metadata": {},
   "outputs": [],
   "source": [
    "df_searches['ds_checkout']= pd.to_datetime(df_searches['ds_checkout'])"
   ]
  },
  {
   "cell_type": "code",
   "execution_count": 35,
   "id": "096956ec",
   "metadata": {},
   "outputs": [
    {
     "name": "stdout",
     "output_type": "stream",
     "text": [
      "<class 'pandas.core.frame.DataFrame'>\n",
      "RangeIndex: 35737 entries, 0 to 35736\n",
      "Data columns (total 13 columns):\n",
      " #   Column                Non-Null Count  Dtype         \n",
      "---  ------                --------------  -----         \n",
      " 0   ds                    35737 non-null  datetime64[ns]\n",
      " 1   id_user               35737 non-null  string        \n",
      " 2   ds_checkin            23888 non-null  datetime64[ns]\n",
      " 3   ds_checkout           23888 non-null  datetime64[ns]\n",
      " 4   n_searches            35737 non-null  Int64         \n",
      " 5   n_nights              23888 non-null  object        \n",
      " 6   n_guests_min          35737 non-null  Int64         \n",
      " 7   n_guests_max          35737 non-null  Int64         \n",
      " 8   origin_country        35737 non-null  object        \n",
      " 9   filter_price_min      13322 non-null  object        \n",
      " 10  filter_price_max      13322 non-null  object        \n",
      " 11  filter_room_types     16191 non-null  object        \n",
      " 12  filter_neighborhoods  1346 non-null   object        \n",
      "dtypes: Int64(3), datetime64[ns](3), object(6), string(1)\n",
      "memory usage: 3.6+ MB\n"
     ]
    }
   ],
   "source": [
    "df_searches.info()"
   ]
  },
  {
   "cell_type": "code",
   "execution_count": 36,
   "id": "0cee54a9",
   "metadata": {},
   "outputs": [],
   "source": [
    "df_searches['n_nights']= pd.to_numeric(df_searches['n_nights'])"
   ]
  },
  {
   "cell_type": "code",
   "execution_count": 37,
   "id": "f71f9cca",
   "metadata": {},
   "outputs": [],
   "source": [
    "df_searches['origin_country']= df_searches['origin_country'].astype('string')"
   ]
  },
  {
   "cell_type": "code",
   "execution_count": 38,
   "id": "9e8c16fd",
   "metadata": {},
   "outputs": [],
   "source": [
    "df_searches['filter_price_min']= pd.to_numeric(df_searches['filter_price_min'])"
   ]
  },
  {
   "cell_type": "code",
   "execution_count": 39,
   "id": "3340574d",
   "metadata": {},
   "outputs": [],
   "source": [
    "df_searches['filter_price_max']= pd.to_numeric(df_searches['filter_price_max'])"
   ]
  },
  {
   "cell_type": "code",
   "execution_count": 40,
   "id": "2ff12e04",
   "metadata": {},
   "outputs": [],
   "source": [
    "df_searches['filter_room_types']= df_searches['filter_room_types'].astype('string')"
   ]
  },
  {
   "cell_type": "code",
   "execution_count": 41,
   "id": "c7df6cac",
   "metadata": {},
   "outputs": [],
   "source": [
    "df_searches['filter_neighborhoods']= df_searches['filter_neighborhoods'].astype('string')"
   ]
  },
  {
   "cell_type": "code",
   "execution_count": 42,
   "id": "ea519b21",
   "metadata": {},
   "outputs": [
    {
     "name": "stdout",
     "output_type": "stream",
     "text": [
      "<class 'pandas.core.frame.DataFrame'>\n",
      "RangeIndex: 35737 entries, 0 to 35736\n",
      "Data columns (total 13 columns):\n",
      " #   Column                Non-Null Count  Dtype         \n",
      "---  ------                --------------  -----         \n",
      " 0   ds                    35737 non-null  datetime64[ns]\n",
      " 1   id_user               35737 non-null  string        \n",
      " 2   ds_checkin            23888 non-null  datetime64[ns]\n",
      " 3   ds_checkout           23888 non-null  datetime64[ns]\n",
      " 4   n_searches            35737 non-null  Int64         \n",
      " 5   n_nights              23888 non-null  float64       \n",
      " 6   n_guests_min          35737 non-null  Int64         \n",
      " 7   n_guests_max          35737 non-null  Int64         \n",
      " 8   origin_country        35737 non-null  string        \n",
      " 9   filter_price_min      13322 non-null  float64       \n",
      " 10  filter_price_max      13322 non-null  float64       \n",
      " 11  filter_room_types     16191 non-null  string        \n",
      " 12  filter_neighborhoods  1346 non-null   string        \n",
      "dtypes: Int64(3), datetime64[ns](3), float64(3), string(4)\n",
      "memory usage: 3.6 MB\n"
     ]
    }
   ],
   "source": [
    "df_searches.info()"
   ]
  },
  {
   "cell_type": "code",
   "execution_count": 43,
   "id": "a865a1e6",
   "metadata": {},
   "outputs": [
    {
     "data": {
      "text/html": [
       "<div>\n",
       "<style scoped>\n",
       "    .dataframe tbody tr th:only-of-type {\n",
       "        vertical-align: middle;\n",
       "    }\n",
       "\n",
       "    .dataframe tbody tr th {\n",
       "        vertical-align: top;\n",
       "    }\n",
       "\n",
       "    .dataframe thead th {\n",
       "        text-align: right;\n",
       "    }\n",
       "</style>\n",
       "<table border=\"1\" class=\"dataframe\">\n",
       "  <thead>\n",
       "    <tr style=\"text-align: right;\">\n",
       "      <th></th>\n",
       "      <th>ds</th>\n",
       "      <th>id_user</th>\n",
       "      <th>ds_checkin</th>\n",
       "      <th>ds_checkout</th>\n",
       "      <th>n_searches</th>\n",
       "      <th>n_nights</th>\n",
       "      <th>n_guests_min</th>\n",
       "      <th>n_guests_max</th>\n",
       "      <th>origin_country</th>\n",
       "      <th>filter_price_min</th>\n",
       "      <th>filter_price_max</th>\n",
       "      <th>filter_room_types</th>\n",
       "      <th>filter_neighborhoods</th>\n",
       "    </tr>\n",
       "  </thead>\n",
       "  <tbody>\n",
       "    <tr>\n",
       "      <th>35732</th>\n",
       "      <td>2014-10-01</td>\n",
       "      <td>0b42db7d-a06e-494c-9407-78b040a8f390</td>\n",
       "      <td>2015-07-17</td>\n",
       "      <td>2015-07-20</td>\n",
       "      <td>6</td>\n",
       "      <td>3.0</td>\n",
       "      <td>1</td>\n",
       "      <td>16</td>\n",
       "      <td>GB</td>\n",
       "      <td>NaN</td>\n",
       "      <td>NaN</td>\n",
       "      <td>,Entire home/apt</td>\n",
       "      <td>&lt;NA&gt;</td>\n",
       "    </tr>\n",
       "    <tr>\n",
       "      <th>35733</th>\n",
       "      <td>2014-10-06</td>\n",
       "      <td>383cc29e-6ca5-42da-89fb-68fa46754a80</td>\n",
       "      <td>2015-07-31</td>\n",
       "      <td>2015-08-02</td>\n",
       "      <td>1</td>\n",
       "      <td>2.0</td>\n",
       "      <td>16</td>\n",
       "      <td>16</td>\n",
       "      <td>IE</td>\n",
       "      <td>NaN</td>\n",
       "      <td>NaN</td>\n",
       "      <td>&lt;NA&gt;</td>\n",
       "      <td>&lt;NA&gt;</td>\n",
       "    </tr>\n",
       "    <tr>\n",
       "      <th>35734</th>\n",
       "      <td>2014-10-04</td>\n",
       "      <td>a5c65d22-0ce8-45a9-a409-fec05ad0f364</td>\n",
       "      <td>2015-09-13</td>\n",
       "      <td>2015-09-18</td>\n",
       "      <td>3</td>\n",
       "      <td>5.0</td>\n",
       "      <td>16</td>\n",
       "      <td>16</td>\n",
       "      <td>US</td>\n",
       "      <td>NaN</td>\n",
       "      <td>NaN</td>\n",
       "      <td>&lt;NA&gt;</td>\n",
       "      <td>&lt;NA&gt;</td>\n",
       "    </tr>\n",
       "    <tr>\n",
       "      <th>35735</th>\n",
       "      <td>2014-10-05</td>\n",
       "      <td>a5c65d22-0ce8-45a9-a409-fec05ad0f364</td>\n",
       "      <td>2015-09-13</td>\n",
       "      <td>2015-09-18</td>\n",
       "      <td>2</td>\n",
       "      <td>5.0</td>\n",
       "      <td>16</td>\n",
       "      <td>16</td>\n",
       "      <td>US</td>\n",
       "      <td>NaN</td>\n",
       "      <td>NaN</td>\n",
       "      <td>&lt;NA&gt;</td>\n",
       "      <td>&lt;NA&gt;</td>\n",
       "    </tr>\n",
       "    <tr>\n",
       "      <th>35736</th>\n",
       "      <td>2014-10-03</td>\n",
       "      <td>a5c65d22-0ce8-45a9-a409-fec05ad0f364</td>\n",
       "      <td>2015-09-14</td>\n",
       "      <td>2015-09-18</td>\n",
       "      <td>1</td>\n",
       "      <td>4.0</td>\n",
       "      <td>16</td>\n",
       "      <td>16</td>\n",
       "      <td>US</td>\n",
       "      <td>NaN</td>\n",
       "      <td>NaN</td>\n",
       "      <td>&lt;NA&gt;</td>\n",
       "      <td>&lt;NA&gt;</td>\n",
       "    </tr>\n",
       "  </tbody>\n",
       "</table>\n",
       "</div>"
      ],
      "text/plain": [
       "              ds                               id_user ds_checkin ds_checkout  \\\n",
       "35732 2014-10-01  0b42db7d-a06e-494c-9407-78b040a8f390 2015-07-17  2015-07-20   \n",
       "35733 2014-10-06  383cc29e-6ca5-42da-89fb-68fa46754a80 2015-07-31  2015-08-02   \n",
       "35734 2014-10-04  a5c65d22-0ce8-45a9-a409-fec05ad0f364 2015-09-13  2015-09-18   \n",
       "35735 2014-10-05  a5c65d22-0ce8-45a9-a409-fec05ad0f364 2015-09-13  2015-09-18   \n",
       "35736 2014-10-03  a5c65d22-0ce8-45a9-a409-fec05ad0f364 2015-09-14  2015-09-18   \n",
       "\n",
       "       n_searches  n_nights  n_guests_min  n_guests_max origin_country  \\\n",
       "35732           6       3.0             1            16             GB   \n",
       "35733           1       2.0            16            16             IE   \n",
       "35734           3       5.0            16            16             US   \n",
       "35735           2       5.0            16            16             US   \n",
       "35736           1       4.0            16            16             US   \n",
       "\n",
       "       filter_price_min  filter_price_max filter_room_types  \\\n",
       "35732               NaN               NaN  ,Entire home/apt   \n",
       "35733               NaN               NaN              <NA>   \n",
       "35734               NaN               NaN              <NA>   \n",
       "35735               NaN               NaN              <NA>   \n",
       "35736               NaN               NaN              <NA>   \n",
       "\n",
       "      filter_neighborhoods  \n",
       "35732                 <NA>  \n",
       "35733                 <NA>  \n",
       "35734                 <NA>  \n",
       "35735                 <NA>  \n",
       "35736                 <NA>  "
      ]
     },
     "execution_count": 43,
     "metadata": {},
     "output_type": "execute_result"
    }
   ],
   "source": [
    "df_searches.tail(5)"
   ]
  },
  {
   "cell_type": "code",
   "execution_count": 44,
   "id": "f3170b91",
   "metadata": {},
   "outputs": [
    {
     "data": {
      "text/html": [
       "<div>\n",
       "<style scoped>\n",
       "    .dataframe tbody tr th:only-of-type {\n",
       "        vertical-align: middle;\n",
       "    }\n",
       "\n",
       "    .dataframe tbody tr th {\n",
       "        vertical-align: top;\n",
       "    }\n",
       "\n",
       "    .dataframe thead th {\n",
       "        text-align: right;\n",
       "    }\n",
       "</style>\n",
       "<table border=\"1\" class=\"dataframe\">\n",
       "  <thead>\n",
       "    <tr style=\"text-align: right;\">\n",
       "      <th></th>\n",
       "      <th>ds</th>\n",
       "      <th>id_user</th>\n",
       "      <th>ds_checkin</th>\n",
       "      <th>ds_checkout</th>\n",
       "      <th>n_searches</th>\n",
       "      <th>n_nights</th>\n",
       "      <th>n_guests_min</th>\n",
       "      <th>n_guests_max</th>\n",
       "      <th>origin_country</th>\n",
       "      <th>filter_price_min</th>\n",
       "      <th>filter_price_max</th>\n",
       "      <th>filter_room_types</th>\n",
       "      <th>filter_neighborhoods</th>\n",
       "    </tr>\n",
       "  </thead>\n",
       "  <tbody>\n",
       "    <tr>\n",
       "      <th>0</th>\n",
       "      <td>2014-10-01</td>\n",
       "      <td>000cd9d3-e05b-4016-9e09-34a6f8ba2fc5</td>\n",
       "      <td>NaT</td>\n",
       "      <td>NaT</td>\n",
       "      <td>1</td>\n",
       "      <td>NaN</td>\n",
       "      <td>1</td>\n",
       "      <td>1</td>\n",
       "      <td>GB</td>\n",
       "      <td>NaN</td>\n",
       "      <td>NaN</td>\n",
       "      <td>&lt;NA&gt;</td>\n",
       "      <td>&lt;NA&gt;</td>\n",
       "    </tr>\n",
       "    <tr>\n",
       "      <th>1</th>\n",
       "      <td>2014-10-01</td>\n",
       "      <td>001c04f0-5a94-4ee0-bf5d-3591265256de</td>\n",
       "      <td>NaT</td>\n",
       "      <td>NaT</td>\n",
       "      <td>1</td>\n",
       "      <td>NaN</td>\n",
       "      <td>1</td>\n",
       "      <td>1</td>\n",
       "      <td>IE</td>\n",
       "      <td>NaN</td>\n",
       "      <td>NaN</td>\n",
       "      <td>&lt;NA&gt;</td>\n",
       "      <td>&lt;NA&gt;</td>\n",
       "    </tr>\n",
       "    <tr>\n",
       "      <th>2</th>\n",
       "      <td>2014-10-01</td>\n",
       "      <td>00dbfc14-e378-40c9-b841-28f60275109d</td>\n",
       "      <td>NaT</td>\n",
       "      <td>NaT</td>\n",
       "      <td>4</td>\n",
       "      <td>NaN</td>\n",
       "      <td>1</td>\n",
       "      <td>1</td>\n",
       "      <td>IT</td>\n",
       "      <td>NaN</td>\n",
       "      <td>NaN</td>\n",
       "      <td>&lt;NA&gt;</td>\n",
       "      <td>&lt;NA&gt;</td>\n",
       "    </tr>\n",
       "    <tr>\n",
       "      <th>3</th>\n",
       "      <td>2014-10-01</td>\n",
       "      <td>00fb5de4-9865-420f-bc85-22521121a1ca</td>\n",
       "      <td>NaT</td>\n",
       "      <td>NaT</td>\n",
       "      <td>4</td>\n",
       "      <td>NaN</td>\n",
       "      <td>1</td>\n",
       "      <td>1</td>\n",
       "      <td>DE</td>\n",
       "      <td>NaN</td>\n",
       "      <td>NaN</td>\n",
       "      <td>&lt;NA&gt;</td>\n",
       "      <td>&lt;NA&gt;</td>\n",
       "    </tr>\n",
       "    <tr>\n",
       "      <th>4</th>\n",
       "      <td>2014-10-01</td>\n",
       "      <td>01887780-4ede-4e25-9aa6-e0349cd7c0c9</td>\n",
       "      <td>NaT</td>\n",
       "      <td>NaT</td>\n",
       "      <td>6</td>\n",
       "      <td>NaN</td>\n",
       "      <td>1</td>\n",
       "      <td>1</td>\n",
       "      <td>US</td>\n",
       "      <td>NaN</td>\n",
       "      <td>NaN</td>\n",
       "      <td>&lt;NA&gt;</td>\n",
       "      <td>&lt;NA&gt;</td>\n",
       "    </tr>\n",
       "  </tbody>\n",
       "</table>\n",
       "</div>"
      ],
      "text/plain": [
       "          ds                               id_user ds_checkin ds_checkout  \\\n",
       "0 2014-10-01  000cd9d3-e05b-4016-9e09-34a6f8ba2fc5        NaT         NaT   \n",
       "1 2014-10-01  001c04f0-5a94-4ee0-bf5d-3591265256de        NaT         NaT   \n",
       "2 2014-10-01  00dbfc14-e378-40c9-b841-28f60275109d        NaT         NaT   \n",
       "3 2014-10-01  00fb5de4-9865-420f-bc85-22521121a1ca        NaT         NaT   \n",
       "4 2014-10-01  01887780-4ede-4e25-9aa6-e0349cd7c0c9        NaT         NaT   \n",
       "\n",
       "   n_searches  n_nights  n_guests_min  n_guests_max origin_country  \\\n",
       "0           1       NaN             1             1             GB   \n",
       "1           1       NaN             1             1             IE   \n",
       "2           4       NaN             1             1             IT   \n",
       "3           4       NaN             1             1             DE   \n",
       "4           6       NaN             1             1             US   \n",
       "\n",
       "   filter_price_min  filter_price_max filter_room_types filter_neighborhoods  \n",
       "0               NaN               NaN              <NA>                 <NA>  \n",
       "1               NaN               NaN              <NA>                 <NA>  \n",
       "2               NaN               NaN              <NA>                 <NA>  \n",
       "3               NaN               NaN              <NA>                 <NA>  \n",
       "4               NaN               NaN              <NA>                 <NA>  "
      ]
     },
     "execution_count": 44,
     "metadata": {},
     "output_type": "execute_result"
    }
   ],
   "source": [
    "df_searches.head(5)"
   ]
  },
  {
   "cell_type": "code",
   "execution_count": 45,
   "id": "92852f66",
   "metadata": {},
   "outputs": [
    {
     "data": {
      "text/plain": [
       "ds                          0\n",
       "id_user                     0\n",
       "ds_checkin              11849\n",
       "ds_checkout             11849\n",
       "n_searches                  0\n",
       "n_nights                11849\n",
       "n_guests_min                0\n",
       "n_guests_max                0\n",
       "origin_country              0\n",
       "filter_price_min        22415\n",
       "filter_price_max        22415\n",
       "filter_room_types       19546\n",
       "filter_neighborhoods    34391\n",
       "dtype: int64"
      ]
     },
     "execution_count": 45,
     "metadata": {},
     "output_type": "execute_result"
    }
   ],
   "source": [
    "df_searches.isnull().sum()"
   ]
  },
  {
   "cell_type": "markdown",
   "id": "00d05060",
   "metadata": {},
   "source": [
    "The number of NULL data are the same as before. \n",
    "\n",
    "Therefore, the NULL data were not altered because of the data type changes."
   ]
  },
  {
   "cell_type": "markdown",
   "id": "7fe9439a",
   "metadata": {},
   "source": [
    "<h2> 3. Initial Data Cleaning: Contacts Data"
   ]
  },
  {
   "cell_type": "markdown",
   "id": "a7ad6c46",
   "metadata": {},
   "source": [
    "Now let's clean the df_contacts"
   ]
  },
  {
   "cell_type": "markdown",
   "id": "698c883c",
   "metadata": {},
   "source": [
    "<h3> 3.a. Update the NULL values"
   ]
  },
  {
   "cell_type": "code",
   "execution_count": 46,
   "id": "2421efdf",
   "metadata": {},
   "outputs": [
    {
     "data": {
      "text/html": [
       "<div>\n",
       "<style scoped>\n",
       "    .dataframe tbody tr th:only-of-type {\n",
       "        vertical-align: middle;\n",
       "    }\n",
       "\n",
       "    .dataframe tbody tr th {\n",
       "        vertical-align: top;\n",
       "    }\n",
       "\n",
       "    .dataframe thead th {\n",
       "        text-align: right;\n",
       "    }\n",
       "</style>\n",
       "<table border=\"1\" class=\"dataframe\">\n",
       "  <thead>\n",
       "    <tr style=\"text-align: right;\">\n",
       "      <th></th>\n",
       "      <th>id_guest</th>\n",
       "      <th>id_host</th>\n",
       "      <th>id_listing</th>\n",
       "      <th>ts_contact_at</th>\n",
       "      <th>ts_reply_at</th>\n",
       "      <th>ts_accepted_at</th>\n",
       "      <th>ts_booking_at</th>\n",
       "      <th>ds_checkin</th>\n",
       "      <th>ds_checkout</th>\n",
       "      <th>n_guests</th>\n",
       "      <th>n_messages</th>\n",
       "    </tr>\n",
       "  </thead>\n",
       "  <tbody>\n",
       "    <tr>\n",
       "      <th>0</th>\n",
       "      <td>23439f9d-1bc3-4189-8c0a-4b803da3740a</td>\n",
       "      <td>1076c74d-ca8f-4381-856e-0ef45b9e1692</td>\n",
       "      <td>125ff7c3-e002-4e14-86c3-ce27af0e70b5</td>\n",
       "      <td>2014-10-07 21:17:39+00:00</td>\n",
       "      <td>2014-10-12 17:33:28.0</td>\n",
       "      <td>NULL</td>\n",
       "      <td>NULL</td>\n",
       "      <td>2014-11-10</td>\n",
       "      <td>2014-11-12</td>\n",
       "      <td>1</td>\n",
       "      <td>2</td>\n",
       "    </tr>\n",
       "    <tr>\n",
       "      <th>1</th>\n",
       "      <td>23439f9d-1bc3-4189-8c0a-4b803da3740a</td>\n",
       "      <td>4f351532-59dc-4706-898a-0c4d25f1b125</td>\n",
       "      <td>94c2dc52-f0f4-409c-9c3d-af36e152f9d9</td>\n",
       "      <td>2014-10-07 21:13:32+00:00</td>\n",
       "      <td>2014-10-07 21:23:58.0</td>\n",
       "      <td>NULL</td>\n",
       "      <td>NULL</td>\n",
       "      <td>2014-11-10</td>\n",
       "      <td>2014-11-12</td>\n",
       "      <td>1</td>\n",
       "      <td>2</td>\n",
       "    </tr>\n",
       "    <tr>\n",
       "      <th>2</th>\n",
       "      <td>23439f9d-1bc3-4189-8c0a-4b803da3740a</td>\n",
       "      <td>becd48ad-623e-4821-9538-e9d8f84f1cac</td>\n",
       "      <td>d6763e59-b5ea-406f-8fbb-4cf4d597f332</td>\n",
       "      <td>2014-10-07 21:02:46+00:00</td>\n",
       "      <td>2014-10-07 21:17:57.0</td>\n",
       "      <td>2014-10-13 21:06:33.0</td>\n",
       "      <td>2014-10-13 21:06:33.0</td>\n",
       "      <td>2014-11-10</td>\n",
       "      <td>2014-11-12</td>\n",
       "      <td>1</td>\n",
       "      <td>6</td>\n",
       "    </tr>\n",
       "  </tbody>\n",
       "</table>\n",
       "</div>"
      ],
      "text/plain": [
       "                               id_guest                               id_host  \\\n",
       "0  23439f9d-1bc3-4189-8c0a-4b803da3740a  1076c74d-ca8f-4381-856e-0ef45b9e1692   \n",
       "1  23439f9d-1bc3-4189-8c0a-4b803da3740a  4f351532-59dc-4706-898a-0c4d25f1b125   \n",
       "2  23439f9d-1bc3-4189-8c0a-4b803da3740a  becd48ad-623e-4821-9538-e9d8f84f1cac   \n",
       "\n",
       "                             id_listing             ts_contact_at  \\\n",
       "0  125ff7c3-e002-4e14-86c3-ce27af0e70b5 2014-10-07 21:17:39+00:00   \n",
       "1  94c2dc52-f0f4-409c-9c3d-af36e152f9d9 2014-10-07 21:13:32+00:00   \n",
       "2  d6763e59-b5ea-406f-8fbb-4cf4d597f332 2014-10-07 21:02:46+00:00   \n",
       "\n",
       "             ts_reply_at         ts_accepted_at          ts_booking_at  \\\n",
       "0  2014-10-12 17:33:28.0                   NULL                   NULL   \n",
       "1  2014-10-07 21:23:58.0                   NULL                   NULL   \n",
       "2  2014-10-07 21:17:57.0  2014-10-13 21:06:33.0  2014-10-13 21:06:33.0   \n",
       "\n",
       "   ds_checkin ds_checkout  n_guests  n_messages  \n",
       "0  2014-11-10  2014-11-12         1           2  \n",
       "1  2014-11-10  2014-11-12         1           2  \n",
       "2  2014-11-10  2014-11-12         1           6  "
      ]
     },
     "execution_count": 46,
     "metadata": {},
     "output_type": "execute_result"
    }
   ],
   "source": [
    "df_contacts.head(3)"
   ]
  },
  {
   "cell_type": "code",
   "execution_count": 47,
   "id": "5ef968f5",
   "metadata": {},
   "outputs": [
    {
     "data": {
      "text/html": [
       "<div>\n",
       "<style scoped>\n",
       "    .dataframe tbody tr th:only-of-type {\n",
       "        vertical-align: middle;\n",
       "    }\n",
       "\n",
       "    .dataframe tbody tr th {\n",
       "        vertical-align: top;\n",
       "    }\n",
       "\n",
       "    .dataframe thead th {\n",
       "        text-align: right;\n",
       "    }\n",
       "</style>\n",
       "<table border=\"1\" class=\"dataframe\">\n",
       "  <thead>\n",
       "    <tr style=\"text-align: right;\">\n",
       "      <th></th>\n",
       "      <th>id_guest</th>\n",
       "      <th>id_host</th>\n",
       "      <th>id_listing</th>\n",
       "      <th>ts_contact_at</th>\n",
       "      <th>ts_reply_at</th>\n",
       "      <th>ts_accepted_at</th>\n",
       "      <th>ts_booking_at</th>\n",
       "      <th>ds_checkin</th>\n",
       "      <th>ds_checkout</th>\n",
       "      <th>n_guests</th>\n",
       "      <th>n_messages</th>\n",
       "    </tr>\n",
       "  </thead>\n",
       "  <tbody>\n",
       "    <tr>\n",
       "      <th>7820</th>\n",
       "      <td>779fca95-9f1e-4f78-8ed7-9fea76eac27f</td>\n",
       "      <td>86b39b70-965b-479d-a0b0-719b195acea2</td>\n",
       "      <td>856cc50f-419b-4104-8be0-d369fb664ddd</td>\n",
       "      <td>2014-10-01 19:03:15+00:00</td>\n",
       "      <td>2014-10-03 22:37:27.0</td>\n",
       "      <td>NULL</td>\n",
       "      <td>NULL</td>\n",
       "      <td>2015-03-13</td>\n",
       "      <td>2015-03-17</td>\n",
       "      <td>16</td>\n",
       "      <td>2</td>\n",
       "    </tr>\n",
       "    <tr>\n",
       "      <th>7821</th>\n",
       "      <td>a5f51d1f-05dc-43c2-86fc-2dfbef76d476</td>\n",
       "      <td>f1c108a5-7cb2-4622-9267-a772ee179505</td>\n",
       "      <td>8f22a3f8-2327-49ce-8da5-a7802faab9ee</td>\n",
       "      <td>2014-10-14 18:29:03+00:00</td>\n",
       "      <td>2014-10-15 11:48:42.0</td>\n",
       "      <td>NULL</td>\n",
       "      <td>NULL</td>\n",
       "      <td>2015-03-13</td>\n",
       "      <td>2015-03-18</td>\n",
       "      <td>16</td>\n",
       "      <td>2</td>\n",
       "    </tr>\n",
       "    <tr>\n",
       "      <th>7822</th>\n",
       "      <td>93c5452d-057b-4e6d-86bd-7bbcd74323fc</td>\n",
       "      <td>c8a4ad93-b393-4ddd-8f44-a827bbc7e652</td>\n",
       "      <td>9834e8e2-4115-40f3-b753-e854efd853fd</td>\n",
       "      <td>2014-09-01 07:12:07+00:00</td>\n",
       "      <td>2014-09-01 08:03:48.0</td>\n",
       "      <td>NULL</td>\n",
       "      <td>NULL</td>\n",
       "      <td>2015-05-22</td>\n",
       "      <td>2015-05-25</td>\n",
       "      <td>16</td>\n",
       "      <td>10</td>\n",
       "    </tr>\n",
       "  </tbody>\n",
       "</table>\n",
       "</div>"
      ],
      "text/plain": [
       "                                  id_guest  \\\n",
       "7820  779fca95-9f1e-4f78-8ed7-9fea76eac27f   \n",
       "7821  a5f51d1f-05dc-43c2-86fc-2dfbef76d476   \n",
       "7822  93c5452d-057b-4e6d-86bd-7bbcd74323fc   \n",
       "\n",
       "                                   id_host  \\\n",
       "7820  86b39b70-965b-479d-a0b0-719b195acea2   \n",
       "7821  f1c108a5-7cb2-4622-9267-a772ee179505   \n",
       "7822  c8a4ad93-b393-4ddd-8f44-a827bbc7e652   \n",
       "\n",
       "                                id_listing             ts_contact_at  \\\n",
       "7820  856cc50f-419b-4104-8be0-d369fb664ddd 2014-10-01 19:03:15+00:00   \n",
       "7821  8f22a3f8-2327-49ce-8da5-a7802faab9ee 2014-10-14 18:29:03+00:00   \n",
       "7822  9834e8e2-4115-40f3-b753-e854efd853fd 2014-09-01 07:12:07+00:00   \n",
       "\n",
       "                ts_reply_at ts_accepted_at ts_booking_at  ds_checkin  \\\n",
       "7820  2014-10-03 22:37:27.0           NULL          NULL  2015-03-13   \n",
       "7821  2014-10-15 11:48:42.0           NULL          NULL  2015-03-13   \n",
       "7822  2014-09-01 08:03:48.0           NULL          NULL  2015-05-22   \n",
       "\n",
       "     ds_checkout  n_guests  n_messages  \n",
       "7820  2015-03-17        16           2  \n",
       "7821  2015-03-18        16           2  \n",
       "7822  2015-05-25        16          10  "
      ]
     },
     "execution_count": 47,
     "metadata": {},
     "output_type": "execute_result"
    }
   ],
   "source": [
    "df_contacts.tail(3)"
   ]
  },
  {
   "cell_type": "code",
   "execution_count": 48,
   "id": "8a96788e",
   "metadata": {},
   "outputs": [
    {
     "name": "stdout",
     "output_type": "stream",
     "text": [
      "<class 'pandas.core.frame.DataFrame'>\n",
      "RangeIndex: 7823 entries, 0 to 7822\n",
      "Data columns (total 11 columns):\n",
      " #   Column          Non-Null Count  Dtype              \n",
      "---  ------          --------------  -----              \n",
      " 0   id_guest        7823 non-null   object             \n",
      " 1   id_host         7823 non-null   object             \n",
      " 2   id_listing      7823 non-null   object             \n",
      " 3   ts_contact_at   7823 non-null   datetime64[ns, UTC]\n",
      " 4   ts_reply_at     7823 non-null   object             \n",
      " 5   ts_accepted_at  7823 non-null   object             \n",
      " 6   ts_booking_at   7823 non-null   object             \n",
      " 7   ds_checkin      7823 non-null   dbdate             \n",
      " 8   ds_checkout     7823 non-null   dbdate             \n",
      " 9   n_guests        7823 non-null   Int64              \n",
      " 10  n_messages      7823 non-null   Int64              \n",
      "dtypes: Int64(2), datetime64[ns, UTC](1), dbdate(2), object(6)\n",
      "memory usage: 687.7+ KB\n"
     ]
    }
   ],
   "source": [
    "df_contacts.info()"
   ]
  },
  {
   "cell_type": "markdown",
   "id": "11f9f65c",
   "metadata": {},
   "source": [
    "We need to set the NULL data to None"
   ]
  },
  {
   "cell_type": "code",
   "execution_count": 49,
   "id": "4405d631",
   "metadata": {},
   "outputs": [
    {
     "data": {
      "text/plain": [
       "Series([], Name: id_guest, dtype: object)"
      ]
     },
     "execution_count": 49,
     "metadata": {},
     "output_type": "execute_result"
    }
   ],
   "source": [
    "df_contacts.id_guest.loc[df_contacts.id_guest == 'NULL']"
   ]
  },
  {
   "cell_type": "code",
   "execution_count": 50,
   "id": "39a27483",
   "metadata": {},
   "outputs": [
    {
     "data": {
      "text/plain": [
       "Series([], Name: id_host, dtype: object)"
      ]
     },
     "execution_count": 50,
     "metadata": {},
     "output_type": "execute_result"
    }
   ],
   "source": [
    "df_contacts.id_host.loc[df_contacts.id_host == 'NULL']"
   ]
  },
  {
   "cell_type": "code",
   "execution_count": 51,
   "id": "d70848ce",
   "metadata": {},
   "outputs": [
    {
     "data": {
      "text/plain": [
       "Series([], Name: id_listing, dtype: object)"
      ]
     },
     "execution_count": 51,
     "metadata": {},
     "output_type": "execute_result"
    }
   ],
   "source": [
    "df_contacts.id_listing.loc[df_contacts.id_listing == 'NULL']"
   ]
  },
  {
   "cell_type": "code",
   "execution_count": 52,
   "id": "a968fc44",
   "metadata": {},
   "outputs": [
    {
     "data": {
      "text/plain": [
       "Series([], Name: ts_contact_at, dtype: datetime64[ns, UTC])"
      ]
     },
     "execution_count": 52,
     "metadata": {},
     "output_type": "execute_result"
    }
   ],
   "source": [
    "df_contacts.ts_contact_at.loc[df_contacts.ts_contact_at == 'NULL']"
   ]
  },
  {
   "cell_type": "code",
   "execution_count": 53,
   "id": "62ba4d53",
   "metadata": {},
   "outputs": [
    {
     "name": "stderr",
     "output_type": "stream",
     "text": [
      "C:\\Users\\bnriv\\anaconda3\\lib\\site-packages\\pandas\\core\\indexing.py:1637: SettingWithCopyWarning: \n",
      "A value is trying to be set on a copy of a slice from a DataFrame\n",
      "\n",
      "See the caveats in the documentation: https://pandas.pydata.org/pandas-docs/stable/user_guide/indexing.html#returning-a-view-versus-a-copy\n",
      "  self._setitem_single_block(indexer, value, name)\n"
     ]
    }
   ],
   "source": [
    "df_contacts.ts_reply_at.loc[df_contacts.ts_reply_at == 'NULL'] = None"
   ]
  },
  {
   "cell_type": "code",
   "execution_count": 54,
   "id": "d93ac739",
   "metadata": {},
   "outputs": [],
   "source": [
    "df_contacts.ts_accepted_at.loc[df_contacts.ts_accepted_at == 'NULL'] = None"
   ]
  },
  {
   "cell_type": "code",
   "execution_count": 55,
   "id": "a6cbf9d8",
   "metadata": {},
   "outputs": [],
   "source": [
    "df_contacts.ts_booking_at.loc[df_contacts.ts_booking_at == 'NULL'] = None"
   ]
  },
  {
   "cell_type": "code",
   "execution_count": 56,
   "id": "6681ba05",
   "metadata": {},
   "outputs": [
    {
     "data": {
      "text/plain": [
       "Series([], Name: ds_checkin, dtype: dbdate)"
      ]
     },
     "execution_count": 56,
     "metadata": {},
     "output_type": "execute_result"
    }
   ],
   "source": [
    "df_contacts.ds_checkin.loc[df_contacts.ds_checkin == 'NULL']"
   ]
  },
  {
   "cell_type": "code",
   "execution_count": 57,
   "id": "aa41a06d",
   "metadata": {},
   "outputs": [
    {
     "data": {
      "text/plain": [
       "Series([], Name: ds_checkout, dtype: dbdate)"
      ]
     },
     "execution_count": 57,
     "metadata": {},
     "output_type": "execute_result"
    }
   ],
   "source": [
    "df_contacts.ds_checkout.loc[df_contacts.ds_checkout == 'NULL']"
   ]
  },
  {
   "cell_type": "code",
   "execution_count": 58,
   "id": "e60a2963",
   "metadata": {},
   "outputs": [
    {
     "data": {
      "text/plain": [
       "Series([], Name: n_guests, dtype: Int64)"
      ]
     },
     "execution_count": 58,
     "metadata": {},
     "output_type": "execute_result"
    }
   ],
   "source": [
    "df_contacts.n_guests.loc[df_contacts.n_guests == 'NULL']"
   ]
  },
  {
   "cell_type": "code",
   "execution_count": 59,
   "id": "1cbb7ba5",
   "metadata": {},
   "outputs": [
    {
     "data": {
      "text/plain": [
       "Series([], Name: n_messages, dtype: Int64)"
      ]
     },
     "execution_count": 59,
     "metadata": {},
     "output_type": "execute_result"
    }
   ],
   "source": [
    "df_contacts.n_messages.loc[df_contacts.n_messages == 'NULL']"
   ]
  },
  {
   "cell_type": "markdown",
   "id": "aebb5042",
   "metadata": {},
   "source": [
    "<h3> 3.b. Update the data type"
   ]
  },
  {
   "cell_type": "markdown",
   "id": "ae54849d",
   "metadata": {},
   "source": [
    "Next, I need to fix the data types"
   ]
  },
  {
   "cell_type": "code",
   "execution_count": 60,
   "id": "0399dc40",
   "metadata": {},
   "outputs": [
    {
     "name": "stdout",
     "output_type": "stream",
     "text": [
      "<class 'pandas.core.frame.DataFrame'>\n",
      "RangeIndex: 7823 entries, 0 to 7822\n",
      "Data columns (total 11 columns):\n",
      " #   Column          Non-Null Count  Dtype              \n",
      "---  ------          --------------  -----              \n",
      " 0   id_guest        7823 non-null   object             \n",
      " 1   id_host         7823 non-null   object             \n",
      " 2   id_listing      7823 non-null   object             \n",
      " 3   ts_contact_at   7823 non-null   datetime64[ns, UTC]\n",
      " 4   ts_reply_at     7219 non-null   object             \n",
      " 5   ts_accepted_at  3627 non-null   object             \n",
      " 6   ts_booking_at   2174 non-null   object             \n",
      " 7   ds_checkin      7823 non-null   dbdate             \n",
      " 8   ds_checkout     7823 non-null   dbdate             \n",
      " 9   n_guests        7823 non-null   Int64              \n",
      " 10  n_messages      7823 non-null   Int64              \n",
      "dtypes: Int64(2), datetime64[ns, UTC](1), dbdate(2), object(6)\n",
      "memory usage: 687.7+ KB\n"
     ]
    }
   ],
   "source": [
    "df_contacts.info()"
   ]
  },
  {
   "cell_type": "code",
   "execution_count": 61,
   "id": "0215ab4a",
   "metadata": {},
   "outputs": [
    {
     "data": {
      "text/html": [
       "<div>\n",
       "<style scoped>\n",
       "    .dataframe tbody tr th:only-of-type {\n",
       "        vertical-align: middle;\n",
       "    }\n",
       "\n",
       "    .dataframe tbody tr th {\n",
       "        vertical-align: top;\n",
       "    }\n",
       "\n",
       "    .dataframe thead th {\n",
       "        text-align: right;\n",
       "    }\n",
       "</style>\n",
       "<table border=\"1\" class=\"dataframe\">\n",
       "  <thead>\n",
       "    <tr style=\"text-align: right;\">\n",
       "      <th></th>\n",
       "      <th>id_guest</th>\n",
       "      <th>id_host</th>\n",
       "      <th>id_listing</th>\n",
       "      <th>ts_contact_at</th>\n",
       "      <th>ts_reply_at</th>\n",
       "      <th>ts_accepted_at</th>\n",
       "      <th>ts_booking_at</th>\n",
       "      <th>ds_checkin</th>\n",
       "      <th>ds_checkout</th>\n",
       "      <th>n_guests</th>\n",
       "      <th>n_messages</th>\n",
       "    </tr>\n",
       "  </thead>\n",
       "  <tbody>\n",
       "    <tr>\n",
       "      <th>7820</th>\n",
       "      <td>779fca95-9f1e-4f78-8ed7-9fea76eac27f</td>\n",
       "      <td>86b39b70-965b-479d-a0b0-719b195acea2</td>\n",
       "      <td>856cc50f-419b-4104-8be0-d369fb664ddd</td>\n",
       "      <td>2014-10-01 19:03:15+00:00</td>\n",
       "      <td>2014-10-03 22:37:27.0</td>\n",
       "      <td>None</td>\n",
       "      <td>None</td>\n",
       "      <td>2015-03-13</td>\n",
       "      <td>2015-03-17</td>\n",
       "      <td>16</td>\n",
       "      <td>2</td>\n",
       "    </tr>\n",
       "    <tr>\n",
       "      <th>7821</th>\n",
       "      <td>a5f51d1f-05dc-43c2-86fc-2dfbef76d476</td>\n",
       "      <td>f1c108a5-7cb2-4622-9267-a772ee179505</td>\n",
       "      <td>8f22a3f8-2327-49ce-8da5-a7802faab9ee</td>\n",
       "      <td>2014-10-14 18:29:03+00:00</td>\n",
       "      <td>2014-10-15 11:48:42.0</td>\n",
       "      <td>None</td>\n",
       "      <td>None</td>\n",
       "      <td>2015-03-13</td>\n",
       "      <td>2015-03-18</td>\n",
       "      <td>16</td>\n",
       "      <td>2</td>\n",
       "    </tr>\n",
       "    <tr>\n",
       "      <th>7822</th>\n",
       "      <td>93c5452d-057b-4e6d-86bd-7bbcd74323fc</td>\n",
       "      <td>c8a4ad93-b393-4ddd-8f44-a827bbc7e652</td>\n",
       "      <td>9834e8e2-4115-40f3-b753-e854efd853fd</td>\n",
       "      <td>2014-09-01 07:12:07+00:00</td>\n",
       "      <td>2014-09-01 08:03:48.0</td>\n",
       "      <td>None</td>\n",
       "      <td>None</td>\n",
       "      <td>2015-05-22</td>\n",
       "      <td>2015-05-25</td>\n",
       "      <td>16</td>\n",
       "      <td>10</td>\n",
       "    </tr>\n",
       "  </tbody>\n",
       "</table>\n",
       "</div>"
      ],
      "text/plain": [
       "                                  id_guest  \\\n",
       "7820  779fca95-9f1e-4f78-8ed7-9fea76eac27f   \n",
       "7821  a5f51d1f-05dc-43c2-86fc-2dfbef76d476   \n",
       "7822  93c5452d-057b-4e6d-86bd-7bbcd74323fc   \n",
       "\n",
       "                                   id_host  \\\n",
       "7820  86b39b70-965b-479d-a0b0-719b195acea2   \n",
       "7821  f1c108a5-7cb2-4622-9267-a772ee179505   \n",
       "7822  c8a4ad93-b393-4ddd-8f44-a827bbc7e652   \n",
       "\n",
       "                                id_listing             ts_contact_at  \\\n",
       "7820  856cc50f-419b-4104-8be0-d369fb664ddd 2014-10-01 19:03:15+00:00   \n",
       "7821  8f22a3f8-2327-49ce-8da5-a7802faab9ee 2014-10-14 18:29:03+00:00   \n",
       "7822  9834e8e2-4115-40f3-b753-e854efd853fd 2014-09-01 07:12:07+00:00   \n",
       "\n",
       "                ts_reply_at ts_accepted_at ts_booking_at  ds_checkin  \\\n",
       "7820  2014-10-03 22:37:27.0           None          None  2015-03-13   \n",
       "7821  2014-10-15 11:48:42.0           None          None  2015-03-13   \n",
       "7822  2014-09-01 08:03:48.0           None          None  2015-05-22   \n",
       "\n",
       "     ds_checkout  n_guests  n_messages  \n",
       "7820  2015-03-17        16           2  \n",
       "7821  2015-03-18        16           2  \n",
       "7822  2015-05-25        16          10  "
      ]
     },
     "execution_count": 61,
     "metadata": {},
     "output_type": "execute_result"
    }
   ],
   "source": [
    "df_contacts.tail(3)"
   ]
  },
  {
   "cell_type": "code",
   "execution_count": 62,
   "id": "34de8256",
   "metadata": {},
   "outputs": [],
   "source": [
    "df_contacts.id_guest = df_contacts.id_guest.astype('string')"
   ]
  },
  {
   "cell_type": "code",
   "execution_count": 63,
   "id": "df096ee3",
   "metadata": {},
   "outputs": [],
   "source": [
    "df_contacts.id_host = df_contacts.id_host.astype('string')"
   ]
  },
  {
   "cell_type": "code",
   "execution_count": 64,
   "id": "df703e39",
   "metadata": {},
   "outputs": [],
   "source": [
    "df_contacts.id_listing = df_contacts.id_listing.astype('string')"
   ]
  },
  {
   "cell_type": "code",
   "execution_count": 65,
   "id": "6e0eb5d8",
   "metadata": {},
   "outputs": [],
   "source": [
    "df_contacts.ts_reply_at =  pd.to_datetime(df_contacts.ts_reply_at)"
   ]
  },
  {
   "cell_type": "code",
   "execution_count": 66,
   "id": "b634ccd7",
   "metadata": {},
   "outputs": [],
   "source": [
    "df_contacts.ts_accepted_at =  pd.to_datetime(df_contacts.ts_accepted_at)"
   ]
  },
  {
   "cell_type": "code",
   "execution_count": 67,
   "id": "510f3e7b",
   "metadata": {},
   "outputs": [],
   "source": [
    "df_contacts.ts_booking_at =  pd.to_datetime(df_contacts.ts_booking_at)"
   ]
  },
  {
   "cell_type": "code",
   "execution_count": 68,
   "id": "971eeece",
   "metadata": {},
   "outputs": [],
   "source": [
    "df_contacts.ds_checkin =  pd.to_datetime(df_contacts.ds_checkin)"
   ]
  },
  {
   "cell_type": "code",
   "execution_count": 69,
   "id": "22091b0d",
   "metadata": {},
   "outputs": [],
   "source": [
    "df_contacts.ds_checkout =  pd.to_datetime(df_contacts.ds_checkout)"
   ]
  },
  {
   "cell_type": "code",
   "execution_count": 70,
   "id": "4e0c7d01",
   "metadata": {},
   "outputs": [
    {
     "name": "stdout",
     "output_type": "stream",
     "text": [
      "<class 'pandas.core.frame.DataFrame'>\n",
      "RangeIndex: 7823 entries, 0 to 7822\n",
      "Data columns (total 11 columns):\n",
      " #   Column          Non-Null Count  Dtype              \n",
      "---  ------          --------------  -----              \n",
      " 0   id_guest        7823 non-null   string             \n",
      " 1   id_host         7823 non-null   string             \n",
      " 2   id_listing      7823 non-null   string             \n",
      " 3   ts_contact_at   7823 non-null   datetime64[ns, UTC]\n",
      " 4   ts_reply_at     7219 non-null   datetime64[ns]     \n",
      " 5   ts_accepted_at  3627 non-null   datetime64[ns]     \n",
      " 6   ts_booking_at   2174 non-null   datetime64[ns]     \n",
      " 7   ds_checkin      7823 non-null   datetime64[ns]     \n",
      " 8   ds_checkout     7823 non-null   datetime64[ns]     \n",
      " 9   n_guests        7823 non-null   Int64              \n",
      " 10  n_messages      7823 non-null   Int64              \n",
      "dtypes: Int64(2), datetime64[ns, UTC](1), datetime64[ns](5), string(3)\n",
      "memory usage: 687.7 KB\n"
     ]
    }
   ],
   "source": [
    "df_contacts.info()"
   ]
  },
  {
   "cell_type": "code",
   "execution_count": 71,
   "id": "5f2ddbe1",
   "metadata": {},
   "outputs": [
    {
     "data": {
      "text/html": [
       "<div>\n",
       "<style scoped>\n",
       "    .dataframe tbody tr th:only-of-type {\n",
       "        vertical-align: middle;\n",
       "    }\n",
       "\n",
       "    .dataframe tbody tr th {\n",
       "        vertical-align: top;\n",
       "    }\n",
       "\n",
       "    .dataframe thead th {\n",
       "        text-align: right;\n",
       "    }\n",
       "</style>\n",
       "<table border=\"1\" class=\"dataframe\">\n",
       "  <thead>\n",
       "    <tr style=\"text-align: right;\">\n",
       "      <th></th>\n",
       "      <th>id_guest</th>\n",
       "      <th>id_host</th>\n",
       "      <th>id_listing</th>\n",
       "      <th>ts_contact_at</th>\n",
       "      <th>ts_reply_at</th>\n",
       "      <th>ts_accepted_at</th>\n",
       "      <th>ts_booking_at</th>\n",
       "      <th>ds_checkin</th>\n",
       "      <th>ds_checkout</th>\n",
       "      <th>n_guests</th>\n",
       "      <th>n_messages</th>\n",
       "    </tr>\n",
       "  </thead>\n",
       "  <tbody>\n",
       "    <tr>\n",
       "      <th>7820</th>\n",
       "      <td>779fca95-9f1e-4f78-8ed7-9fea76eac27f</td>\n",
       "      <td>86b39b70-965b-479d-a0b0-719b195acea2</td>\n",
       "      <td>856cc50f-419b-4104-8be0-d369fb664ddd</td>\n",
       "      <td>2014-10-01 19:03:15+00:00</td>\n",
       "      <td>2014-10-03 22:37:27</td>\n",
       "      <td>NaT</td>\n",
       "      <td>NaT</td>\n",
       "      <td>2015-03-13</td>\n",
       "      <td>2015-03-17</td>\n",
       "      <td>16</td>\n",
       "      <td>2</td>\n",
       "    </tr>\n",
       "    <tr>\n",
       "      <th>7821</th>\n",
       "      <td>a5f51d1f-05dc-43c2-86fc-2dfbef76d476</td>\n",
       "      <td>f1c108a5-7cb2-4622-9267-a772ee179505</td>\n",
       "      <td>8f22a3f8-2327-49ce-8da5-a7802faab9ee</td>\n",
       "      <td>2014-10-14 18:29:03+00:00</td>\n",
       "      <td>2014-10-15 11:48:42</td>\n",
       "      <td>NaT</td>\n",
       "      <td>NaT</td>\n",
       "      <td>2015-03-13</td>\n",
       "      <td>2015-03-18</td>\n",
       "      <td>16</td>\n",
       "      <td>2</td>\n",
       "    </tr>\n",
       "    <tr>\n",
       "      <th>7822</th>\n",
       "      <td>93c5452d-057b-4e6d-86bd-7bbcd74323fc</td>\n",
       "      <td>c8a4ad93-b393-4ddd-8f44-a827bbc7e652</td>\n",
       "      <td>9834e8e2-4115-40f3-b753-e854efd853fd</td>\n",
       "      <td>2014-09-01 07:12:07+00:00</td>\n",
       "      <td>2014-09-01 08:03:48</td>\n",
       "      <td>NaT</td>\n",
       "      <td>NaT</td>\n",
       "      <td>2015-05-22</td>\n",
       "      <td>2015-05-25</td>\n",
       "      <td>16</td>\n",
       "      <td>10</td>\n",
       "    </tr>\n",
       "  </tbody>\n",
       "</table>\n",
       "</div>"
      ],
      "text/plain": [
       "                                  id_guest  \\\n",
       "7820  779fca95-9f1e-4f78-8ed7-9fea76eac27f   \n",
       "7821  a5f51d1f-05dc-43c2-86fc-2dfbef76d476   \n",
       "7822  93c5452d-057b-4e6d-86bd-7bbcd74323fc   \n",
       "\n",
       "                                   id_host  \\\n",
       "7820  86b39b70-965b-479d-a0b0-719b195acea2   \n",
       "7821  f1c108a5-7cb2-4622-9267-a772ee179505   \n",
       "7822  c8a4ad93-b393-4ddd-8f44-a827bbc7e652   \n",
       "\n",
       "                                id_listing             ts_contact_at  \\\n",
       "7820  856cc50f-419b-4104-8be0-d369fb664ddd 2014-10-01 19:03:15+00:00   \n",
       "7821  8f22a3f8-2327-49ce-8da5-a7802faab9ee 2014-10-14 18:29:03+00:00   \n",
       "7822  9834e8e2-4115-40f3-b753-e854efd853fd 2014-09-01 07:12:07+00:00   \n",
       "\n",
       "             ts_reply_at ts_accepted_at ts_booking_at ds_checkin ds_checkout  \\\n",
       "7820 2014-10-03 22:37:27            NaT           NaT 2015-03-13  2015-03-17   \n",
       "7821 2014-10-15 11:48:42            NaT           NaT 2015-03-13  2015-03-18   \n",
       "7822 2014-09-01 08:03:48            NaT           NaT 2015-05-22  2015-05-25   \n",
       "\n",
       "      n_guests  n_messages  \n",
       "7820        16           2  \n",
       "7821        16           2  \n",
       "7822        16          10  "
      ]
     },
     "execution_count": 71,
     "metadata": {},
     "output_type": "execute_result"
    }
   ],
   "source": [
    "df_contacts.tail(3)"
   ]
  },
  {
   "cell_type": "markdown",
   "id": "53378e0a",
   "metadata": {},
   "source": [
    "Now, all the columns in the 'df_contacts' dataframe have correct data types"
   ]
  },
  {
   "cell_type": "markdown",
   "id": "4fcb1027",
   "metadata": {},
   "source": [
    "<h2> 3. Data Analysis"
   ]
  },
  {
   "cell_type": "markdown",
   "id": "0fe4c356",
   "metadata": {},
   "source": [
    "Let's conduct a data analysis on our existing data. \n",
    "There might be some feature engineering depending on the need of the analysis"
   ]
  },
  {
   "cell_type": "markdown",
   "id": "42ce66ce",
   "metadata": {},
   "source": [
    "For the df_searches, I would like to understand:\n",
    "\n",
    "    1. what guests are searching for in Dublin,\n",
    "    2. which inquiries hosts tend to accept.\n",
    "    3. what the gaps are between guest demand and host supply that the new city manager could plug to increase the number of bookings in Dublin,\n",
    "    4. what other data would be useful to have to deepen the analysis and understanding.\n",
    "    \n",
    "Based on the findings the new city manager will try to boost the number and quality of hosts in Dublin to fit the demands from guests. The goal of this challenge is to analyze, understand, visualize, and communicate the demand / supply in the market. For example you may want to look at the breakdown of start date day of the week, or number of nights, or room type that is searched for, and how many hosts accepted the reservation. In particular, we are interested in:"
   ]
  },
  {
   "cell_type": "markdown",
   "id": "67df3c56",
   "metadata": {},
   "source": [
    "The Airbnb user journey throughout the app is as follow:"
   ]
  },
  {
   "cell_type": "markdown",
   "id": "36e9e78f",
   "metadata": {},
   "source": [
    "Activation: \n",
    "1. Search: The user will do a search on the app\n",
    "\n",
    "Retention and Engagement: \n",
    "\n",
    "2. Contact: If there is something that fits their interest, they will contact the host if they have any questions\n",
    "3. Reply: The host will answer any of the user questions\n",
    "4. Booking: The user books the accomodation, this can happen without going through the 'Contact' and 'Reply' phase\n",
    "5. Accepted: The host accepts the booking made by the user"
   ]
  },
  {
   "cell_type": "markdown",
   "id": "6e766de8",
   "metadata": {},
   "source": [
    "<h3> 3.a. Data Analysis: Search Data"
   ]
  },
  {
   "cell_type": "markdown",
   "id": "aa8d4f94",
   "metadata": {},
   "source": [
    "Based on the user journey, we can focus first in the 'Search' stage to answer below questions: \n",
    "\n",
    "1. What is the average number of search session per users?\n",
    "2. When did the users search for accomodation? When do the users want to check in? \n",
    "3. How many nights the users want to stay?\n",
    "4. For how many guests are the search?\n",
    "5. Where are the users from?\n",
    "6. How much are the users willing to pay?\n",
    "7. What type of rooms the users are looking for?\n",
    "8. Which neighborhoods do the users want to stay in?"
   ]
  },
  {
   "cell_type": "markdown",
   "id": "9d21946f",
   "metadata": {},
   "source": [
    "<h4> 1. What is the average search session per users?"
   ]
  },
  {
   "cell_type": "code",
   "execution_count": 72,
   "id": "8955015d",
   "metadata": {},
   "outputs": [
    {
     "data": {
      "text/plain": [
       "1.9208277344799785"
      ]
     },
     "execution_count": 72,
     "metadata": {},
     "output_type": "execute_result"
    }
   ],
   "source": [
    "df_searches.id_user.count()/df_searches.id_user.nunique()"
   ]
  },
  {
   "cell_type": "markdown",
   "id": "7e20acd4",
   "metadata": {},
   "source": [
    "On average, users attempted 2 separate search sessionfor accomodation in Dublin at Airbnb"
   ]
  },
  {
   "cell_type": "code",
   "execution_count": 73,
   "id": "da0abcdf",
   "metadata": {},
   "outputs": [],
   "source": [
    "searchsess_per_user = df_searches.groupby(\"id_user\").count().ds"
   ]
  },
  {
   "cell_type": "code",
   "execution_count": 74,
   "id": "c1452d23",
   "metadata": {},
   "outputs": [
    {
     "data": {
      "text/plain": [
       "id_user\n",
       "0000af0a-6f26-4233-9832-27efbfb36148    3\n",
       "00058bcf-8950-4481-a977-d08b42d1fce5    1\n",
       "000ab7fb-dbac-414f-9080-88f265e2243e    1\n",
       "000b7ff7-47ea-48d3-9b09-1edd150acb02    1\n",
       "000c5621-b577-465d-be91-75254d75cc68    2\n",
       "                                       ..\n",
       "fff2a379-46a1-4e09-9515-05d2cd26ceaa    1\n",
       "fff3b53b-09fd-4681-9b79-4bc07360488f    1\n",
       "fffa2e94-f426-405f-ab11-6f6602731ec8    1\n",
       "fffea166-9432-43a7-8b1b-09d6f30c1c07    4\n",
       "ffffb713-5497-4c20-b157-31356dec6e0e    1\n",
       "Name: ds, Length: 18605, dtype: int64"
      ]
     },
     "execution_count": 74,
     "metadata": {},
     "output_type": "execute_result"
    }
   ],
   "source": [
    "searchsess_per_user"
   ]
  },
  {
   "cell_type": "code",
   "execution_count": 75,
   "id": "92d9bfcd",
   "metadata": {},
   "outputs": [
    {
     "data": {
      "text/plain": [
       "81"
      ]
     },
     "execution_count": 75,
     "metadata": {},
     "output_type": "execute_result"
    }
   ],
   "source": [
    "searchsess_per_user.max()"
   ]
  },
  {
   "cell_type": "code",
   "execution_count": 76,
   "id": "731fd2f0",
   "metadata": {},
   "outputs": [
    {
     "data": {
      "text/plain": [
       "<AxesSubplot:xlabel='ds'>"
      ]
     },
     "execution_count": 76,
     "metadata": {},
     "output_type": "execute_result"
    },
    {
     "data": {
      "image/png": "[encoded data removed]",
      "text/plain": [
       "<Figure size 432x288 with 1 Axes>"
      ]
     },
     "metadata": {
      "needs_background": "light"
     },
     "output_type": "display_data"
    }
   ],
   "source": [
    "sns.boxplot(x=searchsess_per_user)"
   ]
  },
  {
   "cell_type": "code",
   "execution_count": 77,
   "id": "3c410adb",
   "metadata": {},
   "outputs": [
    {
     "data": {
      "text/plain": [
       "10.378930395055093"
      ]
     },
     "execution_count": 77,
     "metadata": {},
     "output_type": "execute_result"
    }
   ],
   "source": [
    "len(searchsess_per_user[searchsess_per_user > 3])*100/len(searchsess_per_user)"
   ]
  },
  {
   "cell_type": "markdown",
   "id": "613e3bcb",
   "metadata": {},
   "source": [
    "Looking at above, there are several outliers such as a user that attempted 81 search sessions. Additionally, we can see that only 10.37% of the users conducted more than 3 search sessions."
   ]
  },
  {
   "cell_type": "markdown",
   "id": "7c074ef6",
   "metadata": {},
   "source": [
    "Therefore we could focus on data with search below or equal to 3 search sessions. "
   ]
  },
  {
   "cell_type": "code",
   "execution_count": 78,
   "id": "0f1bfe9c",
   "metadata": {},
   "outputs": [
    {
     "name": "stderr",
     "output_type": "stream",
     "text": [
      "C:\\Users\\bnriv\\anaconda3\\lib\\site-packages\\seaborn\\_decorators.py:36: FutureWarning: Pass the following variable as a keyword arg: x. From version 0.12, the only valid positional argument will be `data`, and passing other arguments without an explicit keyword will result in an error or misinterpretation.\n",
      "  warnings.warn(\n"
     ]
    },
    {
     "data": {
      "text/plain": [
       "<AxesSubplot:xlabel='ds'>"
      ]
     },
     "execution_count": 78,
     "metadata": {},
     "output_type": "execute_result"
    },
    {
     "data": {
      "image/png": "[encoded data removed]",
      "text/plain": [
       "<Figure size 432x288 with 1 Axes>"
      ]
     },
     "metadata": {
      "needs_background": "light"
     },
     "output_type": "display_data"
    }
   ],
   "source": [
    "sns.boxplot(searchsess_per_user[searchsess_per_user <= 3])"
   ]
  },
  {
   "cell_type": "code",
   "execution_count": 79,
   "id": "3ae3a71d",
   "metadata": {},
   "outputs": [
    {
     "data": {
      "text/plain": [
       "<AxesSubplot:xlabel='ds', ylabel='Count'>"
      ]
     },
     "execution_count": 79,
     "metadata": {},
     "output_type": "execute_result"
    },
    {
     "data": {
      "image/png": "[encoded data removed]",
      "text/plain": [
       "<Figure size 432x288 with 1 Axes>"
      ]
     },
     "metadata": {
      "needs_background": "light"
     },
     "output_type": "display_data"
    }
   ],
   "source": [
    "sns.histplot(searchsess_per_user[searchsess_per_user <= 3])"
   ]
  },
  {
   "cell_type": "code",
   "execution_count": 80,
   "id": "b3317e9b",
   "metadata": {},
   "outputs": [
    {
     "data": {
      "text/plain": [
       "18605"
      ]
     },
     "execution_count": 80,
     "metadata": {},
     "output_type": "execute_result"
    }
   ],
   "source": [
    "#Number of users\n",
    "df_searches.id_user.nunique()"
   ]
  },
  {
   "cell_type": "markdown",
   "id": "a63d62c4",
   "metadata": {},
   "source": [
    "From above, we found out that around 1000 users, which is more than 50% of the users actually only do 1 search attempts. Therefore it is very crucial to provide them the correct supply of accomodation to increase the conversion rate"
   ]
  },
  {
   "cell_type": "markdown",
   "id": "0e51124b",
   "metadata": {},
   "source": [
    "Within one search session/set, users conducted multiple individual search in which they might changed any search parameter. Therefore, we can analyse the number of individual searches within a search session/set through the 'n_searches' variable."
   ]
  },
  {
   "cell_type": "code",
   "execution_count": 81,
   "id": "e5131a47",
   "metadata": {},
   "outputs": [
    {
     "data": {
      "text/plain": [
       "448"
      ]
     },
     "execution_count": 81,
     "metadata": {},
     "output_type": "execute_result"
    }
   ],
   "source": [
    "df_searches.n_searches.max()"
   ]
  },
  {
   "cell_type": "code",
   "execution_count": 82,
   "id": "ac8fc97d",
   "metadata": {},
   "outputs": [
    {
     "data": {
      "text/plain": [
       "<AxesSubplot:xlabel='n_searches', ylabel='Count'>"
      ]
     },
     "execution_count": 82,
     "metadata": {},
     "output_type": "execute_result"
    },
    {
     "data": {
      "image/png": "[encoded data removed]",
      "text/plain": [
       "<Figure size 432x288 with 1 Axes>"
      ]
     },
     "metadata": {
      "needs_background": "light"
     },
     "output_type": "display_data"
    }
   ],
   "source": [
    "sns.histplot(data=df_searches.n_searches, binwidth=10)"
   ]
  },
  {
   "cell_type": "code",
   "execution_count": 83,
   "id": "fb3dc39d",
   "metadata": {},
   "outputs": [
    {
     "data": {
      "text/plain": [
       "<AxesSubplot:>"
      ]
     },
     "execution_count": 83,
     "metadata": {},
     "output_type": "execute_result"
    },
    {
     "data": {
      "image/png": "[encoded data removed]",
      "text/plain": [
       "<Figure size 432x288 with 1 Axes>"
      ]
     },
     "metadata": {
      "needs_background": "light"
     },
     "output_type": "display_data"
    }
   ],
   "source": [
    "sns.boxplot(data=df_searches.n_searches)"
   ]
  },
  {
   "cell_type": "code",
   "execution_count": 84,
   "id": "67a76069",
   "metadata": {},
   "outputs": [
    {
     "data": {
      "text/plain": [
       "count    35737.000000\n",
       "mean         9.206565\n",
       "std         17.348746\n",
       "min          1.000000\n",
       "25%          1.000000\n",
       "50%          4.000000\n",
       "75%         10.000000\n",
       "max        448.000000\n",
       "Name: n_searches, dtype: float64"
      ]
     },
     "execution_count": 84,
     "metadata": {},
     "output_type": "execute_result"
    }
   ],
   "source": [
    "df_searches.n_searches.describe()"
   ]
  },
  {
   "cell_type": "markdown",
   "id": "ede93f4f",
   "metadata": {},
   "source": [
    "We can see that the average number of searches in one search session is 10. However, as we look at the histogram and boxplot, this is might be because of the effect of the outliers. "
   ]
  },
  {
   "cell_type": "code",
   "execution_count": 85,
   "id": "303c2987",
   "metadata": {},
   "outputs": [
    {
     "data": {
      "text/html": [
       "<div>\n",
       "<style scoped>\n",
       "    .dataframe tbody tr th:only-of-type {\n",
       "        vertical-align: middle;\n",
       "    }\n",
       "\n",
       "    .dataframe tbody tr th {\n",
       "        vertical-align: top;\n",
       "    }\n",
       "\n",
       "    .dataframe thead th {\n",
       "        text-align: right;\n",
       "    }\n",
       "</style>\n",
       "<table border=\"1\" class=\"dataframe\">\n",
       "  <thead>\n",
       "    <tr style=\"text-align: right;\">\n",
       "      <th></th>\n",
       "      <th>ds</th>\n",
       "      <th>id_user</th>\n",
       "      <th>ds_checkin</th>\n",
       "      <th>ds_checkout</th>\n",
       "      <th>n_searches</th>\n",
       "      <th>n_nights</th>\n",
       "      <th>n_guests_min</th>\n",
       "      <th>n_guests_max</th>\n",
       "      <th>origin_country</th>\n",
       "      <th>filter_price_min</th>\n",
       "      <th>filter_price_max</th>\n",
       "      <th>filter_room_types</th>\n",
       "      <th>filter_neighborhoods</th>\n",
       "    </tr>\n",
       "  </thead>\n",
       "  <tbody>\n",
       "    <tr>\n",
       "      <th>1234</th>\n",
       "      <td>2014-10-02</td>\n",
       "      <td>be1ec4d4-7f5a-40ef-ac78-ccea9868bc55</td>\n",
       "      <td>NaT</td>\n",
       "      <td>NaT</td>\n",
       "      <td>150</td>\n",
       "      <td>NaN</td>\n",
       "      <td>1</td>\n",
       "      <td>1</td>\n",
       "      <td>IE</td>\n",
       "      <td>NaN</td>\n",
       "      <td>NaN</td>\n",
       "      <td>&lt;NA&gt;</td>\n",
       "      <td>&lt;NA&gt;</td>\n",
       "    </tr>\n",
       "    <tr>\n",
       "      <th>1953</th>\n",
       "      <td>2014-10-03</td>\n",
       "      <td>d1bc0c45-dfbc-4f65-937c-9a950b3735ff</td>\n",
       "      <td>NaT</td>\n",
       "      <td>NaT</td>\n",
       "      <td>102</td>\n",
       "      <td>NaN</td>\n",
       "      <td>1</td>\n",
       "      <td>1</td>\n",
       "      <td>GB</td>\n",
       "      <td>NaN</td>\n",
       "      <td>NaN</td>\n",
       "      <td>&lt;NA&gt;</td>\n",
       "      <td>&lt;NA&gt;</td>\n",
       "    </tr>\n",
       "    <tr>\n",
       "      <th>2108</th>\n",
       "      <td>2014-10-04</td>\n",
       "      <td>0d2f5ae1-a490-4f38-acfb-f809b3a68015</td>\n",
       "      <td>NaT</td>\n",
       "      <td>NaT</td>\n",
       "      <td>122</td>\n",
       "      <td>NaN</td>\n",
       "      <td>1</td>\n",
       "      <td>1</td>\n",
       "      <td>IE</td>\n",
       "      <td>0.0</td>\n",
       "      <td>8.600000e+01</td>\n",
       "      <td>,Private room</td>\n",
       "      <td>&lt;NA&gt;</td>\n",
       "    </tr>\n",
       "    <tr>\n",
       "      <th>2154</th>\n",
       "      <td>2014-10-04</td>\n",
       "      <td>1e6ecbf6-e2d9-4bbc-841a-49958019b764</td>\n",
       "      <td>NaT</td>\n",
       "      <td>NaT</td>\n",
       "      <td>112</td>\n",
       "      <td>NaN</td>\n",
       "      <td>1</td>\n",
       "      <td>1</td>\n",
       "      <td>IE</td>\n",
       "      <td>NaN</td>\n",
       "      <td>NaN</td>\n",
       "      <td>&lt;NA&gt;</td>\n",
       "      <td>&lt;NA&gt;</td>\n",
       "    </tr>\n",
       "    <tr>\n",
       "      <th>2254</th>\n",
       "      <td>2014-10-04</td>\n",
       "      <td>4a1f0c72-7149-41c0-a655-e60c56cd4155</td>\n",
       "      <td>NaT</td>\n",
       "      <td>NaT</td>\n",
       "      <td>233</td>\n",
       "      <td>NaN</td>\n",
       "      <td>1</td>\n",
       "      <td>1</td>\n",
       "      <td>IL</td>\n",
       "      <td>0.0</td>\n",
       "      <td>3.800000e+01</td>\n",
       "      <td>&lt;NA&gt;</td>\n",
       "      <td>&lt;NA&gt;</td>\n",
       "    </tr>\n",
       "    <tr>\n",
       "      <th>...</th>\n",
       "      <td>...</td>\n",
       "      <td>...</td>\n",
       "      <td>...</td>\n",
       "      <td>...</td>\n",
       "      <td>...</td>\n",
       "      <td>...</td>\n",
       "      <td>...</td>\n",
       "      <td>...</td>\n",
       "      <td>...</td>\n",
       "      <td>...</td>\n",
       "      <td>...</td>\n",
       "      <td>...</td>\n",
       "      <td>...</td>\n",
       "    </tr>\n",
       "    <tr>\n",
       "      <th>35378</th>\n",
       "      <td>2014-10-13</td>\n",
       "      <td>7b72c33b-9f95-40d9-a19b-bf4b3a5bcc26</td>\n",
       "      <td>2014-11-26</td>\n",
       "      <td>2014-11-28</td>\n",
       "      <td>106</td>\n",
       "      <td>2.0</td>\n",
       "      <td>1</td>\n",
       "      <td>10</td>\n",
       "      <td>DE</td>\n",
       "      <td>0.0</td>\n",
       "      <td>1.096000e+03</td>\n",
       "      <td>,Entire home/apt,Entire home/apt,Private room,...</td>\n",
       "      <td>&lt;NA&gt;</td>\n",
       "    </tr>\n",
       "    <tr>\n",
       "      <th>35388</th>\n",
       "      <td>2014-10-12</td>\n",
       "      <td>bd34054e-737f-46e6-80fa-cd9ea5e750c7</td>\n",
       "      <td>2014-12-12</td>\n",
       "      <td>2014-12-14</td>\n",
       "      <td>107</td>\n",
       "      <td>2.0</td>\n",
       "      <td>1</td>\n",
       "      <td>10</td>\n",
       "      <td>FR</td>\n",
       "      <td>NaN</td>\n",
       "      <td>NaN</td>\n",
       "      <td>,Entire home/apt,Entire home/apt,Private room,...</td>\n",
       "      <td>&lt;NA&gt;</td>\n",
       "    </tr>\n",
       "    <tr>\n",
       "      <th>35516</th>\n",
       "      <td>2014-10-10</td>\n",
       "      <td>73c59c7d-7a94-458c-a8e3-ba34a79df679</td>\n",
       "      <td>2014-10-17</td>\n",
       "      <td>2014-10-20</td>\n",
       "      <td>120</td>\n",
       "      <td>3.0</td>\n",
       "      <td>1</td>\n",
       "      <td>11</td>\n",
       "      <td>IT</td>\n",
       "      <td>0.0</td>\n",
       "      <td>1.073742e+09</td>\n",
       "      <td>,Entire home/apt,Private room,Private room,Sha...</td>\n",
       "      <td>&lt;NA&gt;</td>\n",
       "    </tr>\n",
       "    <tr>\n",
       "      <th>35518</th>\n",
       "      <td>2014-10-13</td>\n",
       "      <td>8ebde6fc-430a-4784-9f5c-adfa1cc0c402</td>\n",
       "      <td>2014-10-24</td>\n",
       "      <td>2014-11-01</td>\n",
       "      <td>139</td>\n",
       "      <td>8.0</td>\n",
       "      <td>1</td>\n",
       "      <td>11</td>\n",
       "      <td>FR</td>\n",
       "      <td>0.0</td>\n",
       "      <td>1.073742e+09</td>\n",
       "      <td>,Entire home/apt,Entire home/apt,Private room</td>\n",
       "      <td>,City Centre,City Centre,Ranelagh and Rathmine...</td>\n",
       "    </tr>\n",
       "    <tr>\n",
       "      <th>35730</th>\n",
       "      <td>2014-10-05</td>\n",
       "      <td>eda96881-7b23-413a-9f6f-b45dc9fe2a5b</td>\n",
       "      <td>2015-06-12</td>\n",
       "      <td>2015-06-14</td>\n",
       "      <td>170</td>\n",
       "      <td>2.0</td>\n",
       "      <td>2</td>\n",
       "      <td>16</td>\n",
       "      <td>GB</td>\n",
       "      <td>0.0</td>\n",
       "      <td>3.450000e+02</td>\n",
       "      <td>,Entire home/apt</td>\n",
       "      <td>&lt;NA&gt;</td>\n",
       "    </tr>\n",
       "  </tbody>\n",
       "</table>\n",
       "<p>209 rows × 13 columns</p>\n",
       "</div>"
      ],
      "text/plain": [
       "              ds                               id_user ds_checkin ds_checkout  \\\n",
       "1234  2014-10-02  be1ec4d4-7f5a-40ef-ac78-ccea9868bc55        NaT         NaT   \n",
       "1953  2014-10-03  d1bc0c45-dfbc-4f65-937c-9a950b3735ff        NaT         NaT   \n",
       "2108  2014-10-04  0d2f5ae1-a490-4f38-acfb-f809b3a68015        NaT         NaT   \n",
       "2154  2014-10-04  1e6ecbf6-e2d9-4bbc-841a-49958019b764        NaT         NaT   \n",
       "2254  2014-10-04  4a1f0c72-7149-41c0-a655-e60c56cd4155        NaT         NaT   \n",
       "...          ...                                   ...        ...         ...   \n",
       "35378 2014-10-13  7b72c33b-9f95-40d9-a19b-bf4b3a5bcc26 2014-11-26  2014-11-28   \n",
       "35388 2014-10-12  bd34054e-737f-46e6-80fa-cd9ea5e750c7 2014-12-12  2014-12-14   \n",
       "35516 2014-10-10  73c59c7d-7a94-458c-a8e3-ba34a79df679 2014-10-17  2014-10-20   \n",
       "35518 2014-10-13  8ebde6fc-430a-4784-9f5c-adfa1cc0c402 2014-10-24  2014-11-01   \n",
       "35730 2014-10-05  eda96881-7b23-413a-9f6f-b45dc9fe2a5b 2015-06-12  2015-06-14   \n",
       "\n",
       "       n_searches  n_nights  n_guests_min  n_guests_max origin_country  \\\n",
       "1234          150       NaN             1             1             IE   \n",
       "1953          102       NaN             1             1             GB   \n",
       "2108          122       NaN             1             1             IE   \n",
       "2154          112       NaN             1             1             IE   \n",
       "2254          233       NaN             1             1             IL   \n",
       "...           ...       ...           ...           ...            ...   \n",
       "35378         106       2.0             1            10             DE   \n",
       "35388         107       2.0             1            10             FR   \n",
       "35516         120       3.0             1            11             IT   \n",
       "35518         139       8.0             1            11             FR   \n",
       "35730         170       2.0             2            16             GB   \n",
       "\n",
       "       filter_price_min  filter_price_max  \\\n",
       "1234                NaN               NaN   \n",
       "1953                NaN               NaN   \n",
       "2108                0.0      8.600000e+01   \n",
       "2154                NaN               NaN   \n",
       "2254                0.0      3.800000e+01   \n",
       "...                 ...               ...   \n",
       "35378               0.0      1.096000e+03   \n",
       "35388               NaN               NaN   \n",
       "35516               0.0      1.073742e+09   \n",
       "35518               0.0      1.073742e+09   \n",
       "35730               0.0      3.450000e+02   \n",
       "\n",
       "                                       filter_room_types  \\\n",
       "1234                                                <NA>   \n",
       "1953                                                <NA>   \n",
       "2108                                       ,Private room   \n",
       "2154                                                <NA>   \n",
       "2254                                                <NA>   \n",
       "...                                                  ...   \n",
       "35378  ,Entire home/apt,Entire home/apt,Private room,...   \n",
       "35388  ,Entire home/apt,Entire home/apt,Private room,...   \n",
       "35516  ,Entire home/apt,Private room,Private room,Sha...   \n",
       "35518      ,Entire home/apt,Entire home/apt,Private room   \n",
       "35730                                   ,Entire home/apt   \n",
       "\n",
       "                                    filter_neighborhoods  \n",
       "1234                                                <NA>  \n",
       "1953                                                <NA>  \n",
       "2108                                                <NA>  \n",
       "2154                                                <NA>  \n",
       "2254                                                <NA>  \n",
       "...                                                  ...  \n",
       "35378                                               <NA>  \n",
       "35388                                               <NA>  \n",
       "35516                                               <NA>  \n",
       "35518  ,City Centre,City Centre,Ranelagh and Rathmine...  \n",
       "35730                                               <NA>  \n",
       "\n",
       "[209 rows x 13 columns]"
      ]
     },
     "execution_count": 85,
     "metadata": {},
     "output_type": "execute_result"
    }
   ],
   "source": [
    "df_searches[df_searches.n_searches > 100]"
   ]
  },
  {
   "cell_type": "code",
   "execution_count": 86,
   "id": "03c41f5f",
   "metadata": {},
   "outputs": [
    {
     "data": {
      "text/plain": [
       "10.647228362761284"
      ]
     },
     "execution_count": 86,
     "metadata": {},
     "output_type": "execute_result"
    }
   ],
   "source": [
    "len(df_searches[df_searches.n_searches > 20])*100/len(df_searches)"
   ]
  },
  {
   "cell_type": "markdown",
   "id": "5d2425a2",
   "metadata": {},
   "source": [
    "We can see that only 10% of the data has number of search more than 20."
   ]
  },
  {
   "cell_type": "markdown",
   "id": "5a19f8d2",
   "metadata": {},
   "source": [
    "Therefore, let's see the characteristic of the data with number of search less or equal than 20. "
   ]
  },
  {
   "cell_type": "code",
   "execution_count": 87,
   "id": "14d5b174",
   "metadata": {},
   "outputs": [
    {
     "data": {
      "text/plain": [
       "<AxesSubplot:>"
      ]
     },
     "execution_count": 87,
     "metadata": {},
     "output_type": "execute_result"
    },
    {
     "data": {
      "image/png": "[encoded data removed]",
      "text/plain": [
       "<Figure size 432x288 with 1 Axes>"
      ]
     },
     "metadata": {
      "needs_background": "light"
     },
     "output_type": "display_data"
    }
   ],
   "source": [
    "sns.boxplot(data=df_searches.n_searches[df_searches.n_searches <= 20])"
   ]
  },
  {
   "cell_type": "code",
   "execution_count": 88,
   "id": "356aefc7",
   "metadata": {},
   "outputs": [
    {
     "data": {
      "text/plain": [
       "<AxesSubplot:xlabel='n_searches', ylabel='Count'>"
      ]
     },
     "execution_count": 88,
     "metadata": {},
     "output_type": "execute_result"
    },
    {
     "data": {
      "image/png": "[encoded data removed]",
      "text/plain": [
       "<Figure size 432x288 with 1 Axes>"
      ]
     },
     "metadata": {
      "needs_background": "light"
     },
     "output_type": "display_data"
    }
   ],
   "source": [
    "sns.histplot(data=df_searches.n_searches[df_searches.n_searches <= 20], binwidth = 1)"
   ]
  },
  {
   "cell_type": "markdown",
   "id": "9fd142e7",
   "metadata": {},
   "source": [
    "Apparently the average number of search within one session is around 2.5 and the most frequent number of search is 1. The dataset is positively skewed"
   ]
  },
  {
   "cell_type": "markdown",
   "id": "fa397354",
   "metadata": {},
   "source": [
    "<h4> 2. When did the users search for accomodation? When do the users want to check in?"
   ]
  },
  {
   "cell_type": "code",
   "execution_count": 89,
   "id": "566eef9e",
   "metadata": {},
   "outputs": [
    {
     "data": {
      "text/plain": [
       "Timestamp('2014-10-01 00:00:00')"
      ]
     },
     "execution_count": 89,
     "metadata": {},
     "output_type": "execute_result"
    }
   ],
   "source": [
    "df_searches.ds.min()"
   ]
  },
  {
   "cell_type": "code",
   "execution_count": 90,
   "id": "fd520bc6",
   "metadata": {},
   "outputs": [
    {
     "data": {
      "text/plain": [
       "Timestamp('2014-10-14 00:00:00')"
      ]
     },
     "execution_count": 90,
     "metadata": {},
     "output_type": "execute_result"
    }
   ],
   "source": [
    "df_searches.ds.max()"
   ]
  },
  {
   "cell_type": "code",
   "execution_count": 91,
   "id": "35497bb9",
   "metadata": {},
   "outputs": [
    {
     "data": {
      "text/plain": [
       "<AxesSubplot:xlabel='ds', ylabel='Count'>"
      ]
     },
     "execution_count": 91,
     "metadata": {},
     "output_type": "execute_result"
    },
    {
     "data": {
      "image/png": "[encoded data removed]",
      "text/plain": [
       "<Figure size 432x288 with 1 Axes>"
      ]
     },
     "metadata": {
      "needs_background": "light"
     },
     "output_type": "display_data"
    }
   ],
   "source": [
    "sns.histplot(df_searches.ds)"
   ]
  },
  {
   "cell_type": "markdown",
   "id": "f6ea628a",
   "metadata": {},
   "source": [
    "The number of searches between 01 October 2014 and 14 October 2014 were constant."
   ]
  },
  {
   "cell_type": "code",
   "execution_count": 92,
   "id": "ac5c29a6",
   "metadata": {},
   "outputs": [],
   "source": [
    "df_searches[\"n_days_before\"] = (df_searches[\"ds_checkin\"] - df_searches[\"ds\"])"
   ]
  },
  {
   "cell_type": "code",
   "execution_count": 93,
   "id": "c6570875",
   "metadata": {},
   "outputs": [
    {
     "data": {
      "text/plain": [
       "count                         23888\n",
       "mean     51 days 08:11:53.730743469\n",
       "std      65 days 18:56:19.491940518\n",
       "min               -1 days +00:00:00\n",
       "25%                10 days 00:00:00\n",
       "50%                26 days 00:00:00\n",
       "75%                67 days 00:00:00\n",
       "max               604 days 00:00:00\n",
       "Name: n_days_before, dtype: object"
      ]
     },
     "execution_count": 93,
     "metadata": {},
     "output_type": "execute_result"
    }
   ],
   "source": [
    "df_searches[\"n_days_before\"].describe()"
   ]
  },
  {
   "cell_type": "markdown",
   "id": "30b07a50",
   "metadata": {},
   "source": [
    "On average users tend to look for accomodation around 51 days before their check in date."
   ]
  },
  {
   "cell_type": "code",
   "execution_count": 94,
   "id": "4a32fc3c",
   "metadata": {},
   "outputs": [
    {
     "data": {
      "text/plain": [
       "<seaborn.axisgrid.FacetGrid at 0x27844fa5cd0>"
      ]
     },
     "execution_count": 94,
     "metadata": {},
     "output_type": "execute_result"
    },
    {
     "data": {
      "image/png": "[encoded data removed]",
      "text/plain": [
       "<Figure size 360x360 with 1 Axes>"
      ]
     },
     "metadata": {
      "needs_background": "light"
     },
     "output_type": "display_data"
    }
   ],
   "source": [
    "sns.displot(x = df_searches[\"n_days_before\"].dt.days, binwidth=10)"
   ]
  },
  {
   "cell_type": "code",
   "execution_count": 95,
   "id": "50bd00b1",
   "metadata": {},
   "outputs": [
    {
     "data": {
      "text/plain": [
       "0   1 days\n",
       "dtype: timedelta64[ns]"
      ]
     },
     "execution_count": 95,
     "metadata": {},
     "output_type": "execute_result"
    }
   ],
   "source": [
    "df_searches[\"n_days_before\"].mode()"
   ]
  },
  {
   "cell_type": "code",
   "execution_count": 96,
   "id": "4de0c127",
   "metadata": {},
   "outputs": [
    {
     "data": {
      "text/plain": [
       "9.396423874415872"
      ]
     },
     "execution_count": 96,
     "metadata": {},
     "output_type": "execute_result"
    }
   ],
   "source": [
    "len(df_searches[df_searches[\"n_days_before\"].dt.days > 100])*100/len(df_searches)"
   ]
  },
  {
   "cell_type": "markdown",
   "id": "c931f51a",
   "metadata": {},
   "source": [
    "Only 9.39% of data are above 100 days. Therefore, we can focus on data that has below or equal to 100 days before check-in"
   ]
  },
  {
   "cell_type": "code",
   "execution_count": 97,
   "id": "65b69e5b",
   "metadata": {},
   "outputs": [
    {
     "data": {
      "text/plain": [
       "<seaborn.axisgrid.FacetGrid at 0x278451cfd60>"
      ]
     },
     "execution_count": 97,
     "metadata": {},
     "output_type": "execute_result"
    },
    {
     "data": {
      "image/png": "[encoded data removed]",
      "text/plain": [
       "<Figure size 360x360 with 1 Axes>"
      ]
     },
     "metadata": {
      "needs_background": "light"
     },
     "output_type": "display_data"
    }
   ],
   "source": [
    "sns.displot(x = df_searches[\"n_days_before\"][df_searches[\"n_days_before\"].dt.days < 100].dt.days, binwidth=2)"
   ]
  },
  {
   "cell_type": "markdown",
   "id": "92130250",
   "metadata": {},
   "source": [
    "However, as you can see most of the number of people are booking 3-4 days before their checkin date. We need to be careful in interpreting this. Because the reason might not be that the users need the accomodation the day after but they might be just looking around and do not have check-in date in mind yet"
   ]
  },
  {
   "cell_type": "code",
   "execution_count": 98,
   "id": "38157fe3",
   "metadata": {},
   "outputs": [
    {
     "data": {
      "text/plain": [
       "[[None,\n",
       "  None,\n",
       "  None,\n",
       "  None,\n",
       "  None,\n",
       "  None,\n",
       "  None,\n",
       "  None,\n",
       "  None,\n",
       "  None,\n",
       "  None,\n",
       "  None,\n",
       "  None,\n",
       "  None,\n",
       "  None,\n",
       "  None,\n",
       "  None,\n",
       "  None,\n",
       "  None,\n",
       "  None,\n",
       "  None,\n",
       "  None,\n",
       "  None,\n",
       "  None]]"
      ]
     },
     "execution_count": 98,
     "metadata": {},
     "output_type": "execute_result"
    },
    {
     "data": {
      "image/png": "[encoded data removed]",
      "text/plain": [
       "<Figure size 360x360 with 1 Axes>"
      ]
     },
     "metadata": {
      "needs_background": "light"
     },
     "output_type": "display_data"
    }
   ],
   "source": [
    "ax = sns.displot(data=df_searches, x = 'ds_checkin')\n",
    "[plt.setp(ax.get_xticklabels(), rotation=90) for ax in ax.axes.flat]"
   ]
  },
  {
   "cell_type": "markdown",
   "id": "9536b31f",
   "metadata": {},
   "source": [
    "Users are looking for end of year vacation and also around March next year"
   ]
  },
  {
   "cell_type": "markdown",
   "id": "f0a1437f",
   "metadata": {},
   "source": [
    "<h4> 3. How many nights the users want to stay?"
   ]
  },
  {
   "cell_type": "code",
   "execution_count": 99,
   "id": "6e92f63b",
   "metadata": {},
   "outputs": [
    {
     "data": {
      "text/plain": [
       "count    23888.000000\n",
       "mean         7.672765\n",
       "std         21.557614\n",
       "min          0.000000\n",
       "25%          2.000000\n",
       "50%          3.000000\n",
       "75%          5.000000\n",
       "max        399.000000\n",
       "Name: n_nights, dtype: float64"
      ]
     },
     "execution_count": 99,
     "metadata": {},
     "output_type": "execute_result"
    }
   ],
   "source": [
    "df_searches[\"n_nights\"].describe()"
   ]
  },
  {
   "cell_type": "code",
   "execution_count": 100,
   "id": "0d218871",
   "metadata": {},
   "outputs": [
    {
     "data": {
      "text/plain": [
       "7.521616252063687"
      ]
     },
     "execution_count": 100,
     "metadata": {},
     "output_type": "execute_result"
    }
   ],
   "source": [
    "len(df_searches[df_searches[\"n_nights\"] > 10])*100/len(df_searches)"
   ]
  },
  {
   "cell_type": "markdown",
   "id": "1d7d15b7",
   "metadata": {},
   "source": [
    "Only 7.5 % of the data has number of nights above 10. Therefore, we can focus on the data that has less or equal to 10"
   ]
  },
  {
   "cell_type": "code",
   "execution_count": 101,
   "id": "f39bcfa0",
   "metadata": {},
   "outputs": [
    {
     "data": {
      "text/plain": [
       "<seaborn.axisgrid.FacetGrid at 0x2784522ef70>"
      ]
     },
     "execution_count": 101,
     "metadata": {},
     "output_type": "execute_result"
    },
    {
     "data": {
      "image/png": "[encoded data removed]",
      "text/plain": [
       "<Figure size 360x360 with 1 Axes>"
      ]
     },
     "metadata": {
      "needs_background": "light"
     },
     "output_type": "display_data"
    }
   ],
   "source": [
    "sns.displot(x = df_searches[\"n_nights\"][df_searches[\"n_nights\"] <= 10], binwidth=1)"
   ]
  },
  {
   "cell_type": "code",
   "execution_count": 102,
   "id": "cff005cb",
   "metadata": {},
   "outputs": [
    {
     "data": {
      "text/plain": [
       "<AxesSubplot:xlabel='n_nights'>"
      ]
     },
     "execution_count": 102,
     "metadata": {},
     "output_type": "execute_result"
    },
    {
     "data": {
      "image/png": "[encoded data removed]",
      "text/plain": [
       "<Figure size 432x288 with 1 Axes>"
      ]
     },
     "metadata": {
      "needs_background": "light"
     },
     "output_type": "display_data"
    }
   ],
   "source": [
    "sns.boxplot(x = df_searches[\"n_nights\"][df_searches[\"n_nights\"] <= 10])"
   ]
  },
  {
   "cell_type": "markdown",
   "id": "d7b88994",
   "metadata": {},
   "source": [
    "Users are looking to stay for 3 nights on average"
   ]
  },
  {
   "cell_type": "markdown",
   "id": "7ed7eec0",
   "metadata": {},
   "source": [
    "<h4> "
   ]
  },
  {
   "cell_type": "code",
   "execution_count": 103,
   "id": "32d7ad76",
   "metadata": {},
   "outputs": [
    {
     "data": {
      "text/plain": [
       "<AxesSubplot:xlabel='n_guests_min', ylabel='Count'>"
      ]
     },
     "execution_count": 103,
     "metadata": {},
     "output_type": "execute_result"
    },
    {
     "data": {
      "image/png": "[encoded data removed]",
      "text/plain": [
       "<Figure size 432x288 with 1 Axes>"
      ]
     },
     "metadata": {
      "needs_background": "light"
     },
     "output_type": "display_data"
    }
   ],
   "source": [
    "sns.histplot(df_searches.n_guests_min)"
   ]
  },
  {
   "cell_type": "code",
   "execution_count": 104,
   "id": "0d3b3e4f",
   "metadata": {},
   "outputs": [
    {
     "data": {
      "text/plain": [
       "<AxesSubplot:xlabel='n_guests_max', ylabel='Count'>"
      ]
     },
     "execution_count": 104,
     "metadata": {},
     "output_type": "execute_result"
    },
    {
     "data": {
      "image/png": "[encoded data removed]",
      "text/plain": [
       "<Figure size 432x288 with 1 Axes>"
      ]
     },
     "metadata": {
      "needs_background": "light"
     },
     "output_type": "display_data"
    }
   ],
   "source": [
    "sns.histplot(df_searches.n_guests_max)"
   ]
  },
  {
   "cell_type": "markdown",
   "id": "c1a202e7",
   "metadata": {},
   "source": [
    "<h4> 5. Where are the users from?"
   ]
  },
  {
   "cell_type": "code",
   "execution_count": 105,
   "id": "4d490c5b",
   "metadata": {},
   "outputs": [
    {
     "data": {
      "text/plain": [
       "IE    6608\n",
       "US    5811\n",
       "GB    4832\n",
       "FR    3444\n",
       "IT    2333\n",
       "DE    2170\n",
       "ES    1759\n",
       "CA    1085\n",
       "AU     962\n",
       "NL     843\n",
       "Name: origin_country, dtype: Int64"
      ]
     },
     "execution_count": 105,
     "metadata": {},
     "output_type": "execute_result"
    }
   ],
   "source": [
    "df_searches['origin_country'].value_counts().head(10)"
   ]
  },
  {
   "cell_type": "markdown",
   "id": "c6a65432",
   "metadata": {},
   "source": [
    "The users are mostly European/Western countries with top 5 countries from Ireland, United States, Great Britain, France, and Italy"
   ]
  },
  {
   "cell_type": "markdown",
   "id": "870ecf26",
   "metadata": {},
   "source": [
    "<h4> 6. How much are the users willing to pay?"
   ]
  },
  {
   "cell_type": "code",
   "execution_count": 106,
   "id": "6a369dc3",
   "metadata": {},
   "outputs": [
    {
     "name": "stderr",
     "output_type": "stream",
     "text": [
      "C:\\Users\\bnriv\\anaconda3\\lib\\site-packages\\seaborn\\_decorators.py:36: FutureWarning: Pass the following variable as a keyword arg: x. From version 0.12, the only valid positional argument will be `data`, and passing other arguments without an explicit keyword will result in an error or misinterpretation.\n",
      "  warnings.warn(\n"
     ]
    },
    {
     "data": {
      "text/plain": [
       "<AxesSubplot:xlabel='filter_price_max'>"
      ]
     },
     "execution_count": 106,
     "metadata": {},
     "output_type": "execute_result"
    },
    {
     "data": {
      "image/png": "[encoded data removed]",
      "text/plain": [
       "<Figure size 432x288 with 1 Axes>"
      ]
     },
     "metadata": {
      "needs_background": "light"
     },
     "output_type": "display_data"
    }
   ],
   "source": [
    "sns.boxplot(df_searches[\"filter_price_max\"])"
   ]
  },
  {
   "cell_type": "code",
   "execution_count": 107,
   "id": "be87d2a1",
   "metadata": {},
   "outputs": [
    {
     "data": {
      "text/plain": [
       "<AxesSubplot:xlabel='filter_price_min', ylabel='Count'>"
      ]
     },
     "execution_count": 107,
     "metadata": {},
     "output_type": "execute_result"
    },
    {
     "data": {
      "image/png": "[encoded data removed]",
      "text/plain": [
       "<Figure size 432x288 with 1 Axes>"
      ]
     },
     "metadata": {
      "needs_background": "light"
     },
     "output_type": "display_data"
    }
   ],
   "source": [
    "sns.histplot(df_searches[\"filter_price_min\"])"
   ]
  },
  {
   "cell_type": "markdown",
   "id": "4d70cda6",
   "metadata": {},
   "source": [
    "From above, we can see that there are vey small number of search that uses max price more than 50,000,000"
   ]
  },
  {
   "cell_type": "markdown",
   "id": "47fad2e5",
   "metadata": {},
   "source": [
    "Therefore let's check the boxplot of searches with max price under than 50,000,000"
   ]
  },
  {
   "cell_type": "code",
   "execution_count": 108,
   "id": "2bc36c6e",
   "metadata": {},
   "outputs": [],
   "source": [
    "df_searches_maxprice1 = df_searches[df_searches[\"filter_price_max\"] < 50000000]"
   ]
  },
  {
   "cell_type": "code",
   "execution_count": 109,
   "id": "9b8fd523",
   "metadata": {},
   "outputs": [
    {
     "name": "stderr",
     "output_type": "stream",
     "text": [
      "C:\\Users\\bnriv\\anaconda3\\lib\\site-packages\\seaborn\\_decorators.py:36: FutureWarning: Pass the following variable as a keyword arg: x. From version 0.12, the only valid positional argument will be `data`, and passing other arguments without an explicit keyword will result in an error or misinterpretation.\n",
      "  warnings.warn(\n"
     ]
    },
    {
     "data": {
      "text/plain": [
       "<AxesSubplot:xlabel='filter_price_max'>"
      ]
     },
     "execution_count": 109,
     "metadata": {},
     "output_type": "execute_result"
    },
    {
     "data": {
      "image/png": "[encoded data removed]",
      "text/plain": [
       "<Figure size 432x288 with 1 Axes>"
      ]
     },
     "metadata": {
      "needs_background": "light"
     },
     "output_type": "display_data"
    }
   ],
   "source": [
    "sns.boxplot(df_searches_maxprice1[\"filter_price_max\"])"
   ]
  },
  {
   "cell_type": "code",
   "execution_count": 110,
   "id": "f2d50530",
   "metadata": {},
   "outputs": [
    {
     "data": {
      "text/plain": [
       "<AxesSubplot:xlabel='filter_price_max', ylabel='Count'>"
      ]
     },
     "execution_count": 110,
     "metadata": {},
     "output_type": "execute_result"
    },
    {
     "data": {
      "image/png": "[encoded data removed]",
      "text/plain": [
       "<Figure size 432x288 with 1 Axes>"
      ]
     },
     "metadata": {
      "needs_background": "light"
     },
     "output_type": "display_data"
    }
   ],
   "source": [
    "sns.histplot(data=df_searches_maxprice1[\"filter_price_max\"], binwidth=50)"
   ]
  },
  {
   "cell_type": "markdown",
   "id": "5269ff28",
   "metadata": {},
   "source": [
    "We can see that users are mostly looking for an accomodation between 50-75 usd/night"
   ]
  },
  {
   "cell_type": "code",
   "execution_count": 111,
   "id": "969b5950",
   "metadata": {},
   "outputs": [
    {
     "name": "stderr",
     "output_type": "stream",
     "text": [
      "C:\\Users\\bnriv\\anaconda3\\lib\\site-packages\\seaborn\\_decorators.py:36: FutureWarning: Pass the following variable as a keyword arg: x. From version 0.12, the only valid positional argument will be `data`, and passing other arguments without an explicit keyword will result in an error or misinterpretation.\n",
      "  warnings.warn(\n"
     ]
    },
    {
     "data": {
      "text/plain": [
       "<AxesSubplot:xlabel='filter_price_min'>"
      ]
     },
     "execution_count": 111,
     "metadata": {},
     "output_type": "execute_result"
    },
    {
     "data": {
      "image/png": "[encoded data removed]",
      "text/plain": [
       "<Figure size 432x288 with 1 Axes>"
      ]
     },
     "metadata": {
      "needs_background": "light"
     },
     "output_type": "display_data"
    }
   ],
   "source": [
    "sns.boxplot(df_searches[\"filter_price_min\"])"
   ]
  },
  {
   "cell_type": "code",
   "execution_count": 112,
   "id": "ef91df32",
   "metadata": {},
   "outputs": [],
   "source": [
    "df_searches_minprice1 = df_searches[df_searches[\"filter_price_min\"] < 700]"
   ]
  },
  {
   "cell_type": "code",
   "execution_count": 113,
   "id": "17d7b4cb",
   "metadata": {},
   "outputs": [
    {
     "name": "stderr",
     "output_type": "stream",
     "text": [
      "C:\\Users\\bnriv\\anaconda3\\lib\\site-packages\\seaborn\\_decorators.py:36: FutureWarning: Pass the following variable as a keyword arg: x. From version 0.12, the only valid positional argument will be `data`, and passing other arguments without an explicit keyword will result in an error or misinterpretation.\n",
      "  warnings.warn(\n"
     ]
    },
    {
     "data": {
      "text/plain": [
       "<AxesSubplot:xlabel='filter_price_min'>"
      ]
     },
     "execution_count": 113,
     "metadata": {},
     "output_type": "execute_result"
    },
    {
     "data": {
      "image/png": "[encoded data removed]",
      "text/plain": [
       "<Figure size 432x288 with 1 Axes>"
      ]
     },
     "metadata": {
      "needs_background": "light"
     },
     "output_type": "display_data"
    }
   ],
   "source": [
    "sns.boxplot(df_searches_minprice1[\"filter_price_min\"])"
   ]
  },
  {
   "cell_type": "code",
   "execution_count": 114,
   "id": "08c9f338",
   "metadata": {},
   "outputs": [
    {
     "data": {
      "text/plain": [
       "2.2329798248314074"
      ]
     },
     "execution_count": 114,
     "metadata": {},
     "output_type": "execute_result"
    }
   ],
   "source": [
    "len(df_searches[df_searches[\"filter_price_min\"] > 1] )*100 / len(df_searches)"
   ]
  },
  {
   "cell_type": "markdown",
   "id": "6aab3b6f",
   "metadata": {},
   "source": [
    "We can see from above that only 2.2% of the data has price minimum set to 10 USD or above"
   ]
  },
  {
   "cell_type": "markdown",
   "id": "347070e4",
   "metadata": {},
   "source": [
    "Let's check how many searches use 0 as their minimum price"
   ]
  },
  {
   "cell_type": "code",
   "execution_count": 115,
   "id": "f421923d",
   "metadata": {},
   "outputs": [
    {
     "data": {
      "text/plain": [
       "35.044911436326494"
      ]
     },
     "execution_count": 115,
     "metadata": {},
     "output_type": "execute_result"
    }
   ],
   "source": [
    "len(df_searches[df_searches[\"filter_price_min\"] == 0] )*100 / len(df_searches)"
   ]
  },
  {
   "cell_type": "markdown",
   "id": "58656c5e",
   "metadata": {},
   "source": [
    "35% of the searches using 0 as the minimum price"
   ]
  },
  {
   "cell_type": "code",
   "execution_count": 116,
   "id": "ebfe3b30",
   "metadata": {},
   "outputs": [
    {
     "data": {
      "text/plain": [
       "62.722108738842095"
      ]
     },
     "execution_count": 116,
     "metadata": {},
     "output_type": "execute_result"
    }
   ],
   "source": [
    "len(df_searches[df_searches[\"filter_price_min\"].isna()])*100 / len(df_searches)"
   ]
  },
  {
   "cell_type": "markdown",
   "id": "edfb5836",
   "metadata": {},
   "source": [
    "and 62% of the searches does not use any minimum price"
   ]
  },
  {
   "cell_type": "markdown",
   "id": "68d5e218",
   "metadata": {},
   "source": [
    "Therefore, most of the users does not have any minimum requirement in term of budget but only maximum requirement"
   ]
  },
  {
   "cell_type": "markdown",
   "id": "b086f7f8",
   "metadata": {},
   "source": [
    "<h4> 7. What type of rooms the users are looking for?"
   ]
  },
  {
   "cell_type": "markdown",
   "id": "361933ae",
   "metadata": {},
   "source": [
    "Based on above, user wants to bring 1-2 guests with. Therefore they are looking for a smaller accomodation"
   ]
  },
  {
   "cell_type": "code",
   "execution_count": 117,
   "id": "32829903",
   "metadata": {},
   "outputs": [
    {
     "data": {
      "text/plain": [
       "160"
      ]
     },
     "execution_count": 117,
     "metadata": {},
     "output_type": "execute_result"
    }
   ],
   "source": [
    "df_searches[\"filter_room_types\"].nunique()"
   ]
  },
  {
   "cell_type": "markdown",
   "id": "8ce6102e",
   "metadata": {},
   "source": [
    "There are 160 number of unique combinations of room types choices"
   ]
  },
  {
   "cell_type": "code",
   "execution_count": 118,
   "id": "593aef17",
   "metadata": {},
   "outputs": [
    {
     "data": {
      "text/plain": [
       "<StringArray>\n",
       "[                                                                                                                         <NA>,\n",
       "                                                                                                            ',Entire home/apt',\n",
       "                                                                                                               ',Private room',\n",
       "                                                                                  ',Entire home/apt,Private room,Private room',\n",
       "                                                                                    'Entire home/apt,Private room,Shared room',\n",
       "                                                                                                             'Entire home/apt',\n",
       "                                                                  ',Entire home/apt,Entire home/apt,Private room,Private room',\n",
       "                                                                                                                'Private room',\n",
       "                                                                                               ',Private room,Entire home/apt',\n",
       "                                                                               ',Entire home/apt,Entire home/apt,Private room',\n",
       " ...\n",
       "                                                       'Private room,Entire home/apt,Shared room,Private room,Entire home/apt',\n",
       "                 ',Entire home/apt,Entire home/apt,Private room,Shared room,Private room,Private room,Shared room,Shared room',\n",
       "                                                                                ',Entire home/apt,Shared room,Entire home/apt',\n",
       "                                                    'Entire home/apt,Private room,Entire home/apt,Shared room,Entire home/apt',\n",
       "                                                      ',Entire home/apt,Private room,Private room,Entire home/apt,Shared room',\n",
       "                             ',Entire home/apt,Private room,Shared room,Private room,Shared room,Private room,Entire home/apt',\n",
       "                                                      ',Entire home/apt,Private room,Entire home/apt,Private room,Shared room',\n",
       "                                       'Entire home/apt,Private room,Entire home/apt,Shared room,Private room,Entire home/apt',\n",
       " ',Entire home/apt,Entire home/apt,Private room,Entire home/apt,Shared room,Private room,Private room,Shared room,Shared room',\n",
       "                                                        'Entire home/apt,Private room,Shared room,Entire home/apt,Shared room']\n",
       "Length: 161, dtype: string"
      ]
     },
     "execution_count": 118,
     "metadata": {},
     "output_type": "execute_result"
    }
   ],
   "source": [
    "df_searches[\"filter_room_types\"].unique()"
   ]
  },
  {
   "cell_type": "markdown",
   "id": "ce5a3c7a",
   "metadata": {},
   "source": [
    "Based on above, we can see that there are this three options:\n",
    "\n",
    "1. Entire home/apt\n",
    "2. Private room\n",
    "3. Shared room\n",
    "\n",
    "Otherwise the users will leave the options empty"
   ]
  },
  {
   "cell_type": "code",
   "execution_count": 119,
   "id": "86720761",
   "metadata": {},
   "outputs": [
    {
     "data": {
      "text/plain": [
       "54.694014606710134"
      ]
     },
     "execution_count": 119,
     "metadata": {},
     "output_type": "execute_result"
    }
   ],
   "source": [
    "len(df_searches[df_searches[\"filter_room_types\"].isna()])*100 / len(df_searches)"
   ]
  },
  {
   "cell_type": "markdown",
   "id": "adae70a6",
   "metadata": {},
   "source": [
    "There are 54% searches that are without any room options. "
   ]
  },
  {
   "cell_type": "code",
   "execution_count": 120,
   "id": "43b339dd",
   "metadata": {},
   "outputs": [],
   "source": [
    "df_searches['entire_home_apt'] = df_searches['filter_room_types'].str.contains('Entire home/apt')"
   ]
  },
  {
   "cell_type": "code",
   "execution_count": 121,
   "id": "5e2de354",
   "metadata": {},
   "outputs": [],
   "source": [
    "df_searches['entire_home_apt'].loc[df_searches['entire_home_apt'].isna()] = 0"
   ]
  },
  {
   "cell_type": "code",
   "execution_count": 122,
   "id": "1ca36b6c",
   "metadata": {},
   "outputs": [
    {
     "data": {
      "text/plain": [
       "0        False\n",
       "1        False\n",
       "2        False\n",
       "3        False\n",
       "4        False\n",
       "         ...  \n",
       "35732     True\n",
       "35733    False\n",
       "35734    False\n",
       "35735    False\n",
       "35736    False\n",
       "Name: entire_home_apt, Length: 35737, dtype: boolean"
      ]
     },
     "execution_count": 122,
     "metadata": {},
     "output_type": "execute_result"
    }
   ],
   "source": [
    "df_searches['entire_home_apt']"
   ]
  },
  {
   "cell_type": "code",
   "execution_count": 123,
   "id": "51a31e81",
   "metadata": {},
   "outputs": [],
   "source": [
    "df_searches['private_room'] = df_searches['filter_room_types'].str.contains('Private room')"
   ]
  },
  {
   "cell_type": "code",
   "execution_count": 124,
   "id": "d0a57ec3",
   "metadata": {},
   "outputs": [],
   "source": [
    "df_searches['private_room'].loc[df_searches['private_room'].isna()] = 0"
   ]
  },
  {
   "cell_type": "code",
   "execution_count": 125,
   "id": "b4e4d03c",
   "metadata": {},
   "outputs": [
    {
     "data": {
      "text/plain": [
       "0        False\n",
       "1        False\n",
       "2        False\n",
       "3        False\n",
       "4        False\n",
       "         ...  \n",
       "35732    False\n",
       "35733    False\n",
       "35734    False\n",
       "35735    False\n",
       "35736    False\n",
       "Name: private_room, Length: 35737, dtype: boolean"
      ]
     },
     "execution_count": 125,
     "metadata": {},
     "output_type": "execute_result"
    }
   ],
   "source": [
    "df_searches['private_room']"
   ]
  },
  {
   "cell_type": "code",
   "execution_count": 126,
   "id": "16b0e4ee",
   "metadata": {},
   "outputs": [],
   "source": [
    "df_searches['shared_room'] = df_searches['filter_room_types'].str.contains('Shared room')"
   ]
  },
  {
   "cell_type": "code",
   "execution_count": 127,
   "id": "a38a08d5",
   "metadata": {},
   "outputs": [],
   "source": [
    "df_searches['shared_room'].loc[df_searches['shared_room'].isna()] = 0"
   ]
  },
  {
   "cell_type": "code",
   "execution_count": 128,
   "id": "981dcf74",
   "metadata": {},
   "outputs": [
    {
     "data": {
      "text/plain": [
       "0        False\n",
       "1        False\n",
       "2        False\n",
       "3        False\n",
       "4        False\n",
       "         ...  \n",
       "35732    False\n",
       "35733    False\n",
       "35734    False\n",
       "35735    False\n",
       "35736    False\n",
       "Name: shared_room, Length: 35737, dtype: boolean"
      ]
     },
     "execution_count": 128,
     "metadata": {},
     "output_type": "execute_result"
    }
   ],
   "source": [
    "df_searches['shared_room']"
   ]
  },
  {
   "cell_type": "code",
   "execution_count": 129,
   "id": "753ca1e8",
   "metadata": {},
   "outputs": [
    {
     "data": {
      "text/plain": [
       "5964"
      ]
     },
     "execution_count": 129,
     "metadata": {},
     "output_type": "execute_result"
    }
   ],
   "source": [
    "df_searches['private_room'].sum()"
   ]
  },
  {
   "cell_type": "code",
   "execution_count": 130,
   "id": "f175ad05",
   "metadata": {},
   "outputs": [
    {
     "data": {
      "text/plain": [
       "949"
      ]
     },
     "execution_count": 130,
     "metadata": {},
     "output_type": "execute_result"
    }
   ],
   "source": [
    "df_searches['shared_room'].sum()"
   ]
  },
  {
   "cell_type": "code",
   "execution_count": 131,
   "id": "157e798c",
   "metadata": {},
   "outputs": [
    {
     "data": {
      "text/plain": [
       "12963"
      ]
     },
     "execution_count": 131,
     "metadata": {},
     "output_type": "execute_result"
    }
   ],
   "source": [
    "df_searches['entire_home_apt'].sum()"
   ]
  },
  {
   "cell_type": "markdown",
   "id": "ad77a1bd",
   "metadata": {},
   "source": [
    "According to above analysis, most of the users want to have either an entire home, entire apartment, or a private room"
   ]
  },
  {
   "cell_type": "markdown",
   "id": "52b84ded",
   "metadata": {},
   "source": [
    "<h4> 8. Which neighborhoods do the users want to stay in?"
   ]
  },
  {
   "cell_type": "code",
   "execution_count": 132,
   "id": "f78d9652",
   "metadata": {},
   "outputs": [
    {
     "data": {
      "text/plain": [
       "96.23359543330442"
      ]
     },
     "execution_count": 132,
     "metadata": {},
     "output_type": "execute_result"
    }
   ],
   "source": [
    "df_searches[\"filter_neighborhoods\"].isna().sum()*100/len(df_searches)"
   ]
  },
  {
   "cell_type": "markdown",
   "id": "5ff24a98",
   "metadata": {},
   "source": [
    "96.23% of the searches did not contain any neighborhoods preferences."
   ]
  },
  {
   "cell_type": "code",
   "execution_count": 133,
   "id": "435018b0",
   "metadata": {},
   "outputs": [
    {
     "data": {
      "text/plain": [
       ",City Centre                                        719\n",
       ",City Centre,Old City                                46\n",
       ",Temple Bar                                          42\n",
       "City Centre                                          33\n",
       ",City Centre,Temple Bar                              29\n",
       ",Ranelagh and Rathmines                              21\n",
       ",Old City                                            18\n",
       ",Ballsbridge                                         15\n",
       ",City Centre,North City Central/O'Connell Street     12\n",
       ",Docklands                                           11\n",
       "Name: filter_neighborhoods, dtype: Int64"
      ]
     },
     "execution_count": 133,
     "metadata": {},
     "output_type": "execute_result"
    }
   ],
   "source": [
    "df_searches['filter_neighborhoods'].value_counts().head(10)"
   ]
  },
  {
   "cell_type": "markdown",
   "id": "9b306e80",
   "metadata": {},
   "source": [
    "Out of the searches that do have neighborhoods preferences. Most of the users, prefer the city centre."
   ]
  },
  {
   "cell_type": "markdown",
   "id": "6f7c97dc",
   "metadata": {},
   "source": [
    "<h1> 4. Contacts Data"
   ]
  },
  {
   "cell_type": "markdown",
   "id": "29fc3ba7",
   "metadata": {},
   "source": [
    "In this part, I will analyse the Contacts data 'df_contacts' and will do feature engineering work necessary. \n",
    "\n",
    "I will focus on analysing the factors that affects the hosts' decision to accept or reject the booking.\n",
    "\n",
    "1. What is the overall rate of acceptance?\n",
    "2. Does different number of guests have different acceptance rate?\n",
    "3. Does different length of stay have different acceptance rate?\n",
    "4. Does different price level have different acceptance rate?\n",
    "5. Does different number of messages have different acceptance rate?\n",
    "6. Does different user nationality have different acceptance rate?\n",
    "7. Does bookings with different check-in dates have different acceptance rate?\n",
    " "
   ]
  },
  {
   "cell_type": "markdown",
   "id": "6736ec87",
   "metadata": {},
   "source": [
    "To answer above questions, we need to do some feature engineering"
   ]
  },
  {
   "cell_type": "code",
   "execution_count": 134,
   "id": "ae733c04",
   "metadata": {},
   "outputs": [
    {
     "name": "stdout",
     "output_type": "stream",
     "text": [
      "<class 'pandas.core.frame.DataFrame'>\n",
      "RangeIndex: 7823 entries, 0 to 7822\n",
      "Data columns (total 11 columns):\n",
      " #   Column          Non-Null Count  Dtype              \n",
      "---  ------          --------------  -----              \n",
      " 0   id_guest        7823 non-null   string             \n",
      " 1   id_host         7823 non-null   string             \n",
      " 2   id_listing      7823 non-null   string             \n",
      " 3   ts_contact_at   7823 non-null   datetime64[ns, UTC]\n",
      " 4   ts_reply_at     7219 non-null   datetime64[ns]     \n",
      " 5   ts_accepted_at  3627 non-null   datetime64[ns]     \n",
      " 6   ts_booking_at   2174 non-null   datetime64[ns]     \n",
      " 7   ds_checkin      7823 non-null   datetime64[ns]     \n",
      " 8   ds_checkout     7823 non-null   datetime64[ns]     \n",
      " 9   n_guests        7823 non-null   Int64              \n",
      " 10  n_messages      7823 non-null   Int64              \n",
      "dtypes: Int64(2), datetime64[ns, UTC](1), datetime64[ns](5), string(3)\n",
      "memory usage: 687.7 KB\n"
     ]
    }
   ],
   "source": [
    "df_contacts.info()"
   ]
  },
  {
   "cell_type": "markdown",
   "id": "02ce3856",
   "metadata": {},
   "source": [
    "<h4> 1. What is the number of accepted booking?"
   ]
  },
  {
   "cell_type": "markdown",
   "id": "663a8a86",
   "metadata": {},
   "source": [
    "Let's create a column to see whether user's contacts converted into accepted or not"
   ]
  },
  {
   "cell_type": "code",
   "execution_count": 135,
   "id": "a6e0d69a",
   "metadata": {},
   "outputs": [
    {
     "data": {
      "text/html": [
       "<div>\n",
       "<style scoped>\n",
       "    .dataframe tbody tr th:only-of-type {\n",
       "        vertical-align: middle;\n",
       "    }\n",
       "\n",
       "    .dataframe tbody tr th {\n",
       "        vertical-align: top;\n",
       "    }\n",
       "\n",
       "    .dataframe thead th {\n",
       "        text-align: right;\n",
       "    }\n",
       "</style>\n",
       "<table border=\"1\" class=\"dataframe\">\n",
       "  <thead>\n",
       "    <tr style=\"text-align: right;\">\n",
       "      <th></th>\n",
       "      <th>id_guest</th>\n",
       "      <th>id_host</th>\n",
       "      <th>id_listing</th>\n",
       "      <th>ts_contact_at</th>\n",
       "      <th>ts_reply_at</th>\n",
       "      <th>ts_accepted_at</th>\n",
       "      <th>ts_booking_at</th>\n",
       "      <th>ds_checkin</th>\n",
       "      <th>ds_checkout</th>\n",
       "      <th>n_guests</th>\n",
       "      <th>n_messages</th>\n",
       "    </tr>\n",
       "  </thead>\n",
       "  <tbody>\n",
       "    <tr>\n",
       "      <th>0</th>\n",
       "      <td>23439f9d-1bc3-4189-8c0a-4b803da3740a</td>\n",
       "      <td>1076c74d-ca8f-4381-856e-0ef45b9e1692</td>\n",
       "      <td>125ff7c3-e002-4e14-86c3-ce27af0e70b5</td>\n",
       "      <td>2014-10-07 21:17:39+00:00</td>\n",
       "      <td>2014-10-12 17:33:28</td>\n",
       "      <td>NaT</td>\n",
       "      <td>NaT</td>\n",
       "      <td>2014-11-10</td>\n",
       "      <td>2014-11-12</td>\n",
       "      <td>1</td>\n",
       "      <td>2</td>\n",
       "    </tr>\n",
       "    <tr>\n",
       "      <th>1</th>\n",
       "      <td>23439f9d-1bc3-4189-8c0a-4b803da3740a</td>\n",
       "      <td>4f351532-59dc-4706-898a-0c4d25f1b125</td>\n",
       "      <td>94c2dc52-f0f4-409c-9c3d-af36e152f9d9</td>\n",
       "      <td>2014-10-07 21:13:32+00:00</td>\n",
       "      <td>2014-10-07 21:23:58</td>\n",
       "      <td>NaT</td>\n",
       "      <td>NaT</td>\n",
       "      <td>2014-11-10</td>\n",
       "      <td>2014-11-12</td>\n",
       "      <td>1</td>\n",
       "      <td>2</td>\n",
       "    </tr>\n",
       "    <tr>\n",
       "      <th>2</th>\n",
       "      <td>23439f9d-1bc3-4189-8c0a-4b803da3740a</td>\n",
       "      <td>becd48ad-623e-4821-9538-e9d8f84f1cac</td>\n",
       "      <td>d6763e59-b5ea-406f-8fbb-4cf4d597f332</td>\n",
       "      <td>2014-10-07 21:02:46+00:00</td>\n",
       "      <td>2014-10-07 21:17:57</td>\n",
       "      <td>2014-10-13 21:06:33</td>\n",
       "      <td>2014-10-13 21:06:33</td>\n",
       "      <td>2014-11-10</td>\n",
       "      <td>2014-11-12</td>\n",
       "      <td>1</td>\n",
       "      <td>6</td>\n",
       "    </tr>\n",
       "    <tr>\n",
       "      <th>3</th>\n",
       "      <td>7629ea29-ff0a-429b-982f-39f4a0da6eb5</td>\n",
       "      <td>28980988-2a4e-4516-bf62-5c47b3ba62b2</td>\n",
       "      <td>2a6efb76-ce28-4811-8f01-b9cdc0be5f2a</td>\n",
       "      <td>2014-09-29 16:29:22+00:00</td>\n",
       "      <td>2014-09-29 18:25:11</td>\n",
       "      <td>2014-09-29 18:25:17</td>\n",
       "      <td>NaT</td>\n",
       "      <td>2014-11-10</td>\n",
       "      <td>2014-11-30</td>\n",
       "      <td>1</td>\n",
       "      <td>5</td>\n",
       "    </tr>\n",
       "    <tr>\n",
       "      <th>4</th>\n",
       "      <td>8eed188c-02d7-455d-9c90-aba0f391d8d2</td>\n",
       "      <td>8ccb3e6b-7b90-4de7-ac10-1e8f35824d23</td>\n",
       "      <td>09d5efd5-381b-460c-8df2-47e9a4d9c5dd</td>\n",
       "      <td>2014-10-04 15:46:14+00:00</td>\n",
       "      <td>2014-10-04 15:52:49</td>\n",
       "      <td>2014-10-04 15:52:49</td>\n",
       "      <td>2014-10-05 05:01:41</td>\n",
       "      <td>2014-11-10</td>\n",
       "      <td>2014-11-13</td>\n",
       "      <td>1</td>\n",
       "      <td>19</td>\n",
       "    </tr>\n",
       "    <tr>\n",
       "      <th>5</th>\n",
       "      <td>97276eb6-a988-46c9-9c62-2cd2be97fad4</td>\n",
       "      <td>882d1e82-a229-470b-ac01-2e417e7f2daa</td>\n",
       "      <td>8f1c98b8-0f35-4258-8dc7-3743106a4455</td>\n",
       "      <td>2014-10-16 21:46:38+00:00</td>\n",
       "      <td>2014-10-17 01:04:31</td>\n",
       "      <td>NaT</td>\n",
       "      <td>NaT</td>\n",
       "      <td>2014-11-10</td>\n",
       "      <td>2014-11-12</td>\n",
       "      <td>1</td>\n",
       "      <td>4</td>\n",
       "    </tr>\n",
       "    <tr>\n",
       "      <th>6</th>\n",
       "      <td>9f8eebb9-95e9-493b-b6df-b75e531b7876</td>\n",
       "      <td>cb6e8d00-6a32-4ade-bd12-3e6dce9784f3</td>\n",
       "      <td>487a7671-c5d4-467d-bdb4-797f31980a2b</td>\n",
       "      <td>2014-10-12 12:29:09+00:00</td>\n",
       "      <td>2014-10-12 17:24:17</td>\n",
       "      <td>2014-10-12 17:24:17</td>\n",
       "      <td>2014-10-14 11:27:16</td>\n",
       "      <td>2014-11-10</td>\n",
       "      <td>2014-12-19</td>\n",
       "      <td>1</td>\n",
       "      <td>8</td>\n",
       "    </tr>\n",
       "    <tr>\n",
       "      <th>7</th>\n",
       "      <td>b5674966-7390-460f-8dde-c615b8783062</td>\n",
       "      <td>a83f92fb-fcbf-445b-8cb5-516560f50601</td>\n",
       "      <td>746c951e-6861-4b8b-9ee5-1c4fdabec2f8</td>\n",
       "      <td>2014-10-13 03:18:26+00:00</td>\n",
       "      <td>2014-10-13 04:12:59</td>\n",
       "      <td>2014-10-13 04:12:59</td>\n",
       "      <td>2014-10-13 04:12:59</td>\n",
       "      <td>2014-11-10</td>\n",
       "      <td>2014-11-12</td>\n",
       "      <td>1</td>\n",
       "      <td>26</td>\n",
       "    </tr>\n",
       "    <tr>\n",
       "      <th>8</th>\n",
       "      <td>02f0a750-34da-4268-94e8-f1a371f0460e</td>\n",
       "      <td>86b39b70-965b-479d-a0b0-719b195acea2</td>\n",
       "      <td>e5dd99cd-ad45-409b-ac13-ab9a576a41a3</td>\n",
       "      <td>2014-10-09 10:10:42+00:00</td>\n",
       "      <td>2014-10-11 10:07:50</td>\n",
       "      <td>2014-10-11 20:51:12</td>\n",
       "      <td>NaT</td>\n",
       "      <td>2014-11-11</td>\n",
       "      <td>2014-11-19</td>\n",
       "      <td>1</td>\n",
       "      <td>9</td>\n",
       "    </tr>\n",
       "    <tr>\n",
       "      <th>9</th>\n",
       "      <td>289f6109-a24b-4880-a6bf-1f3f5e9d551a</td>\n",
       "      <td>6535d260-8062-4089-bc27-8fdf2bcbfb63</td>\n",
       "      <td>98edd793-0138-4853-989e-7d8497cefc60</td>\n",
       "      <td>2014-10-10 17:26:34+00:00</td>\n",
       "      <td>2014-10-10 23:12:34</td>\n",
       "      <td>2014-10-10 23:12:40</td>\n",
       "      <td>2014-10-10 23:12:40</td>\n",
       "      <td>2014-11-11</td>\n",
       "      <td>2014-11-16</td>\n",
       "      <td>1</td>\n",
       "      <td>12</td>\n",
       "    </tr>\n",
       "  </tbody>\n",
       "</table>\n",
       "</div>"
      ],
      "text/plain": [
       "                               id_guest                               id_host  \\\n",
       "0  23439f9d-1bc3-4189-8c0a-4b803da3740a  1076c74d-ca8f-4381-856e-0ef45b9e1692   \n",
       "1  23439f9d-1bc3-4189-8c0a-4b803da3740a  4f351532-59dc-4706-898a-0c4d25f1b125   \n",
       "2  23439f9d-1bc3-4189-8c0a-4b803da3740a  becd48ad-623e-4821-9538-e9d8f84f1cac   \n",
       "3  7629ea29-ff0a-429b-982f-39f4a0da6eb5  28980988-2a4e-4516-bf62-5c47b3ba62b2   \n",
       "4  8eed188c-02d7-455d-9c90-aba0f391d8d2  8ccb3e6b-7b90-4de7-ac10-1e8f35824d23   \n",
       "5  97276eb6-a988-46c9-9c62-2cd2be97fad4  882d1e82-a229-470b-ac01-2e417e7f2daa   \n",
       "6  9f8eebb9-95e9-493b-b6df-b75e531b7876  cb6e8d00-6a32-4ade-bd12-3e6dce9784f3   \n",
       "7  b5674966-7390-460f-8dde-c615b8783062  a83f92fb-fcbf-445b-8cb5-516560f50601   \n",
       "8  02f0a750-34da-4268-94e8-f1a371f0460e  86b39b70-965b-479d-a0b0-719b195acea2   \n",
       "9  289f6109-a24b-4880-a6bf-1f3f5e9d551a  6535d260-8062-4089-bc27-8fdf2bcbfb63   \n",
       "\n",
       "                             id_listing             ts_contact_at  \\\n",
       "0  125ff7c3-e002-4e14-86c3-ce27af0e70b5 2014-10-07 21:17:39+00:00   \n",
       "1  94c2dc52-f0f4-409c-9c3d-af36e152f9d9 2014-10-07 21:13:32+00:00   \n",
       "2  d6763e59-b5ea-406f-8fbb-4cf4d597f332 2014-10-07 21:02:46+00:00   \n",
       "3  2a6efb76-ce28-4811-8f01-b9cdc0be5f2a 2014-09-29 16:29:22+00:00   \n",
       "4  09d5efd5-381b-460c-8df2-47e9a4d9c5dd 2014-10-04 15:46:14+00:00   \n",
       "5  8f1c98b8-0f35-4258-8dc7-3743106a4455 2014-10-16 21:46:38+00:00   \n",
       "6  487a7671-c5d4-467d-bdb4-797f31980a2b 2014-10-12 12:29:09+00:00   \n",
       "7  746c951e-6861-4b8b-9ee5-1c4fdabec2f8 2014-10-13 03:18:26+00:00   \n",
       "8  e5dd99cd-ad45-409b-ac13-ab9a576a41a3 2014-10-09 10:10:42+00:00   \n",
       "9  98edd793-0138-4853-989e-7d8497cefc60 2014-10-10 17:26:34+00:00   \n",
       "\n",
       "          ts_reply_at      ts_accepted_at       ts_booking_at ds_checkin  \\\n",
       "0 2014-10-12 17:33:28                 NaT                 NaT 2014-11-10   \n",
       "1 2014-10-07 21:23:58                 NaT                 NaT 2014-11-10   \n",
       "2 2014-10-07 21:17:57 2014-10-13 21:06:33 2014-10-13 21:06:33 2014-11-10   \n",
       "3 2014-09-29 18:25:11 2014-09-29 18:25:17                 NaT 2014-11-10   \n",
       "4 2014-10-04 15:52:49 2014-10-04 15:52:49 2014-10-05 05:01:41 2014-11-10   \n",
       "5 2014-10-17 01:04:31                 NaT                 NaT 2014-11-10   \n",
       "6 2014-10-12 17:24:17 2014-10-12 17:24:17 2014-10-14 11:27:16 2014-11-10   \n",
       "7 2014-10-13 04:12:59 2014-10-13 04:12:59 2014-10-13 04:12:59 2014-11-10   \n",
       "8 2014-10-11 10:07:50 2014-10-11 20:51:12                 NaT 2014-11-11   \n",
       "9 2014-10-10 23:12:34 2014-10-10 23:12:40 2014-10-10 23:12:40 2014-11-11   \n",
       "\n",
       "  ds_checkout  n_guests  n_messages  \n",
       "0  2014-11-12         1           2  \n",
       "1  2014-11-12         1           2  \n",
       "2  2014-11-12         1           6  \n",
       "3  2014-11-30         1           5  \n",
       "4  2014-11-13         1          19  \n",
       "5  2014-11-12         1           4  \n",
       "6  2014-12-19         1           8  \n",
       "7  2014-11-12         1          26  \n",
       "8  2014-11-19         1           9  \n",
       "9  2014-11-16         1          12  "
      ]
     },
     "execution_count": 135,
     "metadata": {},
     "output_type": "execute_result"
    }
   ],
   "source": [
    "df_contacts.head(10)"
   ]
  },
  {
   "cell_type": "markdown",
   "id": "7a6ebcab",
   "metadata": {},
   "source": [
    "We can see from the data with index 3 and 5 that there is a timestamp for the accepted date but not booking date.\n",
    "Therefore, it is better to use conversion rate from 'contact' to 'accepted' rather than from 'booking' to 'accepted'. I assume that those who contacted the users were booking the accomodation"
   ]
  },
  {
   "cell_type": "code",
   "execution_count": 136,
   "id": "2bf16313",
   "metadata": {},
   "outputs": [],
   "source": [
    "df_contacts['accepted'] = np.where(np.isnan(df_contacts['ts_accepted_at']), False, True)"
   ]
  },
  {
   "cell_type": "code",
   "execution_count": 137,
   "id": "7c16669d",
   "metadata": {},
   "outputs": [
    {
     "data": {
      "text/plain": [
       "0.46363287741275727"
      ]
     },
     "execution_count": 137,
     "metadata": {},
     "output_type": "execute_result"
    }
   ],
   "source": [
    "len(df_contacts[df_contacts['accepted'] == True])/len(df_contacts)"
   ]
  },
  {
   "cell_type": "markdown",
   "id": "0cbce8ea",
   "metadata": {},
   "source": [
    "The overal booking conversion rate is 46%, which means 46% of the booking are accepted by the hosts"
   ]
  },
  {
   "cell_type": "markdown",
   "id": "d473a016",
   "metadata": {},
   "source": [
    "<h4> 2. Does different number of guests have different acceptance rate?"
   ]
  },
  {
   "cell_type": "code",
   "execution_count": 138,
   "id": "00d32950",
   "metadata": {},
   "outputs": [
    {
     "data": {
      "image/png": "[encoded data removed]",
      "text/plain": [
       "<Figure size 421.25x360 with 1 Axes>"
      ]
     },
     "metadata": {
      "needs_background": "light"
     },
     "output_type": "display_data"
    }
   ],
   "source": [
    "sns.displot(df_contacts, x = 'n_guests', hue = 'accepted', multiple=\"dodge\")\n",
    "plt.show()"
   ]
  },
  {
   "cell_type": "code",
   "execution_count": 139,
   "id": "80216a94",
   "metadata": {},
   "outputs": [
    {
     "data": {
      "text/plain": [
       "0.7158379138437939"
      ]
     },
     "execution_count": 139,
     "metadata": {},
     "output_type": "execute_result"
    }
   ],
   "source": [
    "len(df_contacts[df_contacts['n_guests'] > 9])*100/len(df_contacts)"
   ]
  },
  {
   "cell_type": "markdown",
   "id": "e3c84759",
   "metadata": {},
   "source": [
    "Because only 0.7% of the data that has number of guests more than 9, then we can "
   ]
  },
  {
   "cell_type": "code",
   "execution_count": 140,
   "id": "1ac6f340",
   "metadata": {},
   "outputs": [
    {
     "data": {
      "image/png": "[encoded data removed]",
      "text/plain": [
       "<Figure size 421.25x360 with 1 Axes>"
      ]
     },
     "metadata": {
      "needs_background": "light"
     },
     "output_type": "display_data"
    }
   ],
   "source": [
    "#Number of guests stayed\n",
    "\n",
    "df_contacts_less8 = df_contacts[df_contacts['n_guests'] <= 8]\n",
    "sns.displot(df_contacts_less8, x = 'n_guests', hue = 'accepted', multiple=\"dodge\")\n",
    "plt.show()"
   ]
  },
  {
   "cell_type": "markdown",
   "id": "148eed21",
   "metadata": {},
   "source": [
    "The ratio between accepted and rejected bookings are similar for different numbers of guests"
   ]
  },
  {
   "cell_type": "markdown",
   "id": "3429c7ae",
   "metadata": {},
   "source": [
    "However, in term of absolute values, there are a lot bookings with 1 to 2 guests being rejected. Therefore, it is possible to assume that Airbnb need more supply for smaller rooms"
   ]
  },
  {
   "cell_type": "markdown",
   "id": "e1102ea6",
   "metadata": {},
   "source": [
    "<h4> 3. Does different length of stay have different acceptance rate?"
   ]
  },
  {
   "cell_type": "code",
   "execution_count": 141,
   "id": "61d587d0",
   "metadata": {},
   "outputs": [],
   "source": [
    "df_contacts['stay_length'] = (df_contacts['ds_checkout'] - df_contacts['ds_checkin']).dt.days"
   ]
  },
  {
   "cell_type": "code",
   "execution_count": 142,
   "id": "9cda6096",
   "metadata": {},
   "outputs": [
    {
     "data": {
      "text/plain": [
       "7.912565511951937"
      ]
     },
     "execution_count": 142,
     "metadata": {},
     "output_type": "execute_result"
    }
   ],
   "source": [
    "len(df_contacts[df_contacts['stay_length'] > 10])*100/len(df_contacts)"
   ]
  },
  {
   "cell_type": "code",
   "execution_count": 143,
   "id": "9a15da23",
   "metadata": {},
   "outputs": [
    {
     "data": {
      "image/png": "[encoded data removed]",
      "text/plain": [
       "<Figure size 421.25x360 with 1 Axes>"
      ]
     },
     "metadata": {
      "needs_background": "light"
     },
     "output_type": "display_data"
    }
   ],
   "source": [
    "df_contacts_less9 = df_contacts[df_contacts['stay_length'] <= 9]\n",
    "sns.displot(df_contacts_less9, x = 'stay_length', hue = 'accepted', multiple=\"dodge\")\n",
    "plt.show()"
   ]
  },
  {
   "cell_type": "markdown",
   "id": "bf739253",
   "metadata": {},
   "source": [
    "The ratio between accepted and rejected bookings are similar for different numbers of guests except for length of stay of 1 night. It is possible to assume that most of the hosts prefer that the guests stay for more than one night."
   ]
  },
  {
   "cell_type": "markdown",
   "id": "5e85fa0d",
   "metadata": {},
   "source": [
    "<h4> 4. Does different price level have different acceptance rate?"
   ]
  },
  {
   "cell_type": "markdown",
   "id": "2e638633",
   "metadata": {},
   "source": [
    "Because we know that the minimum price filter data is not really informative, let's use the maximum price filter data. "
   ]
  },
  {
   "cell_type": "markdown",
   "id": "860cb34c",
   "metadata": {},
   "source": [
    "First, we need to merge the datasets"
   ]
  },
  {
   "cell_type": "code",
   "execution_count": 144,
   "id": "2defe6b9",
   "metadata": {},
   "outputs": [],
   "source": [
    "df_merge = df_contacts.merge(df_searches, left_on='id_guest', right_on='id_user')"
   ]
  },
  {
   "cell_type": "code",
   "execution_count": 148,
   "id": "fc1732f6",
   "metadata": {},
   "outputs": [
    {
     "data": {
      "text/plain": [
       "7.369638351555929"
      ]
     },
     "execution_count": 148,
     "metadata": {},
     "output_type": "execute_result"
    }
   ],
   "source": [
    "len(df_merge[df_merge[\"filter_price_max\"] > 500])*100/len(df_merge)"
   ]
  },
  {
   "cell_type": "markdown",
   "id": "b66a4ae6",
   "metadata": {},
   "source": [
    "As only 7.3% of the data are with maximum price above 500. Therefore, we will focus on the data with less than 500 USD"
   ]
  },
  {
   "cell_type": "code",
   "execution_count": 149,
   "id": "759bba2b",
   "metadata": {},
   "outputs": [],
   "source": [
    "df_merge_less500 = df_merge[df_merge[\"filter_price_max\"] < 500]"
   ]
  },
  {
   "cell_type": "code",
   "execution_count": 153,
   "id": "9425e61e",
   "metadata": {},
   "outputs": [
    {
     "data": {
      "text/plain": [
       "0        False\n",
       "2        False\n",
       "3        False\n",
       "4        False\n",
       "5        False\n",
       "         ...  \n",
       "28443    False\n",
       "28475     True\n",
       "28484     True\n",
       "28485     True\n",
       "28500    False\n",
       "Name: accepted, Length: 12009, dtype: bool"
      ]
     },
     "execution_count": 153,
     "metadata": {},
     "output_type": "execute_result"
    }
   ],
   "source": [
    "df_merge_less500[\"accepted\"]"
   ]
  },
  {
   "cell_type": "code",
   "execution_count": 157,
   "id": "41d215e9",
   "metadata": {},
   "outputs": [
    {
     "data": {
      "text/plain": [
       "<seaborn.axisgrid.FacetGrid at 0x278471c64f0>"
      ]
     },
     "execution_count": 157,
     "metadata": {},
     "output_type": "execute_result"
    },
    {
     "data": {
      "image/png": "[encoded data removed]",
      "text/plain": [
       "<Figure size 421.25x360 with 1 Axes>"
      ]
     },
     "metadata": {
      "needs_background": "light"
     },
     "output_type": "display_data"
    }
   ],
   "source": [
    "sns.displot(df_merge_less500, x = \"filter_price_max\", hue = 'accepted', multiple=\"dodge\")"
   ]
  },
  {
   "cell_type": "markdown",
   "id": "52e728d6",
   "metadata": {},
   "source": [
    "We can take a closer look by categorizing the maximum price and calculating the acceptance rate for each categories"
   ]
  },
  {
   "cell_type": "code",
   "execution_count": 162,
   "id": "5ea5c13f",
   "metadata": {},
   "outputs": [],
   "source": [
    "def cat_price (df):\n",
    "    if (df['filter_price_max'] >= 0) & (df['filter_price_max'] < 100):\n",
    "        return '0-100'\n",
    "    \n",
    "    elif (df['filter_price_max'] >= 100) & (df['filter_price_max'] < 200):\n",
    "        return '100-200'\n",
    "\n",
    "    elif (df['filter_price_max'] >= 200) & (df['filter_price_max'] < 300):\n",
    "        return '200-300'\n",
    "    \n",
    "    elif (df['filter_price_max'] >= 300) & (df['filter_price_max'] < 400):\n",
    "        return '300-400'\n",
    "\n",
    "    elif (df['filter_price_max'] >= 400) & (df['filter_price_max'] < 500):\n",
    "        return '400-500'\n",
    "\n",
    "    else:\n",
    "        return '500+'"
   ]
  },
  {
   "cell_type": "code",
   "execution_count": 163,
   "id": "2983a75a",
   "metadata": {},
   "outputs": [],
   "source": [
    "df_merge['max_price_category'] = df_merge.apply(lambda df: cat_price(df), axis=1)"
   ]
  },
  {
   "cell_type": "code",
   "execution_count": 164,
   "id": "728886b9",
   "metadata": {},
   "outputs": [
    {
     "data": {
      "text/html": [
       "<div>\n",
       "<style scoped>\n",
       "    .dataframe tbody tr th:only-of-type {\n",
       "        vertical-align: middle;\n",
       "    }\n",
       "\n",
       "    .dataframe tbody tr th {\n",
       "        vertical-align: top;\n",
       "    }\n",
       "\n",
       "    .dataframe thead th {\n",
       "        text-align: right;\n",
       "    }\n",
       "</style>\n",
       "<table border=\"1\" class=\"dataframe\">\n",
       "  <thead>\n",
       "    <tr style=\"text-align: right;\">\n",
       "      <th></th>\n",
       "      <th>accepted</th>\n",
       "    </tr>\n",
       "    <tr>\n",
       "      <th>max_price_category</th>\n",
       "      <th></th>\n",
       "    </tr>\n",
       "  </thead>\n",
       "  <tbody>\n",
       "    <tr>\n",
       "      <th>0-100</th>\n",
       "      <td>0.411160</td>\n",
       "    </tr>\n",
       "    <tr>\n",
       "      <th>100-200</th>\n",
       "      <td>0.430308</td>\n",
       "    </tr>\n",
       "    <tr>\n",
       "      <th>200-300</th>\n",
       "      <td>0.431149</td>\n",
       "    </tr>\n",
       "    <tr>\n",
       "      <th>300-400</th>\n",
       "      <td>0.450488</td>\n",
       "    </tr>\n",
       "    <tr>\n",
       "      <th>400-500</th>\n",
       "      <td>0.485549</td>\n",
       "    </tr>\n",
       "    <tr>\n",
       "      <th>500+</th>\n",
       "      <td>0.432928</td>\n",
       "    </tr>\n",
       "  </tbody>\n",
       "</table>\n",
       "</div>"
      ],
      "text/plain": [
       "                    accepted\n",
       "max_price_category          \n",
       "0-100               0.411160\n",
       "100-200             0.430308\n",
       "200-300             0.431149\n",
       "300-400             0.450488\n",
       "400-500             0.485549\n",
       "500+                0.432928"
      ]
     },
     "execution_count": 164,
     "metadata": {},
     "output_type": "execute_result"
    }
   ],
   "source": [
    "df_merge.groupby('max_price_category').agg({'accepted': 'mean'})"
   ]
  },
  {
   "cell_type": "markdown",
   "id": "29693293",
   "metadata": {},
   "source": [
    "From above, we can see that the acceptance rate for each price level are similar which around 40-50%"
   ]
  },
  {
   "cell_type": "markdown",
   "id": "47eed7ff",
   "metadata": {},
   "source": [
    "<h4> 5. Does different number of messages have different acceptance rate?"
   ]
  },
  {
   "cell_type": "code",
   "execution_count": 165,
   "id": "d5078eb4",
   "metadata": {},
   "outputs": [
    {
     "data": {
      "text/plain": [
       "16.144701521155568"
      ]
     },
     "execution_count": 165,
     "metadata": {},
     "output_type": "execute_result"
    }
   ],
   "source": [
    "len(df_contacts[df_contacts['n_messages'] > 10])*100/len(df_contacts)"
   ]
  },
  {
   "cell_type": "markdown",
   "id": "270ac62b",
   "metadata": {},
   "source": [
    "Let's focus on number of messages equal or less than 10 since only 16.1% of data has number of messages above 10"
   ]
  },
  {
   "cell_type": "code",
   "execution_count": 167,
   "id": "943d06f0",
   "metadata": {},
   "outputs": [],
   "source": [
    "df_contacts_less10 = df_contacts[df_contacts[\"n_messages\"] < 10]"
   ]
  },
  {
   "cell_type": "code",
   "execution_count": 169,
   "id": "99f7c8bc",
   "metadata": {
    "scrolled": true
   },
   "outputs": [
    {
     "data": {
      "text/plain": [
       "<seaborn.axisgrid.FacetGrid at 0x27847002610>"
      ]
     },
     "execution_count": 169,
     "metadata": {},
     "output_type": "execute_result"
    },
    {
     "data": {
      "image/png": "[encoded data removed]",
      "text/plain": [
       "<Figure size 421.25x360 with 1 Axes>"
      ]
     },
     "metadata": {
      "needs_background": "light"
     },
     "output_type": "display_data"
    }
   ],
   "source": [
    "sns.displot(df_contacts_less10, x = \"n_messages\", hue = 'accepted', multiple=\"dodge\")"
   ]
  },
  {
   "cell_type": "markdown",
   "id": "e6b70a4b",
   "metadata": {},
   "source": [
    "It seems that the more number of messages being sent, the more likely for the booking to be accepted. However this needs to be analysed further as it is possible that this is caused by the more popular accomodations having a lot of message requests and were not able answer back and accept the bookings of the users"
   ]
  },
  {
   "cell_type": "markdown",
   "id": "069a2b68",
   "metadata": {},
   "source": [
    "<h4> 6. Does users with different nationality have different acceptance rate?"
   ]
  },
  {
   "cell_type": "code",
   "execution_count": 199,
   "id": "9e9188c1",
   "metadata": {},
   "outputs": [],
   "source": [
    "df_country = df_merge[['origin_country', 'accepted']]"
   ]
  },
  {
   "cell_type": "code",
   "execution_count": 200,
   "id": "779b8dc7",
   "metadata": {},
   "outputs": [
    {
     "data": {
      "text/html": [
       "<div>\n",
       "<style scoped>\n",
       "    .dataframe tbody tr th:only-of-type {\n",
       "        vertical-align: middle;\n",
       "    }\n",
       "\n",
       "    .dataframe tbody tr th {\n",
       "        vertical-align: top;\n",
       "    }\n",
       "\n",
       "    .dataframe thead th {\n",
       "        text-align: right;\n",
       "    }\n",
       "</style>\n",
       "<table border=\"1\" class=\"dataframe\">\n",
       "  <thead>\n",
       "    <tr style=\"text-align: right;\">\n",
       "      <th></th>\n",
       "      <th>origin_country</th>\n",
       "      <th>accepted</th>\n",
       "    </tr>\n",
       "  </thead>\n",
       "  <tbody>\n",
       "    <tr>\n",
       "      <th>0</th>\n",
       "      <td>IE</td>\n",
       "      <td>False</td>\n",
       "    </tr>\n",
       "    <tr>\n",
       "      <th>1</th>\n",
       "      <td>IE</td>\n",
       "      <td>False</td>\n",
       "    </tr>\n",
       "    <tr>\n",
       "      <th>2</th>\n",
       "      <td>IE</td>\n",
       "      <td>False</td>\n",
       "    </tr>\n",
       "    <tr>\n",
       "      <th>3</th>\n",
       "      <td>IE</td>\n",
       "      <td>False</td>\n",
       "    </tr>\n",
       "    <tr>\n",
       "      <th>4</th>\n",
       "      <td>IE</td>\n",
       "      <td>False</td>\n",
       "    </tr>\n",
       "    <tr>\n",
       "      <th>...</th>\n",
       "      <td>...</td>\n",
       "      <td>...</td>\n",
       "    </tr>\n",
       "    <tr>\n",
       "      <th>28531</th>\n",
       "      <td>KR</td>\n",
       "      <td>True</td>\n",
       "    </tr>\n",
       "    <tr>\n",
       "      <th>28532</th>\n",
       "      <td>GB</td>\n",
       "      <td>False</td>\n",
       "    </tr>\n",
       "    <tr>\n",
       "      <th>28533</th>\n",
       "      <td>GB</td>\n",
       "      <td>False</td>\n",
       "    </tr>\n",
       "    <tr>\n",
       "      <th>28534</th>\n",
       "      <td>GB</td>\n",
       "      <td>False</td>\n",
       "    </tr>\n",
       "    <tr>\n",
       "      <th>28535</th>\n",
       "      <td>GB</td>\n",
       "      <td>False</td>\n",
       "    </tr>\n",
       "  </tbody>\n",
       "</table>\n",
       "<p>28536 rows × 2 columns</p>\n",
       "</div>"
      ],
      "text/plain": [
       "      origin_country  accepted\n",
       "0                 IE     False\n",
       "1                 IE     False\n",
       "2                 IE     False\n",
       "3                 IE     False\n",
       "4                 IE     False\n",
       "...              ...       ...\n",
       "28531             KR      True\n",
       "28532             GB     False\n",
       "28533             GB     False\n",
       "28534             GB     False\n",
       "28535             GB     False\n",
       "\n",
       "[28536 rows x 2 columns]"
      ]
     },
     "execution_count": 200,
     "metadata": {},
     "output_type": "execute_result"
    }
   ],
   "source": [
    "df_country"
   ]
  },
  {
   "cell_type": "code",
   "execution_count": 201,
   "id": "d22721c4",
   "metadata": {},
   "outputs": [],
   "source": [
    "accepted_count = df_country.groupby(['origin_country', 'accepted']).agg({'origin_country':'count'})"
   ]
  },
  {
   "cell_type": "code",
   "execution_count": 202,
   "id": "487c5c41",
   "metadata": {},
   "outputs": [],
   "source": [
    "accepted_count.columns = ['count_accepted']"
   ]
  },
  {
   "cell_type": "code",
   "execution_count": 203,
   "id": "588e1566",
   "metadata": {},
   "outputs": [
    {
     "data": {
      "text/html": [
       "<div>\n",
       "<style scoped>\n",
       "    .dataframe tbody tr th:only-of-type {\n",
       "        vertical-align: middle;\n",
       "    }\n",
       "\n",
       "    .dataframe tbody tr th {\n",
       "        vertical-align: top;\n",
       "    }\n",
       "\n",
       "    .dataframe thead th {\n",
       "        text-align: right;\n",
       "    }\n",
       "</style>\n",
       "<table border=\"1\" class=\"dataframe\">\n",
       "  <thead>\n",
       "    <tr style=\"text-align: right;\">\n",
       "      <th></th>\n",
       "      <th></th>\n",
       "      <th>count_accepted</th>\n",
       "    </tr>\n",
       "    <tr>\n",
       "      <th>origin_country</th>\n",
       "      <th>accepted</th>\n",
       "      <th></th>\n",
       "    </tr>\n",
       "  </thead>\n",
       "  <tbody>\n",
       "    <tr>\n",
       "      <th rowspan=\"2\" valign=\"top\">AE</th>\n",
       "      <th>False</th>\n",
       "      <td>95</td>\n",
       "    </tr>\n",
       "    <tr>\n",
       "      <th>True</th>\n",
       "      <td>59</td>\n",
       "    </tr>\n",
       "    <tr>\n",
       "      <th rowspan=\"2\" valign=\"top\">AR</th>\n",
       "      <th>False</th>\n",
       "      <td>32</td>\n",
       "    </tr>\n",
       "    <tr>\n",
       "      <th>True</th>\n",
       "      <td>21</td>\n",
       "    </tr>\n",
       "    <tr>\n",
       "      <th>AT</th>\n",
       "      <th>False</th>\n",
       "      <td>156</td>\n",
       "    </tr>\n",
       "    <tr>\n",
       "      <th>...</th>\n",
       "      <th>...</th>\n",
       "      <td>...</td>\n",
       "    </tr>\n",
       "    <tr>\n",
       "      <th rowspan=\"2\" valign=\"top\">US</th>\n",
       "      <th>False</th>\n",
       "      <td>2248</td>\n",
       "    </tr>\n",
       "    <tr>\n",
       "      <th>True</th>\n",
       "      <td>2050</td>\n",
       "    </tr>\n",
       "    <tr>\n",
       "      <th>UZ</th>\n",
       "      <th>True</th>\n",
       "      <td>6</td>\n",
       "    </tr>\n",
       "    <tr>\n",
       "      <th rowspan=\"2\" valign=\"top\">ZA</th>\n",
       "      <th>False</th>\n",
       "      <td>29</td>\n",
       "    </tr>\n",
       "    <tr>\n",
       "      <th>True</th>\n",
       "      <td>24</td>\n",
       "    </tr>\n",
       "  </tbody>\n",
       "</table>\n",
       "<p>131 rows × 1 columns</p>\n",
       "</div>"
      ],
      "text/plain": [
       "                         count_accepted\n",
       "origin_country accepted                \n",
       "AE             False                 95\n",
       "               True                  59\n",
       "AR             False                 32\n",
       "               True                  21\n",
       "AT             False                156\n",
       "...                                 ...\n",
       "US             False               2248\n",
       "               True                2050\n",
       "UZ             True                   6\n",
       "ZA             False                 29\n",
       "               True                  24\n",
       "\n",
       "[131 rows x 1 columns]"
      ]
     },
     "execution_count": 203,
     "metadata": {},
     "output_type": "execute_result"
    }
   ],
   "source": [
    "accepted_count"
   ]
  },
  {
   "cell_type": "code",
   "execution_count": 204,
   "id": "45b8de2a",
   "metadata": {},
   "outputs": [],
   "source": [
    "acceptance_country = pd.merge(df_country, accepted_count,  how='left', on=['origin_country','accepted']) #Merge accepted count"
   ]
  },
  {
   "cell_type": "code",
   "execution_count": 205,
   "id": "68466314",
   "metadata": {},
   "outputs": [],
   "source": [
    "acceptance_country = acceptance_country.drop_duplicates()"
   ]
  },
  {
   "cell_type": "code",
   "execution_count": 206,
   "id": "90c0a7e1",
   "metadata": {},
   "outputs": [
    {
     "data": {
      "text/html": [
       "<div>\n",
       "<style scoped>\n",
       "    .dataframe tbody tr th:only-of-type {\n",
       "        vertical-align: middle;\n",
       "    }\n",
       "\n",
       "    .dataframe tbody tr th {\n",
       "        vertical-align: top;\n",
       "    }\n",
       "\n",
       "    .dataframe thead th {\n",
       "        text-align: right;\n",
       "    }\n",
       "</style>\n",
       "<table border=\"1\" class=\"dataframe\">\n",
       "  <thead>\n",
       "    <tr style=\"text-align: right;\">\n",
       "      <th></th>\n",
       "      <th>origin_country</th>\n",
       "      <th>accepted</th>\n",
       "      <th>count_accepted</th>\n",
       "    </tr>\n",
       "  </thead>\n",
       "  <tbody>\n",
       "    <tr>\n",
       "      <th>0</th>\n",
       "      <td>IE</td>\n",
       "      <td>False</td>\n",
       "      <td>1734</td>\n",
       "    </tr>\n",
       "    <tr>\n",
       "      <th>42</th>\n",
       "      <td>IE</td>\n",
       "      <td>True</td>\n",
       "      <td>1217</td>\n",
       "    </tr>\n",
       "    <tr>\n",
       "      <th>252</th>\n",
       "      <td>FR</td>\n",
       "      <td>True</td>\n",
       "      <td>1526</td>\n",
       "    </tr>\n",
       "    <tr>\n",
       "      <th>253</th>\n",
       "      <td>US</td>\n",
       "      <td>True</td>\n",
       "      <td>2050</td>\n",
       "    </tr>\n",
       "    <tr>\n",
       "      <th>259</th>\n",
       "      <td>FR</td>\n",
       "      <td>False</td>\n",
       "      <td>1706</td>\n",
       "    </tr>\n",
       "    <tr>\n",
       "      <th>...</th>\n",
       "      <td>...</td>\n",
       "      <td>...</td>\n",
       "      <td>...</td>\n",
       "    </tr>\n",
       "    <tr>\n",
       "      <th>24065</th>\n",
       "      <td>KY</td>\n",
       "      <td>False</td>\n",
       "      <td>5</td>\n",
       "    </tr>\n",
       "    <tr>\n",
       "      <th>24564</th>\n",
       "      <td>BH</td>\n",
       "      <td>False</td>\n",
       "      <td>1</td>\n",
       "    </tr>\n",
       "    <tr>\n",
       "      <th>25984</th>\n",
       "      <td>SI</td>\n",
       "      <td>False</td>\n",
       "      <td>4</td>\n",
       "    </tr>\n",
       "    <tr>\n",
       "      <th>26823</th>\n",
       "      <td>EE</td>\n",
       "      <td>True</td>\n",
       "      <td>2</td>\n",
       "    </tr>\n",
       "    <tr>\n",
       "      <th>27004</th>\n",
       "      <td>IM</td>\n",
       "      <td>False</td>\n",
       "      <td>2</td>\n",
       "    </tr>\n",
       "  </tbody>\n",
       "</table>\n",
       "<p>131 rows × 3 columns</p>\n",
       "</div>"
      ],
      "text/plain": [
       "      origin_country accepted  count_accepted\n",
       "0                 IE    False            1734\n",
       "42                IE     True            1217\n",
       "252               FR     True            1526\n",
       "253               US     True            2050\n",
       "259               FR    False            1706\n",
       "...              ...      ...             ...\n",
       "24065             KY    False               5\n",
       "24564             BH    False               1\n",
       "25984             SI    False               4\n",
       "26823             EE     True               2\n",
       "27004             IM    False               2\n",
       "\n",
       "[131 rows x 3 columns]"
      ]
     },
     "execution_count": 206,
     "metadata": {},
     "output_type": "execute_result"
    }
   ],
   "source": [
    "acceptance_country"
   ]
  },
  {
   "cell_type": "code",
   "execution_count": 207,
   "id": "a1590eb7",
   "metadata": {},
   "outputs": [],
   "source": [
    "#Find the total bookings per country\n",
    "country_count = df_country.groupby(['origin_country']).agg({'origin_country':'count'})\n",
    "country_count.columns = ['count_country']"
   ]
  },
  {
   "cell_type": "code",
   "execution_count": 208,
   "id": "588a5eea",
   "metadata": {},
   "outputs": [
    {
     "data": {
      "text/html": [
       "<div>\n",
       "<style scoped>\n",
       "    .dataframe tbody tr th:only-of-type {\n",
       "        vertical-align: middle;\n",
       "    }\n",
       "\n",
       "    .dataframe tbody tr th {\n",
       "        vertical-align: top;\n",
       "    }\n",
       "\n",
       "    .dataframe thead th {\n",
       "        text-align: right;\n",
       "    }\n",
       "</style>\n",
       "<table border=\"1\" class=\"dataframe\">\n",
       "  <thead>\n",
       "    <tr style=\"text-align: right;\">\n",
       "      <th></th>\n",
       "      <th>count_country</th>\n",
       "    </tr>\n",
       "    <tr>\n",
       "      <th>origin_country</th>\n",
       "      <th></th>\n",
       "    </tr>\n",
       "  </thead>\n",
       "  <tbody>\n",
       "    <tr>\n",
       "      <th>AE</th>\n",
       "      <td>154</td>\n",
       "    </tr>\n",
       "    <tr>\n",
       "      <th>AR</th>\n",
       "      <td>53</td>\n",
       "    </tr>\n",
       "    <tr>\n",
       "      <th>AT</th>\n",
       "      <td>239</td>\n",
       "    </tr>\n",
       "    <tr>\n",
       "      <th>AU</th>\n",
       "      <td>590</td>\n",
       "    </tr>\n",
       "    <tr>\n",
       "      <th>BB</th>\n",
       "      <td>3</td>\n",
       "    </tr>\n",
       "    <tr>\n",
       "      <th>...</th>\n",
       "      <td>...</td>\n",
       "    </tr>\n",
       "    <tr>\n",
       "      <th>TW</th>\n",
       "      <td>59</td>\n",
       "    </tr>\n",
       "    <tr>\n",
       "      <th>UA</th>\n",
       "      <td>57</td>\n",
       "    </tr>\n",
       "    <tr>\n",
       "      <th>US</th>\n",
       "      <td>4298</td>\n",
       "    </tr>\n",
       "    <tr>\n",
       "      <th>UZ</th>\n",
       "      <td>6</td>\n",
       "    </tr>\n",
       "    <tr>\n",
       "      <th>ZA</th>\n",
       "      <td>53</td>\n",
       "    </tr>\n",
       "  </tbody>\n",
       "</table>\n",
       "<p>72 rows × 1 columns</p>\n",
       "</div>"
      ],
      "text/plain": [
       "                count_country\n",
       "origin_country               \n",
       "AE                        154\n",
       "AR                         53\n",
       "AT                        239\n",
       "AU                        590\n",
       "BB                          3\n",
       "...                       ...\n",
       "TW                         59\n",
       "UA                         57\n",
       "US                       4298\n",
       "UZ                          6\n",
       "ZA                         53\n",
       "\n",
       "[72 rows x 1 columns]"
      ]
     },
     "execution_count": 208,
     "metadata": {},
     "output_type": "execute_result"
    }
   ],
   "source": [
    "country_count"
   ]
  },
  {
   "cell_type": "code",
   "execution_count": 209,
   "id": "6f352caf",
   "metadata": {},
   "outputs": [],
   "source": [
    "acceptance_country = pd.merge(acceptance_country, country_count, how='left', on=['origin_country'])\n",
    "acceptance_country = acceptance_country.sort_values(['count_country', 'accepted'], ascending = [False, True])\n",
    "acceptance_country = acceptance_country[acceptance_country['accepted'] == True]"
   ]
  },
  {
   "cell_type": "code",
   "execution_count": 210,
   "id": "07d857a3",
   "metadata": {},
   "outputs": [
    {
     "data": {
      "text/html": [
       "<div>\n",
       "<style scoped>\n",
       "    .dataframe tbody tr th:only-of-type {\n",
       "        vertical-align: middle;\n",
       "    }\n",
       "\n",
       "    .dataframe tbody tr th {\n",
       "        vertical-align: top;\n",
       "    }\n",
       "\n",
       "    .dataframe thead th {\n",
       "        text-align: right;\n",
       "    }\n",
       "</style>\n",
       "<table border=\"1\" class=\"dataframe\">\n",
       "  <thead>\n",
       "    <tr style=\"text-align: right;\">\n",
       "      <th></th>\n",
       "      <th>origin_country</th>\n",
       "      <th>accepted</th>\n",
       "      <th>count_accepted</th>\n",
       "      <th>count_country</th>\n",
       "    </tr>\n",
       "  </thead>\n",
       "  <tbody>\n",
       "    <tr>\n",
       "      <th>3</th>\n",
       "      <td>US</td>\n",
       "      <td>True</td>\n",
       "      <td>2050</td>\n",
       "      <td>4298</td>\n",
       "    </tr>\n",
       "    <tr>\n",
       "      <th>11</th>\n",
       "      <td>GB</td>\n",
       "      <td>True</td>\n",
       "      <td>1610</td>\n",
       "      <td>3667</td>\n",
       "    </tr>\n",
       "    <tr>\n",
       "      <th>2</th>\n",
       "      <td>FR</td>\n",
       "      <td>True</td>\n",
       "      <td>1526</td>\n",
       "      <td>3232</td>\n",
       "    </tr>\n",
       "    <tr>\n",
       "      <th>5</th>\n",
       "      <td>IT</td>\n",
       "      <td>True</td>\n",
       "      <td>1183</td>\n",
       "      <td>3137</td>\n",
       "    </tr>\n",
       "    <tr>\n",
       "      <th>1</th>\n",
       "      <td>IE</td>\n",
       "      <td>True</td>\n",
       "      <td>1217</td>\n",
       "      <td>2951</td>\n",
       "    </tr>\n",
       "    <tr>\n",
       "      <th>...</th>\n",
       "      <td>...</td>\n",
       "      <td>...</td>\n",
       "      <td>...</td>\n",
       "      <td>...</td>\n",
       "    </tr>\n",
       "    <tr>\n",
       "      <th>92</th>\n",
       "      <td>LS</td>\n",
       "      <td>True</td>\n",
       "      <td>2</td>\n",
       "      <td>2</td>\n",
       "    </tr>\n",
       "    <tr>\n",
       "      <th>129</th>\n",
       "      <td>EE</td>\n",
       "      <td>True</td>\n",
       "      <td>2</td>\n",
       "      <td>2</td>\n",
       "    </tr>\n",
       "    <tr>\n",
       "      <th>66</th>\n",
       "      <td>ET</td>\n",
       "      <td>True</td>\n",
       "      <td>1</td>\n",
       "      <td>1</td>\n",
       "    </tr>\n",
       "    <tr>\n",
       "      <th>86</th>\n",
       "      <td>RE</td>\n",
       "      <td>True</td>\n",
       "      <td>1</td>\n",
       "      <td>1</td>\n",
       "    </tr>\n",
       "    <tr>\n",
       "      <th>120</th>\n",
       "      <td>EC</td>\n",
       "      <td>True</td>\n",
       "      <td>1</td>\n",
       "      <td>1</td>\n",
       "    </tr>\n",
       "  </tbody>\n",
       "</table>\n",
       "<p>67 rows × 4 columns</p>\n",
       "</div>"
      ],
      "text/plain": [
       "    origin_country accepted  count_accepted  count_country\n",
       "3               US     True            2050           4298\n",
       "11              GB     True            1610           3667\n",
       "2               FR     True            1526           3232\n",
       "5               IT     True            1183           3137\n",
       "1               IE     True            1217           2951\n",
       "..             ...      ...             ...            ...\n",
       "92              LS     True               2              2\n",
       "129             EE     True               2              2\n",
       "66              ET     True               1              1\n",
       "86              RE     True               1              1\n",
       "120             EC     True               1              1\n",
       "\n",
       "[67 rows x 4 columns]"
      ]
     },
     "execution_count": 210,
     "metadata": {},
     "output_type": "execute_result"
    }
   ],
   "source": [
    "acceptance_country"
   ]
  },
  {
   "cell_type": "markdown",
   "id": "e9c61bf0",
   "metadata": {},
   "source": [
    "Let's focus on the country that has more than 100 bookings"
   ]
  },
  {
   "cell_type": "code",
   "execution_count": 211,
   "id": "b23b0686",
   "metadata": {},
   "outputs": [],
   "source": [
    "acceptance_country = acceptance_country[acceptance_country['count_country'] >= 100] "
   ]
  },
  {
   "cell_type": "code",
   "execution_count": 212,
   "id": "6914d0c4",
   "metadata": {},
   "outputs": [
    {
     "data": {
      "text/html": [
       "<div>\n",
       "<style scoped>\n",
       "    .dataframe tbody tr th:only-of-type {\n",
       "        vertical-align: middle;\n",
       "    }\n",
       "\n",
       "    .dataframe tbody tr th {\n",
       "        vertical-align: top;\n",
       "    }\n",
       "\n",
       "    .dataframe thead th {\n",
       "        text-align: right;\n",
       "    }\n",
       "</style>\n",
       "<table border=\"1\" class=\"dataframe\">\n",
       "  <thead>\n",
       "    <tr style=\"text-align: right;\">\n",
       "      <th></th>\n",
       "      <th>origin_country</th>\n",
       "      <th>accepted</th>\n",
       "      <th>count_accepted</th>\n",
       "      <th>count_country</th>\n",
       "    </tr>\n",
       "  </thead>\n",
       "  <tbody>\n",
       "    <tr>\n",
       "      <th>3</th>\n",
       "      <td>US</td>\n",
       "      <td>True</td>\n",
       "      <td>2050</td>\n",
       "      <td>4298</td>\n",
       "    </tr>\n",
       "    <tr>\n",
       "      <th>11</th>\n",
       "      <td>GB</td>\n",
       "      <td>True</td>\n",
       "      <td>1610</td>\n",
       "      <td>3667</td>\n",
       "    </tr>\n",
       "    <tr>\n",
       "      <th>2</th>\n",
       "      <td>FR</td>\n",
       "      <td>True</td>\n",
       "      <td>1526</td>\n",
       "      <td>3232</td>\n",
       "    </tr>\n",
       "    <tr>\n",
       "      <th>5</th>\n",
       "      <td>IT</td>\n",
       "      <td>True</td>\n",
       "      <td>1183</td>\n",
       "      <td>3137</td>\n",
       "    </tr>\n",
       "    <tr>\n",
       "      <th>1</th>\n",
       "      <td>IE</td>\n",
       "      <td>True</td>\n",
       "      <td>1217</td>\n",
       "      <td>2951</td>\n",
       "    </tr>\n",
       "    <tr>\n",
       "      <th>25</th>\n",
       "      <td>ES</td>\n",
       "      <td>True</td>\n",
       "      <td>794</td>\n",
       "      <td>1914</td>\n",
       "    </tr>\n",
       "    <tr>\n",
       "      <th>8</th>\n",
       "      <td>DE</td>\n",
       "      <td>True</td>\n",
       "      <td>745</td>\n",
       "      <td>1535</td>\n",
       "    </tr>\n",
       "    <tr>\n",
       "      <th>32</th>\n",
       "      <td>CA</td>\n",
       "      <td>True</td>\n",
       "      <td>407</td>\n",
       "      <td>993</td>\n",
       "    </tr>\n",
       "    <tr>\n",
       "      <th>35</th>\n",
       "      <td>IN</td>\n",
       "      <td>True</td>\n",
       "      <td>138</td>\n",
       "      <td>874</td>\n",
       "    </tr>\n",
       "    <tr>\n",
       "      <th>19</th>\n",
       "      <td>AU</td>\n",
       "      <td>True</td>\n",
       "      <td>268</td>\n",
       "      <td>590</td>\n",
       "    </tr>\n",
       "    <tr>\n",
       "      <th>33</th>\n",
       "      <td>CH</td>\n",
       "      <td>True</td>\n",
       "      <td>279</td>\n",
       "      <td>585</td>\n",
       "    </tr>\n",
       "    <tr>\n",
       "      <th>52</th>\n",
       "      <td>HR</td>\n",
       "      <td>True</td>\n",
       "      <td>159</td>\n",
       "      <td>530</td>\n",
       "    </tr>\n",
       "    <tr>\n",
       "      <th>27</th>\n",
       "      <td>BR</td>\n",
       "      <td>True</td>\n",
       "      <td>215</td>\n",
       "      <td>482</td>\n",
       "    </tr>\n",
       "    <tr>\n",
       "      <th>18</th>\n",
       "      <td>NL</td>\n",
       "      <td>True</td>\n",
       "      <td>212</td>\n",
       "      <td>433</td>\n",
       "    </tr>\n",
       "    <tr>\n",
       "      <th>12</th>\n",
       "      <td>BE</td>\n",
       "      <td>True</td>\n",
       "      <td>134</td>\n",
       "      <td>304</td>\n",
       "    </tr>\n",
       "    <tr>\n",
       "      <th>54</th>\n",
       "      <td>RU</td>\n",
       "      <td>True</td>\n",
       "      <td>83</td>\n",
       "      <td>239</td>\n",
       "    </tr>\n",
       "    <tr>\n",
       "      <th>68</th>\n",
       "      <td>AT</td>\n",
       "      <td>True</td>\n",
       "      <td>83</td>\n",
       "      <td>239</td>\n",
       "    </tr>\n",
       "    <tr>\n",
       "      <th>21</th>\n",
       "      <td>SG</td>\n",
       "      <td>True</td>\n",
       "      <td>115</td>\n",
       "      <td>232</td>\n",
       "    </tr>\n",
       "    <tr>\n",
       "      <th>70</th>\n",
       "      <td>PT</td>\n",
       "      <td>True</td>\n",
       "      <td>101</td>\n",
       "      <td>203</td>\n",
       "    </tr>\n",
       "    <tr>\n",
       "      <th>117</th>\n",
       "      <td>CR</td>\n",
       "      <td>True</td>\n",
       "      <td>82</td>\n",
       "      <td>188</td>\n",
       "    </tr>\n",
       "    <tr>\n",
       "      <th>60</th>\n",
       "      <td>AE</td>\n",
       "      <td>True</td>\n",
       "      <td>59</td>\n",
       "      <td>154</td>\n",
       "    </tr>\n",
       "    <tr>\n",
       "      <th>24</th>\n",
       "      <td>DK</td>\n",
       "      <td>True</td>\n",
       "      <td>86</td>\n",
       "      <td>125</td>\n",
       "    </tr>\n",
       "    <tr>\n",
       "      <th>82</th>\n",
       "      <td>RO</td>\n",
       "      <td>True</td>\n",
       "      <td>50</td>\n",
       "      <td>118</td>\n",
       "    </tr>\n",
       "  </tbody>\n",
       "</table>\n",
       "</div>"
      ],
      "text/plain": [
       "    origin_country accepted  count_accepted  count_country\n",
       "3               US     True            2050           4298\n",
       "11              GB     True            1610           3667\n",
       "2               FR     True            1526           3232\n",
       "5               IT     True            1183           3137\n",
       "1               IE     True            1217           2951\n",
       "25              ES     True             794           1914\n",
       "8               DE     True             745           1535\n",
       "32              CA     True             407            993\n",
       "35              IN     True             138            874\n",
       "19              AU     True             268            590\n",
       "33              CH     True             279            585\n",
       "52              HR     True             159            530\n",
       "27              BR     True             215            482\n",
       "18              NL     True             212            433\n",
       "12              BE     True             134            304\n",
       "54              RU     True              83            239\n",
       "68              AT     True              83            239\n",
       "21              SG     True             115            232\n",
       "70              PT     True             101            203\n",
       "117             CR     True              82            188\n",
       "60              AE     True              59            154\n",
       "24              DK     True              86            125\n",
       "82              RO     True              50            118"
      ]
     },
     "execution_count": 212,
     "metadata": {},
     "output_type": "execute_result"
    }
   ],
   "source": [
    "acceptance_country"
   ]
  },
  {
   "cell_type": "markdown",
   "id": "bbed9812",
   "metadata": {},
   "source": [
    "Let's calculate the acceptance rate"
   ]
  },
  {
   "cell_type": "code",
   "execution_count": 213,
   "id": "b8f9d8ca",
   "metadata": {},
   "outputs": [
    {
     "name": "stderr",
     "output_type": "stream",
     "text": [
      "<ipython-input-213-d1161f449359>:1: SettingWithCopyWarning: \n",
      "A value is trying to be set on a copy of a slice from a DataFrame.\n",
      "Try using .loc[row_indexer,col_indexer] = value instead\n",
      "\n",
      "See the caveats in the documentation: https://pandas.pydata.org/pandas-docs/stable/user_guide/indexing.html#returning-a-view-versus-a-copy\n",
      "  acceptance_country['acceptance_rate'] = acceptance_country['count_accepted']/acceptance_country['count_country']\n"
     ]
    },
    {
     "data": {
      "text/html": [
       "<div>\n",
       "<style scoped>\n",
       "    .dataframe tbody tr th:only-of-type {\n",
       "        vertical-align: middle;\n",
       "    }\n",
       "\n",
       "    .dataframe tbody tr th {\n",
       "        vertical-align: top;\n",
       "    }\n",
       "\n",
       "    .dataframe thead th {\n",
       "        text-align: right;\n",
       "    }\n",
       "</style>\n",
       "<table border=\"1\" class=\"dataframe\">\n",
       "  <thead>\n",
       "    <tr style=\"text-align: right;\">\n",
       "      <th></th>\n",
       "      <th>origin_country</th>\n",
       "      <th>accepted</th>\n",
       "      <th>count_accepted</th>\n",
       "      <th>count_country</th>\n",
       "      <th>acceptance_rate</th>\n",
       "    </tr>\n",
       "  </thead>\n",
       "  <tbody>\n",
       "    <tr>\n",
       "      <th>35</th>\n",
       "      <td>IN</td>\n",
       "      <td>True</td>\n",
       "      <td>138</td>\n",
       "      <td>874</td>\n",
       "      <td>0.157895</td>\n",
       "    </tr>\n",
       "    <tr>\n",
       "      <th>52</th>\n",
       "      <td>HR</td>\n",
       "      <td>True</td>\n",
       "      <td>159</td>\n",
       "      <td>530</td>\n",
       "      <td>0.300000</td>\n",
       "    </tr>\n",
       "    <tr>\n",
       "      <th>68</th>\n",
       "      <td>AT</td>\n",
       "      <td>True</td>\n",
       "      <td>83</td>\n",
       "      <td>239</td>\n",
       "      <td>0.347280</td>\n",
       "    </tr>\n",
       "    <tr>\n",
       "      <th>54</th>\n",
       "      <td>RU</td>\n",
       "      <td>True</td>\n",
       "      <td>83</td>\n",
       "      <td>239</td>\n",
       "      <td>0.347280</td>\n",
       "    </tr>\n",
       "    <tr>\n",
       "      <th>5</th>\n",
       "      <td>IT</td>\n",
       "      <td>True</td>\n",
       "      <td>1183</td>\n",
       "      <td>3137</td>\n",
       "      <td>0.377112</td>\n",
       "    </tr>\n",
       "    <tr>\n",
       "      <th>60</th>\n",
       "      <td>AE</td>\n",
       "      <td>True</td>\n",
       "      <td>59</td>\n",
       "      <td>154</td>\n",
       "      <td>0.383117</td>\n",
       "    </tr>\n",
       "    <tr>\n",
       "      <th>32</th>\n",
       "      <td>CA</td>\n",
       "      <td>True</td>\n",
       "      <td>407</td>\n",
       "      <td>993</td>\n",
       "      <td>0.409869</td>\n",
       "    </tr>\n",
       "    <tr>\n",
       "      <th>1</th>\n",
       "      <td>IE</td>\n",
       "      <td>True</td>\n",
       "      <td>1217</td>\n",
       "      <td>2951</td>\n",
       "      <td>0.412403</td>\n",
       "    </tr>\n",
       "    <tr>\n",
       "      <th>25</th>\n",
       "      <td>ES</td>\n",
       "      <td>True</td>\n",
       "      <td>794</td>\n",
       "      <td>1914</td>\n",
       "      <td>0.414838</td>\n",
       "    </tr>\n",
       "    <tr>\n",
       "      <th>82</th>\n",
       "      <td>RO</td>\n",
       "      <td>True</td>\n",
       "      <td>50</td>\n",
       "      <td>118</td>\n",
       "      <td>0.423729</td>\n",
       "    </tr>\n",
       "    <tr>\n",
       "      <th>117</th>\n",
       "      <td>CR</td>\n",
       "      <td>True</td>\n",
       "      <td>82</td>\n",
       "      <td>188</td>\n",
       "      <td>0.436170</td>\n",
       "    </tr>\n",
       "    <tr>\n",
       "      <th>11</th>\n",
       "      <td>GB</td>\n",
       "      <td>True</td>\n",
       "      <td>1610</td>\n",
       "      <td>3667</td>\n",
       "      <td>0.439051</td>\n",
       "    </tr>\n",
       "    <tr>\n",
       "      <th>12</th>\n",
       "      <td>BE</td>\n",
       "      <td>True</td>\n",
       "      <td>134</td>\n",
       "      <td>304</td>\n",
       "      <td>0.440789</td>\n",
       "    </tr>\n",
       "    <tr>\n",
       "      <th>27</th>\n",
       "      <td>BR</td>\n",
       "      <td>True</td>\n",
       "      <td>215</td>\n",
       "      <td>482</td>\n",
       "      <td>0.446058</td>\n",
       "    </tr>\n",
       "    <tr>\n",
       "      <th>19</th>\n",
       "      <td>AU</td>\n",
       "      <td>True</td>\n",
       "      <td>268</td>\n",
       "      <td>590</td>\n",
       "      <td>0.454237</td>\n",
       "    </tr>\n",
       "    <tr>\n",
       "      <th>2</th>\n",
       "      <td>FR</td>\n",
       "      <td>True</td>\n",
       "      <td>1526</td>\n",
       "      <td>3232</td>\n",
       "      <td>0.472153</td>\n",
       "    </tr>\n",
       "    <tr>\n",
       "      <th>33</th>\n",
       "      <td>CH</td>\n",
       "      <td>True</td>\n",
       "      <td>279</td>\n",
       "      <td>585</td>\n",
       "      <td>0.476923</td>\n",
       "    </tr>\n",
       "    <tr>\n",
       "      <th>3</th>\n",
       "      <td>US</td>\n",
       "      <td>True</td>\n",
       "      <td>2050</td>\n",
       "      <td>4298</td>\n",
       "      <td>0.476966</td>\n",
       "    </tr>\n",
       "    <tr>\n",
       "      <th>8</th>\n",
       "      <td>DE</td>\n",
       "      <td>True</td>\n",
       "      <td>745</td>\n",
       "      <td>1535</td>\n",
       "      <td>0.485342</td>\n",
       "    </tr>\n",
       "    <tr>\n",
       "      <th>18</th>\n",
       "      <td>NL</td>\n",
       "      <td>True</td>\n",
       "      <td>212</td>\n",
       "      <td>433</td>\n",
       "      <td>0.489607</td>\n",
       "    </tr>\n",
       "    <tr>\n",
       "      <th>21</th>\n",
       "      <td>SG</td>\n",
       "      <td>True</td>\n",
       "      <td>115</td>\n",
       "      <td>232</td>\n",
       "      <td>0.495690</td>\n",
       "    </tr>\n",
       "    <tr>\n",
       "      <th>70</th>\n",
       "      <td>PT</td>\n",
       "      <td>True</td>\n",
       "      <td>101</td>\n",
       "      <td>203</td>\n",
       "      <td>0.497537</td>\n",
       "    </tr>\n",
       "    <tr>\n",
       "      <th>24</th>\n",
       "      <td>DK</td>\n",
       "      <td>True</td>\n",
       "      <td>86</td>\n",
       "      <td>125</td>\n",
       "      <td>0.688000</td>\n",
       "    </tr>\n",
       "  </tbody>\n",
       "</table>\n",
       "</div>"
      ],
      "text/plain": [
       "    origin_country accepted  count_accepted  count_country  acceptance_rate\n",
       "35              IN     True             138            874         0.157895\n",
       "52              HR     True             159            530         0.300000\n",
       "68              AT     True              83            239         0.347280\n",
       "54              RU     True              83            239         0.347280\n",
       "5               IT     True            1183           3137         0.377112\n",
       "60              AE     True              59            154         0.383117\n",
       "32              CA     True             407            993         0.409869\n",
       "1               IE     True            1217           2951         0.412403\n",
       "25              ES     True             794           1914         0.414838\n",
       "82              RO     True              50            118         0.423729\n",
       "117             CR     True              82            188         0.436170\n",
       "11              GB     True            1610           3667         0.439051\n",
       "12              BE     True             134            304         0.440789\n",
       "27              BR     True             215            482         0.446058\n",
       "19              AU     True             268            590         0.454237\n",
       "2               FR     True            1526           3232         0.472153\n",
       "33              CH     True             279            585         0.476923\n",
       "3               US     True            2050           4298         0.476966\n",
       "8               DE     True             745           1535         0.485342\n",
       "18              NL     True             212            433         0.489607\n",
       "21              SG     True             115            232         0.495690\n",
       "70              PT     True             101            203         0.497537\n",
       "24              DK     True              86            125         0.688000"
      ]
     },
     "execution_count": 213,
     "metadata": {},
     "output_type": "execute_result"
    }
   ],
   "source": [
    "acceptance_country['acceptance_rate'] = acceptance_country['count_accepted']/acceptance_country['count_country']\n",
    "acceptance_country.sort_values(['acceptance_rate'], ascending = True)"
   ]
  },
  {
   "cell_type": "markdown",
   "id": "ac3a1184",
   "metadata": {},
   "source": [
    "The acceptance rate are fairly similar for the users from different countries, which is around 40-50 percent. However users from India has lower acceptance rate which is around 15%. It is important to do a further deep dive because it might be caused by booking accomodation during peak dates, the number of guests, or other factors."
   ]
  }
 ],
 "metadata": {
  "kernelspec": {
   "display_name": "Python 3",
   "language": "python",
   "name": "python3"
  },
  "language_info": {
   "codemirror_mode": {
    "name": "ipython",
    "version": 3
   },
   "file_extension": ".py",
   "mimetype": "text/x-python",
   "name": "python",
   "nbconvert_exporter": "python",
   "pygments_lexer": "ipython3",
   "version": "3.8.8"
  }
 },
 "nbformat": 4,
 "nbformat_minor": 5
}
